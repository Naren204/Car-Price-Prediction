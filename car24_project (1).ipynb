{
 "cells": [
  {
   "cell_type": "code",
   "execution_count": 1,
   "metadata": {
    "ExecuteTime": {
     "end_time": "2021-02-20T16:21:03.220429Z",
     "start_time": "2021-02-20T15:23:09.965Z"
    }
   },
   "outputs": [],
   "source": [
    "import requests\n",
    "from bs4 import BeautifulSoup\n",
    "import pandas as pd\n",
    "import numpy as np\n",
    "pd.options.display.max_rows = 100"
   ]
  },
  {
   "cell_type": "code",
   "execution_count": 2,
   "metadata": {
    "ExecuteTime": {
     "end_time": "2021-02-20T13:03:45.226860Z",
     "start_time": "2021-02-20T12:57:47.812533Z"
    }
   },
   "outputs": [
    {
     "name": "stdout",
     "output_type": "stream",
     "text": [
      "['https://www.cars24.com/buy-used-Tata-Nano-2014-cars-New-Delhi-1003048223/', 'https://www.cars24.com/buy-used-Maruti-Celerio-2016-cars-New-Delhi-1005258024/', 'https://www.cars24.com/buy-used-Maruti-Wagon-R-1.0-2011-cars-New-Delhi-1003333729/', 'https://www.cars24.com/buy-used-Hyundai-Santro-Xing-2010-cars-New-Delhi-1019093822/', 'https://www.cars24.com/buy-used-Maruti-Alto-K10-2016-cars-New-Delhi-1000853824/', 'https://www.cars24.com/buy-used-Maruti-Ertiga-2013-cars-New-Delhi-1003973725/', 'https://www.cars24.com/buy-used-Maruti-Alto-K10-2011-cars-New-Delhi-1001336539/', 'https://www.cars24.com/buy-used-Maruti-Alto-800-2013-cars-New-Delhi-1008368621/', 'https://www.cars24.com/buy-used-Maruti-Ritz-2012-cars-New-Delhi-1001025723/', 'https://www.cars24.com/buy-used-Maruti-Celerio-2018-cars-New-Delhi-1000063722/', 'https://www.cars24.com/buy-used-Hyundai-i10-2011-cars-New-Delhi-1014198725/', 'https://www.cars24.com/buy-used-Maruti-Wagon-R-1.0-2018-cars-New-Delhi-1005572735/', 'https://www.cars24.com/buy-used-Maruti-Ritz-2013-cars-New-Delhi-1005129321/', 'https://www.cars24.com/buy-used-Hyundai-i10-2014-cars-New-Delhi-1008815025/', 'https://www.cars24.com/buy-used-Datsun-Redi-Go-2016-cars-New-Delhi-1005720939/', 'https://www.cars24.com/buy-used-Honda-Brio-2014-cars-New-Delhi-1054985527/', 'https://www.cars24.com/buy-used-Datsun-Redi-Go-2017-cars-New-Delhi-1003293630/', 'https://www.cars24.com/buy-used-Maruti-Baleno-2017-cars-New-Delhi-1124586788/', 'https://www.cars24.com/buy-used-Hyundai-i20-2012-cars-New-Delhi-1054659624/', 'https://www.cars24.com/buy-used-Tata-Tiago-2018-cars-New-Delhi-1004303724/', 'https://www.cars24.com/buy-used-Maruti-Swift-2019-cars-New-Delhi-1000273028/', 'https://www.cars24.com/buy-used-Maruti-Swift-2013-cars-New-Delhi-1007345320/', 'https://www.cars24.com/buy-used-Hyundai-Grand-i10-2014-cars-New-Delhi-1006307429/', 'https://www.cars24.com/buy-used-Honda-Amaze-2016-cars-New-Delhi-1059568427/', 'https://www.cars24.com/buy-used-Hyundai-i20-2011-cars-New-Delhi-1008183429/', 'https://www.cars24.com/buy-used-Maruti-Swift-Dzire-2012-cars-New-Delhi-1003882825/', 'https://www.cars24.com/buy-used-Maruti-Swift-2015-cars-New-Delhi-1004431927/', 'https://www.cars24.com/buy-used-Maruti-Alto-2010-cars-New-Delhi-1124081821/', 'https://www.cars24.com/buy-used-Hyundai-Verna-2013-cars-New-Delhi-1006077020/', 'https://www.cars24.com/buy-used-Hyundai-Verna-2013-cars-New-Delhi-1007971824/', 'https://www.cars24.com/buy-used-Maruti-Alto-2011-cars-New-Delhi-1002756830/', 'https://www.cars24.com/buy-used-Maruti-Alto-800-2016-cars-New-Delhi-1002278722/', 'https://www.cars24.com/buy-used-Hyundai-Verna-2012-cars-New-Delhi-1000580534/', 'https://www.cars24.com/buy-used-Maruti-Alto-800-2018-cars-New-Delhi-1007766035/', 'https://www.cars24.com/buy-used-Toyota-Etios-2012-cars-New-Delhi-1000489425/', 'https://www.cars24.com/buy-used-Hyundai-Elite-i20-2015-cars-New-Delhi-1006876338/', 'https://www.cars24.com/buy-used-Maruti-Swift-Dzire-2015-cars-New-Delhi-1001578128/', 'https://www.cars24.com/buy-used-Maruti-Swift-2013-cars-New-Delhi-1002093727/', 'https://www.cars24.com/buy-used-Maruti-Wagon-R-1.0-2011-cars-New-Delhi-1008289437/', 'https://www.cars24.com/buy-used-Tata-Tiago-2018-cars-New-Delhi-1002310737/', 'https://www.cars24.com/buy-used-Ford-Figo-2010-cars-New-Delhi-1126923523/', 'https://www.cars24.com/buy-used-Maruti-Alto-800-2014-cars-New-Delhi-1005268225/', 'https://www.cars24.com/buy-used-Hyundai-Grand-i10-2014-cars-New-Delhi-1004418923/', 'https://www.cars24.com/buy-used-Maruti-Wagon-R-1.0-2015-cars-New-Delhi-1004435525/', 'https://www.cars24.com/buy-used-Maruti-Dzire-2017-cars-New-Delhi-1105683029/', 'https://www.cars24.com/buy-used-Maruti-Alto-K10-2017-cars-New-Delhi-1127868329/', 'https://www.cars24.com/buy-used-Maruti-Swift-Dzire-2012-cars-New-Delhi-1008451320/', 'https://www.cars24.com/buy-used-Maruti-Wagon-R-1.0-2018-cars-New-Delhi-1008715721/', 'https://www.cars24.com/buy-used-Maruti-Wagon-R-1.0-2013-cars-New-Delhi-1008215426/', 'https://www.cars24.com/buy-used-Hyundai-Elite-i20-2017-cars-New-Delhi-1002958820/', 'https://www.cars24.com/buy-used-Hyundai-Grand-i10-2016-cars-New-Delhi-1120914031/', 'https://www.cars24.com/buy-used-Renault-Kwid-2018-cars-New-Delhi-1001655922/', 'https://www.cars24.com/buy-used-Maruti-Swift-2013-cars-New-Delhi-1124642338/', 'https://www.cars24.com/buy-used-Maruti-Swift-2015-cars-New-Delhi-1006177130/', 'https://www.cars24.com/buy-used-Tata-Tiago-2016-cars-New-Delhi-1002248029/', 'https://www.cars24.com/buy-used-Renault-Kwid-2017-cars-New-Delhi-1009708429/', 'https://www.cars24.com/buy-used-Hyundai-i20-2010-cars-New-Delhi-1015818627/', 'https://www.cars24.com/buy-used-Volkswagen-Polo-2013-cars-New-Delhi-1002625921/', 'https://www.cars24.com/buy-used-Volkswagen-Polo-2016-cars-New-Delhi-1000265122/', 'https://www.cars24.com/buy-used-Volkswagen-Vento-2013-cars-New-Delhi-1120921626/', 'https://www.cars24.com/buy-used-Maruti-Celerio-2014-cars-New-Delhi-1003851026/', 'https://www.cars24.com/buy-used-Honda-Jazz-2018-cars-New-Delhi-1009283227/', 'https://www.cars24.com/buy-used-Hyundai-Verna-2014-cars-New-Delhi-1017991321/', 'https://www.cars24.com/buy-used-Maruti-Swift-2014-cars-New-Delhi-1003621829/', 'https://www.cars24.com/buy-used-Mahindra-XUV500-2012-cars-New-Delhi-1009029730/', 'https://www.cars24.com/buy-used-Maruti-Baleno-2016-cars-New-Delhi-1006816233/', 'https://www.cars24.com/buy-used-Hyundai-Grand-i10-2017-cars-New-Delhi-1005729625/', 'https://www.cars24.com/buy-used-Maruti-Alto-K10-2018-cars-New-Delhi-1008585429/', 'https://www.cars24.com/buy-used-Maruti-Ritz-2015-cars-New-Delhi-1005266933/', 'https://www.cars24.com/buy-used-Hyundai-Grand-i10-2015-cars-New-Delhi-1008695322/', 'https://www.cars24.com/buy-used-Maruti-Baleno-2016-cars-New-Delhi-1009516837/', 'https://www.cars24.com/buy-used-Renault-Kwid-2016-cars-New-Delhi-1019967426/', 'https://www.cars24.com/buy-used-Maruti-A-Star-2008-cars-New-Delhi-1004518126/', 'https://www.cars24.com/buy-used-Maruti-Dzire-2017-cars-New-Delhi-1053221086/', 'https://www.cars24.com/buy-used-Maruti-Wagon-R-1.0-2015-cars-New-Delhi-1121803524/', 'https://www.cars24.com/buy-used-Maruti-Celerio-2016-cars-New-Delhi-1007204130/', 'https://www.cars24.com/buy-used-Hyundai-Elite-i20-2015-cars-New-Delhi-1000445324/', 'https://www.cars24.com/buy-used-Honda-Brio-2013-cars-New-Delhi-1003225223/', 'https://www.cars24.com/buy-used-Hyundai-Elite-i20-2015-cars-New-Delhi-1001092631/', 'https://www.cars24.com/buy-used-Toyota-Etios-Liva-2012-cars-New-Delhi-1005516132/', 'https://www.cars24.com/buy-used-Honda-City-2010-cars-New-Delhi-1000503329/', 'https://www.cars24.com/buy-used-Maruti-New--Wagon-R-2020-cars-New-Delhi-1001653622/', 'https://www.cars24.com/buy-used-Maruti-Ritz-2013-cars-New-Delhi-1005370737/', 'https://www.cars24.com/buy-used-Maruti-Dzire-2017-cars-New-Delhi-1007209320/', 'https://www.cars24.com/buy-used-Maruti-Swift-Dzire-2012-cars-New-Delhi-1001328224/', 'https://www.cars24.com/buy-used-Maruti-Baleno-2016-cars-New-Delhi-1001890331/', 'https://www.cars24.com/buy-used-Maruti-Baleno-2016-cars-New-Delhi-1005937130/', 'https://www.cars24.com/buy-used-Maruti-New--Wagon-R-2019-cars-New-Delhi-1008835120/', 'https://www.cars24.com/buy-used-Maruti-Vitara-Brezza-2016-cars-New-Delhi-1006240431/', 'https://www.cars24.com/buy-used-Maruti-Eeco-2017-cars-New-Delhi-1006641120/', 'https://www.cars24.com/buy-used-Maruti-Swift-Dzire-2013-cars-New-Delhi-1001835429/', 'https://www.cars24.com/buy-used-Volkswagen-Vento-2013-cars-New-Delhi-1008693729/', 'https://www.cars24.com/buy-used-Honda-Brio-2014-cars-New-Delhi-1008636434/', 'https://www.cars24.com/buy-used-Maruti-Ritz-2012-cars-New-Delhi-1005976939/', 'https://www.cars24.com/buy-used-Hyundai-Grand-i10-2013-cars-New-Delhi-1123442930/', 'https://www.cars24.com/buy-used-Maruti-Alto-K10-2017-cars-New-Delhi-1008625222/', 'https://www.cars24.com/buy-used-Maruti-Alto-800-2015-cars-New-Delhi-1054413723/', 'https://www.cars24.com/buy-used-Renault-Kwid-2019-cars-New-Delhi-1011173428/', 'https://www.cars24.com/buy-used-Maruti-Ritz-2010-cars-New-Delhi-1059186633/', 'https://www.cars24.com/buy-used-Maruti-Swift-Dzire-2012-cars-New-Delhi-1000451922/', 'https://www.cars24.com/buy-used-Maruti-Alto-K10-2017-cars-New-Delhi-1009601725/', 'https://www.cars24.com/buy-used-Honda-Amaze-2014-cars-New-Delhi-1009271324/', 'https://www.cars24.com/buy-used-Hyundai-i10-2009-cars-New-Delhi-1003495421/', 'https://www.cars24.com/buy-used-Hyundai-i20-2013-cars-New-Delhi-1004780130/', 'https://www.cars24.com/buy-used-Hyundai-Grand-i10-2014-cars-New-Delhi-1053551425/', 'https://www.cars24.com/buy-used-Maruti-Swift-Dzire-2012-cars-New-Delhi-1000951522/', 'https://www.cars24.com/buy-used-Maruti-Baleno-2018-cars-New-Delhi-1006979722/', 'https://www.cars24.com/buy-used-Maruti-Ritz-2012-cars-New-Delhi-1005601920/', 'https://www.cars24.com/buy-used-Toyota-Etios-2011-cars-New-Delhi-1001998720/', 'https://www.cars24.com/buy-used-Honda-City-2013-cars-New-Delhi-1009208129/', 'https://www.cars24.com/buy-used-Hyundai-i20-2013-cars-New-Delhi-1122588228/', 'https://www.cars24.com/buy-used-Maruti-Ertiga-2012-cars-New-Delhi-1008165623/', 'https://www.cars24.com/buy-used-Hyundai-Grand-i10-2013-cars-New-Delhi-1003258329/', 'https://www.cars24.com/buy-used-Mahindra-Kuv100-2016-cars-New-Delhi-1008088627/', 'https://www.cars24.com/buy-used-Hyundai-Verna-2014-cars-New-Delhi-1012601739/', 'https://www.cars24.com/buy-used-Maruti-Swift-Dzire-2008-cars-New-Delhi-1002216531/', 'https://www.cars24.com/buy-used-Volkswagen-Polo-2013-cars-New-Delhi-1053125925/', 'https://www.cars24.com/buy-used-Honda-Amaze-2014-cars-New-Delhi-1006688122/', 'https://www.cars24.com/buy-used-Mahindra-Quanto-2013-cars-New-Delhi-1120998827/', 'https://www.cars24.com/buy-used-Datsun-Redi-Go-2016-cars-New-Delhi-1008823628/', 'https://www.cars24.com/buy-used-Tata-TIGOR-2017-cars-New-Delhi-1008862433/', 'https://www.cars24.com/buy-used-Maruti-Swift-Dzire-2012-cars-New-Delhi-1006597628/', 'https://www.cars24.com/buy-used-Maruti-Vitara-Brezza-2016-cars-New-Delhi-1005370634/', 'https://www.cars24.com/buy-used-Honda-Amaze-2014-cars-New-Delhi-1002728029/', 'https://www.cars24.com/buy-used-Hyundai-Grand-i10-2014-cars-New-Delhi-1003238123/', 'https://www.cars24.com/buy-used-Maruti-Wagon-R-1.0-2013-cars-New-Delhi-1002078824/', 'https://www.cars24.com/buy-used-Hyundai-Verna-2013-cars-New-Delhi-1006266230/', 'https://www.cars24.com/buy-used-Volkswagen-Polo-2012-cars-New-Delhi-1005368920/', 'https://www.cars24.com/buy-used-Renault-Kwid-2017-cars-New-Delhi-1000206639/', 'https://www.cars24.com/buy-used-Hyundai-i10-2009-cars-New-Delhi-1122625421/', 'https://www.cars24.com/buy-used-Maruti-Celerio-2015-cars-New-Delhi-1003373429/', 'https://www.cars24.com/buy-used-Hyundai-Verna-2013-cars-New-Delhi-1002489726/', 'https://www.cars24.com/buy-used-Maruti-Alto-K10-2010-cars-New-Delhi-1006568426/', 'https://www.cars24.com/buy-used-Maruti-Celerio-2018-cars-New-Delhi-1004229426/', 'https://www.cars24.com/buy-used-Maruti-Alto-2007-cars-New-Delhi-1000055820/', 'https://www.cars24.com/buy-used-Honda-City-2019-cars-New-Delhi-1003761335/', 'https://www.cars24.com/buy-used-Maruti-Vitara-Brezza-2016-cars-New-Delhi-1014921224/', 'https://www.cars24.com/buy-used-Maruti-Swift-2018-cars-New-Delhi-1007525920/', 'https://www.cars24.com/buy-used-Maruti-Eeco-2018-cars-New-Delhi-1002978521/', 'https://www.cars24.com/buy-used-Maruti-Celerio-2017-cars-New-Delhi-1008708326/', 'https://www.cars24.com/buy-used-Maruti-Eeco-2018-cars-New-Delhi-1002095722/', 'https://www.cars24.com/buy-used-Hyundai-Verna-2014-cars-New-Delhi-1006021237/', 'https://www.cars24.com/buy-used-Maruti-Eeco-2015-cars-New-Delhi-1001139025/', 'https://www.cars24.com/buy-used-Honda-City-2014-cars-New-Delhi-1008716434/', 'https://www.cars24.com/buy-used-Maruti-Vitara-Brezza-2019-cars-New-Delhi-1008385922/', 'https://www.cars24.com/buy-used-Maruti-Eeco-2018-cars-New-Delhi-1007558526/', 'https://www.cars24.com/buy-used-Toyota-Innova-2015-cars-New-Delhi-1002941433/', 'https://www.cars24.com/buy-used-Volkswagen-Jetta-2013-cars-New-Delhi-1006381620/', 'https://www.cars24.com/buy-used-Hyundai-i20-2009-cars-New-Delhi-1004288627/', 'https://www.cars24.com/buy-used-Hyundai-Grand-i10-2014-cars-New-Delhi-1006555321/', 'https://www.cars24.com/buy-used-Hyundai-Eon-2012-cars-New-Delhi-1004393927/', 'https://www.cars24.com/buy-used-Honda-City-2009-cars-New-Delhi-1001211924/', 'https://www.cars24.com/buy-used-Maruti-Ciaz-2019-cars-New-Delhi-1052513621/', 'https://www.cars24.com/buy-used-Hyundai-Grand-i10-2016-cars-New-Delhi-1007381424/', 'https://www.cars24.com/buy-used-Maruti-Ritz-2012-cars-New-Delhi-1009001123/', 'https://www.cars24.com/buy-used-Hyundai-i10-2009-cars-New-Delhi-1007967325/', 'https://www.cars24.com/buy-used-Toyota-Etios-Liva-2012-cars-New-Delhi-1005216734/', 'https://www.cars24.com/buy-used-Maruti-Swift-Dzire-2012-cars-New-Delhi-1007278829/', 'https://www.cars24.com/buy-used-Honda-City-2010-cars-New-Delhi-1008301722/', 'https://www.cars24.com/buy-used-Honda-City-2009-cars-New-Delhi-1002106835/', 'https://www.cars24.com/buy-used-Maruti-Ritz-2009-cars-New-Delhi-1124415621/', 'https://www.cars24.com/buy-used-Hyundai-i20-2012-cars-New-Delhi-1007513425/', 'https://www.cars24.com/buy-used-Maruti-Swift-Dzire-2013-cars-New-Delhi-1006985721/', 'https://www.cars24.com/buy-used-Maruti-Swift-Dzire-2013-cars-New-Delhi-1000565328/', 'https://www.cars24.com/buy-used-Maruti-Swift-Dzire-2012-cars-New-Delhi-1007358222/', 'https://www.cars24.com/buy-used-Maruti-Celerio-2016-cars-New-Delhi-1007797220/', 'https://www.cars24.com/buy-used-Maruti-Alto-2010-cars-New-Delhi-1000388027/', 'https://www.cars24.com/buy-used-Ford-Figo-Aspire-2017-cars-New-Delhi-1128553834/', 'https://www.cars24.com/buy-used-Hyundai-i20-2012-cars-New-Delhi-1006421123/', 'https://www.cars24.com/buy-used-Renault-Kwid-2019-cars-New-Delhi-1003813723/', 'https://www.cars24.com/buy-used-Datsun-Redi-Go-2016-cars-New-Delhi-1006483725/', 'https://www.cars24.com/buy-used-Hyundai-Grand-i10-2013-cars-New-Delhi-1004918720/', 'https://www.cars24.com/buy-used-Renault-Kwid-2016-cars-New-Delhi-1129081823/', 'https://www.cars24.com/buy-used-Maruti-Ertiga-2017-cars-New-Delhi-1008771527/', 'https://www.cars24.com/buy-used-Hyundai-i20-2012-cars-New-Delhi-1053588327/', 'https://www.cars24.com/buy-used-Maruti-Swift-2015-cars-New-Delhi-1000625728/', 'https://www.cars24.com/buy-used-Honda-Brio-2012-cars-New-Delhi-1013648028/', 'https://www.cars24.com/buy-used-Honda-City-2009-cars-New-Delhi-1008996631/', 'https://www.cars24.com/buy-used-Maruti-Swift-Dzire-2011-cars-New-Delhi-1001376633/', 'https://www.cars24.com/buy-used-Maruti-Ertiga-2013-cars-New-Delhi-1006473329/', 'https://www.cars24.com/buy-used-Maruti-Swift-2011-cars-New-Delhi-1101169422/', 'https://www.cars24.com/buy-used-Maruti-Wagon-R-1.0-2017-cars-New-Delhi-1050338825/', 'https://www.cars24.com/buy-used-Maruti-Swift-Dzire-2012-cars-New-Delhi-1008186132/', 'https://www.cars24.com/buy-used-Hyundai-Elite-i20-2015-cars-New-Delhi-1003203325/', 'https://www.cars24.com/buy-used-Hyundai-Elite-i20-2015-cars-New-Delhi-1125147120/', 'https://www.cars24.com/buy-used-Honda-City-2019-cars-New-Delhi-1051148826/', 'https://www.cars24.com/buy-used-Honda-Brio-2012-cars-New-Delhi-1004708928/', 'https://www.cars24.com/buy-used-Mahindra-XUV500-2017-cars-New-Delhi-1000263520/', 'https://www.cars24.com/buy-used-Honda-Civic-2007-cars-New-Delhi-1009621826/', 'https://www.cars24.com/buy-used-Maruti-Swift-2012-cars-New-Delhi-1006542537/', 'https://www.cars24.com/buy-used-Honda-Brio-2013-cars-New-Delhi-1000103927/', 'https://www.cars24.com/buy-used-Maruti-Swift-2013-cars-New-Delhi-1000513729/', 'https://www.cars24.com/buy-used-Honda-Jazz-2016-cars-New-Delhi-1008777822/', 'https://www.cars24.com/buy-used-Hyundai-i20-2012-cars-New-Delhi-1002711923/', 'https://www.cars24.com/buy-used-Maruti-Alto-2009-cars-New-Delhi-1009315026/', 'https://www.cars24.com/buy-used-Maruti-Vitara-Brezza-2016-cars-New-Delhi-1001797226/', 'https://www.cars24.com/buy-used-Toyota-Corolla-Altis-2014-cars-New-Delhi-1006396337/', 'https://www.cars24.com/buy-used-Maruti-Swift-Dzire-2011-cars-New-Delhi-1006831722/', 'https://www.cars24.com/buy-used-Toyota-Etios-Liva-2013-cars-New-Delhi-1005889321/', 'https://www.cars24.com/buy-used-Maruti-Alto-K10-2015-cars-New-Delhi-1054505122/', 'https://www.cars24.com/buy-used-Maruti-Swift-Dzire-2011-cars-New-Delhi-1121908527/', 'https://www.cars24.com/buy-used-Maruti-Celerio-2014-cars-New-Delhi-1013183422/', 'https://www.cars24.com/buy-used-Hyundai-Creta-2017-cars-New-Delhi-1002358537/', 'https://www.cars24.com/buy-used-Maruti-Swift-Dzire-2012-cars-New-Delhi-1001198322/', 'https://www.cars24.com/buy-used-Tata-Tiago-2016-cars-New-Delhi-1007331437/', 'https://www.cars24.com/buy-used-Tata-Tiago-2017-cars-New-Delhi-1001527820/', 'https://www.cars24.com/buy-used-Maruti-Baleno-2018-cars-New-Delhi-1158524131/', 'https://www.cars24.com/buy-used-Honda-City-2010-cars-New-Delhi-1017465021/', 'https://www.cars24.com/buy-used-Hyundai-i20-2011-cars-New-Delhi-1003275625/', 'https://www.cars24.com/buy-used-Honda-Amaze-2014-cars-New-Delhi-1001467829/', 'https://www.cars24.com/buy-used-Honda-Brio-2012-cars-New-Delhi-1123325120/', 'https://www.cars24.com/buy-used-Maruti-Alto-800-2013-cars-New-Delhi-1001933621/', 'https://www.cars24.com/buy-used-Honda-Amaze-2014-cars-New-Delhi-1006506538/', 'https://www.cars24.com/buy-used-Maruti-Alto-2009-cars-New-Delhi-1006255629/', 'https://www.cars24.com/buy-used-Maruti-Ritz-2009-cars-New-Delhi-1005288120/', 'https://www.cars24.com/buy-used-Mahindra-Scorpio-2012-cars-New-Delhi-1003058323/', 'https://www.cars24.com/buy-used-Honda-City-2012-cars-New-Delhi-1019075022/', 'https://www.cars24.com/buy-used-Maruti-Swift-Dzire-2012-cars-New-Delhi-1005261425/', 'https://www.cars24.com/buy-used-Maruti-Alto-2009-cars-New-Delhi-1128018922/', 'https://www.cars24.com/buy-used-Maruti-Ertiga-2012-cars-New-Delhi-1002367921/', 'https://www.cars24.com/buy-used-Hyundai-Elite-i20-2016-cars-New-Delhi-1004053728/', 'https://www.cars24.com/buy-used-Maruti-Ciaz-2016-cars-New-Delhi-1006497425/', 'https://www.cars24.com/buy-used-Honda-Amaze-2013-cars-New-Delhi-1004686932/', 'https://www.cars24.com/buy-used-Honda-City-2014-cars-New-Delhi-1005209226/', 'https://www.cars24.com/buy-used-Renault-Kwid-2016-cars-New-Delhi-1001453328/', 'https://www.cars24.com/buy-used-Maruti-Ertiga-2013-cars-New-Delhi-1005778722/', 'https://www.cars24.com/buy-used-Maruti-Ertiga-2012-cars-New-Delhi-1007706532/', 'https://www.cars24.com/buy-used-Hyundai-i10-2010-cars-New-Delhi-1103448028/', 'https://www.cars24.com/buy-used-Volkswagen-Polo-2010-cars-New-Delhi-1009348129/', 'https://www.cars24.com/buy-used-Maruti-Swift-2011-cars-New-Delhi-1127918424/', 'https://www.cars24.com/buy-used-Maruti-Swift-Dzire-2012-cars-New-Delhi-1007245723/', 'https://www.cars24.com/buy-used-Tata-Tiago-2016-cars-New-Delhi-1004518627/', 'https://www.cars24.com/buy-used-Maruti-Zen-Estilo-2009-cars-New-Delhi-1006556133/', 'https://www.cars24.com/buy-used-Hyundai-i10-2013-cars-New-Delhi-1002121425/', 'https://www.cars24.com/buy-used-Honda-City-2019-cars-New-Delhi-1004150039/', 'https://www.cars24.com/buy-used-Hyundai-Grand-i10-2017-cars-New-Delhi-1008957727/', 'https://www.cars24.com/buy-used-Maruti-Vitara-Brezza-2019-cars-New-Delhi-1001158623/', 'https://www.cars24.com/buy-used-Maruti-Baleno-2015-cars-New-Delhi-1000005426/', 'https://www.cars24.com/buy-used-Maruti-Ritz-2012-cars-New-Delhi-1054205227/', 'https://www.cars24.com/buy-used-Toyota-Etios-2011-cars-New-Delhi-1124998425/', 'https://www.cars24.com/buy-used-Hyundai-i10-2008-cars-New-Delhi-1002247727/', 'https://www.cars24.com/buy-used-Maruti-Ciaz-2018-cars-New-Delhi-1005981623/', 'https://www.cars24.com/buy-used-Toyota-Corolla-Altis-2014-cars-New-Delhi-1007379720/', 'https://www.cars24.com/buy-used-Hyundai-Xcent-2014-cars-New-Delhi-1019698629/', 'https://www.cars24.com/buy-used-Toyota-Etios-Liva-2012-cars-New-Delhi-1104581421/', 'https://www.cars24.com/buy-used-Maruti-Alto-2010-cars-New-Delhi-1057695222/', 'https://www.cars24.com/buy-used-Maruti-Ritz-2012-cars-New-Delhi-1007997628/', 'https://www.cars24.com/buy-used-Maruti-Swift-Dzire-2013-cars-New-Delhi-1006225225/', 'https://www.cars24.com/buy-used-Honda-City-ZX-2007-cars-New-Delhi-1001573825/', 'https://www.cars24.com/buy-used-Hyundai-Eon-2013-cars-New-Delhi-1050245120/', 'https://www.cars24.com/buy-used-Ford-Figo-2011-cars-New-Delhi-1127135926/', 'https://www.cars24.com/buy-used-Maruti-Baleno-2019-cars-New-Delhi-1002578426/', 'https://www.cars24.com/buy-used-Hyundai-i20-2013-cars-New-Delhi-1124305225/', 'https://www.cars24.com/buy-used-Hyundai-i10-2010-cars-New-Delhi-1004121423/', 'https://www.cars24.com/buy-used-Maruti-Ritz-2010-cars-New-Delhi-1001175524/', 'https://www.cars24.com/buy-used-Honda-Civic-2010-cars-New-Delhi-1126269921/', 'https://www.cars24.com/buy-used-Maruti-Eeco-2018-cars-New-Delhi-1005130039/', 'https://www.cars24.com/buy-used-Maruti-Vitara-Brezza-2018-cars-New-Delhi-1004208925/', 'https://www.cars24.com/buy-used-Maruti-Vitara-Brezza-2018-cars-New-Delhi-1004233527/', 'https://www.cars24.com/buy-used-BMW-5-Series-2008-cars-New-Delhi-1104915223/', 'https://www.cars24.com/buy-used-Hyundai-Elite-i20-2017-cars-New-Delhi-1006139524/', 'https://www.cars24.com/buy-used-Hyundai-i20-2013-cars-New-Delhi-1000475229/', 'https://www.cars24.com/buy-used-Maruti-S-Cross-2017-cars-New-Delhi-1000945225/', 'https://www.cars24.com/buy-used-Maruti-Alto-K10-2018-cars-New-Delhi-1002285728/', 'https://www.cars24.com/buy-used-Maruti-Ertiga-2013-cars-New-Delhi-1009715322/', 'https://www.cars24.com/buy-used-Maruti-Alto-K10-2010-cars-New-Delhi-1007722851/', 'https://www.cars24.com/buy-used-Maruti-Alto-2008-cars-New-Delhi-1009801424/', 'https://www.cars24.com/buy-used-Mahindra-Scorpio-2014-cars-New-Delhi-1008015724/', 'https://www.cars24.com/buy-used-Maruti-Ertiga-2013-cars-New-Delhi-1002687324/', 'https://www.cars24.com/buy-used-Hyundai-Creta-2015-cars-New-Delhi-1009006431/', 'https://www.cars24.com/buy-used-Volkswagen-Polo-2010-cars-New-Delhi-1055048129/', 'https://www.cars24.com/buy-used-Toyota-Etios-2013-cars-New-Delhi-1120180134/', 'https://www.cars24.com/buy-used-Maruti-Celerio-2016-cars-New-Delhi-1007168326/', 'https://www.cars24.com/buy-used-Toyota-Corolla-2007-cars-New-Delhi-1004525120/', 'https://www.cars24.com/buy-used-Toyota-Corolla-Altis-2009-cars-New-Delhi-1125448138/', 'https://www.cars24.com/buy-used-Hyundai-Creta-2016-cars-New-Delhi-1006664239/', 'https://www.cars24.com/buy-used-Hyundai-Santro-Xing-2014-cars-New-Delhi-1008445224/', 'https://www.cars24.com/buy-used-Honda-Amaze-2013-cars-New-Delhi-1124879021/', 'https://www.cars24.com/buy-used-Maruti-Baleno-2016-cars-New-Delhi-1107089721/', 'https://www.cars24.com/buy-used-Renault-Kwid-2018-cars-New-Delhi-1158287027/', 'https://www.cars24.com/buy-used-Maruti-Ritz-2013-cars-New-Delhi-1000215921/', 'https://www.cars24.com/buy-used-Maruti-Ciaz-2017-cars-New-Delhi-1001318337/', 'https://www.cars24.com/buy-used-Honda-City-2009-cars-New-Delhi-1106865620/', 'https://www.cars24.com/buy-used-Honda-City-2010-cars-New-Delhi-1129615423/', 'https://www.cars24.com/buy-used-Maruti-Swift-2012-cars-New-Delhi-1005906030/', 'https://www.cars24.com/buy-used-BMW-3-Series-2015-cars-New-Delhi-1017441926/', 'https://www.cars24.com/buy-used-Maruti-Swift-2015-cars-New-Delhi-1004301525/', 'https://www.cars24.com/buy-used-Toyota-Corolla-Altis-2011-cars-New-Delhi-1008485223/', 'https://www.cars24.com/buy-used-Hyundai-Grand-i10-2016-cars-New-Delhi-1058558122/', 'https://www.cars24.com/buy-used-Maruti-Swift-2013-cars-New-Delhi-1009391927/', 'https://www.cars24.com/buy-used-Maruti-Vitara-Brezza-2018-cars-New-Delhi-1059083623/', 'https://www.cars24.com/buy-used-Toyota-Corolla-Altis-2008-cars-New-Delhi-1125319327/', 'https://www.cars24.com/buy-used-Mercedes-Benz-C-Class-2014-cars-New-Delhi-1059383529/', 'https://www.cars24.com/buy-used-Mahindra-Scorpio-2014-cars-New-Delhi-1006813720/', 'https://www.cars24.com/buy-used-Hyundai-New-Elantra-2014-cars-New-Delhi-1054615321/', 'https://www.cars24.com/buy-used-Maruti-Swift-2015-cars-New-Delhi-1159384232/', 'https://www.cars24.com/buy-used-Mahindra-XUV500-2013-cars-New-Delhi-1005101723/', 'https://www.cars24.com/buy-used-Maruti-Alto-2008-cars-New-Delhi-1004163228/', 'https://www.cars24.com/buy-used-Volkswagen-Polo-2016-cars-New-Delhi-1008063229/', 'https://www.cars24.com/buy-used-Maruti-Alto-2010-cars-New-Delhi-1002245327/', 'https://www.cars24.com/buy-used-Hyundai-Grand-i10-2016-cars-New-Delhi-1125743927/', 'https://www.cars24.com/buy-used-Maruti-Eeco-2017-cars-New-Delhi-1001697738/', 'https://www.cars24.com/buy-used-Renault-Duster-2013-cars-New-Delhi-1001408623/', 'https://www.cars24.com/buy-used-Hyundai-Eon-2011-cars-New-Delhi-1006575628/', 'https://www.cars24.com/buy-used-Skoda-Laura-2012-cars-New-Delhi-1056436232/', 'https://www.cars24.com/buy-used-Maruti-Alto-800-2013-cars-New-Delhi-1003558727/', 'https://www.cars24.com/buy-used-Toyota-Etios-Liva-2012-cars-New-Delhi-1000327422/', 'https://www.cars24.com/buy-used-Skoda-Superb-2012-cars-New-Delhi-1004025921/', 'https://www.cars24.com/buy-used-Hyundai-Creta-2018-cars-New-Delhi-1007188620/', 'https://www.cars24.com/buy-used-Honda-City-2014-cars-New-Delhi-1002966035/', 'https://www.cars24.com/buy-used-Maruti-Swift-Dzire-2012-cars-New-Delhi-1008535721/', 'https://www.cars24.com/buy-used-Honda-Amaze-2013-cars-New-Delhi-1007157728/', 'https://www.cars24.com/buy-used-Honda-City-2008-cars-New-Delhi-1126298128/', 'https://www.cars24.com/buy-used-Hyundai-Elite-i20-2016-cars-New-Delhi-1006151924/', 'https://www.cars24.com/buy-used-Honda-City-ZX-2007-cars-New-Delhi-1053038321/', 'https://www.cars24.com/buy-used-Hyundai-i20-2011-cars-New-Delhi-1125675327/', 'https://www.cars24.com/buy-used-Toyota-Fortuner-2011-cars-New-Delhi-1005539122/', 'https://www.cars24.com/buy-used-Toyota-Innova-2013-cars-New-Delhi-1003928026/', 'https://www.cars24.com/buy-used-Toyota-Etios-2012-cars-New-Delhi-1054931521/', 'https://www.cars24.com/buy-used-Maruti-Swift-2015-cars-New-Delhi-1002925225/', 'https://www.cars24.com/buy-used-BMW-3-Series-2015-cars-New-Delhi-1019045523/', 'https://www.cars24.com/buy-used-Honda-City-2011-cars-New-Delhi-1003696131/', 'https://www.cars24.com/buy-used-Maruti-Swift-2013-cars-New-Delhi-1009843527/', 'https://www.cars24.com/buy-used-Hyundai-Grand-i10-2017-cars-New-Delhi-1001428421/', 'https://www.cars24.com/buy-used-Toyota-Etios-Liva-2012-cars-New-Delhi-1009665220/', 'https://www.cars24.com/buy-used-Toyota-Etios-Liva-2013-cars-New-Delhi-1007907422/', 'https://www.cars24.com/buy-used-Honda-Amaze-2014-cars-New-Delhi-1055753423/', 'https://www.cars24.com/buy-used-Honda-City-2013-cars-New-Delhi-1126721923/', 'https://www.cars24.com/buy-used-Maruti-Swift-2012-cars-New-Delhi-1007326433/', 'https://www.cars24.com/buy-used-Toyota-Etios-Liva-2013-cars-New-Delhi-1008995126/', 'https://www.cars24.com/buy-used-Toyota-Corolla-Altis-2012-cars-New-Delhi-1005296534/', 'https://www.cars24.com/buy-used-Maruti-Baleno-2016-cars-New-Delhi-1057991420/', 'https://www.cars24.com/buy-used-Maruti-Swift-Dzire-2014-cars-New-Delhi-1002175721/', 'https://www.cars24.com/buy-used-Honda-City-2014-cars-New-Delhi-1004417728/', 'https://www.cars24.com/buy-used-Hyundai-Elite-i20-2015-cars-New-Delhi-1154690239/', 'https://www.cars24.com/buy-used-Hyundai-i10-2011-cars-New-Delhi-1003921620/', 'https://www.cars24.com/buy-used-Maruti-Swift-Dzire-2012-cars-New-Delhi-1006707520/', 'https://www.cars24.com/buy-used-Maruti-Swift-Dzire-2013-cars-New-Delhi-1005445925/', 'https://www.cars24.com/buy-used-Hyundai-Grand-i10-2017-cars-New-Delhi-1006939620/', 'https://www.cars24.com/buy-used-Toyota-Corolla-Altis-2011-cars-New-Delhi-1002376832/', 'https://www.cars24.com/buy-used-Maruti-Swift-Dzire-2013-cars-New-Delhi-1004818027/', 'https://www.cars24.com/buy-used-Toyota-Innova-2012-cars-New-Delhi-1001826034/', 'https://www.cars24.com/buy-used-Hyundai-Creta-2016-cars-New-Delhi-1004885523/', 'https://www.cars24.com/buy-used-Hyundai-Santro-Xing-2008-cars-New-Delhi-1000655523/', 'https://www.cars24.com/buy-used-Toyota-Corolla-Altis-2011-cars-New-Delhi-1009046332/', 'https://www.cars24.com/buy-used-Maruti-Swift-2012-cars-New-Delhi-1004669626/', 'https://www.cars24.com/buy-used-Toyota-Innova-2015-cars-New-Delhi-1056755437/', 'https://www.cars24.com/buy-used-Chevrolet-Cruze-2011-cars-New-Delhi-1012577527/', 'https://www.cars24.com/buy-used-Maruti-Wagon-R-1.0-2011-cars-New-Delhi-1004775720/', 'https://www.cars24.com/buy-used-Honda-City-2014-cars-New-Delhi-1003755522/', 'https://www.cars24.com/buy-used-Hyundai-i20-2012-cars-New-Delhi-1009365620/', 'https://www.cars24.com/buy-used-Hyundai-Xcent-2015-cars-New-Delhi-1009408429/', 'https://www.cars24.com/buy-used-Toyota-Etios-Liva-2014-cars-New-Delhi-1053723952/', 'https://www.cars24.com/buy-used-Maruti-Wagon-R-1.0-2012-cars-New-Delhi-1107035528/', 'https://www.cars24.com/buy-used-Maruti-Swift-Dzire-2014-cars-New-Delhi-1100321822/', 'https://www.cars24.com/buy-used-Maruti-New--Wagon-R-2019-cars-New-Delhi-1009628422/', 'https://www.cars24.com/buy-used-Mahindra-XUV500-2015-cars-New-Delhi-1009539189/', 'https://www.cars24.com/buy-used-Hyundai-i10-2010-cars-New-Delhi-1055243925/', 'https://www.cars24.com/buy-used-Hyundai-i20-2009-cars-New-Delhi-1014621628/', 'https://www.cars24.com/buy-used-Maruti-Swift-Dzire-2013-cars-New-Delhi-1008908620/', 'https://www.cars24.com/buy-used-Maruti-Ritz-2014-cars-New-Delhi-1007171522/', 'https://www.cars24.com/buy-used-Honda-City-2014-cars-New-Delhi-1107473233/', 'https://www.cars24.com/buy-used-Maruti-Ritz-2011-cars-New-Delhi-1004950732/', 'https://www.cars24.com/buy-used-Hyundai-i10-2012-cars-New-Delhi-1003805526/', 'https://www.cars24.com/buy-used-Hyundai-Grand-i10-2016-cars-New-Delhi-1107955629/', 'https://www.cars24.com/buy-used-Hyundai-i10-2013-cars-New-Delhi-1008588729/', 'https://www.cars24.com/buy-used-Volkswagen-Polo-2015-cars-New-Delhi-1007041124/', 'https://www.cars24.com/buy-used-Maruti-Swift-2013-cars-New-Delhi-1054603123/', 'https://www.cars24.com/buy-used-Maruti-Ritz-2011-cars-New-Delhi-1007896038/', 'https://www.cars24.com/buy-used-Maruti-A-Star-2011-cars-New-Delhi-1053363022/', 'https://www.cars24.com/buy-used-Hyundai-Creta-2016-cars-New-Delhi-1006246882/', 'https://www.cars24.com/buy-used-Mahindra-Scorpio-2016-cars-New-Delhi-1003421724/', 'https://www.cars24.com/buy-used-Volkswagen-Vento-2013-cars-New-Delhi-1009808029/', 'https://www.cars24.com/buy-used-Hyundai-Verna-2013-cars-New-Delhi-1000321625/', 'https://www.cars24.com/buy-used-Maruti-Ritz-2011-cars-New-Delhi-1120799126/', 'https://www.cars24.com/buy-used-Mahindra-Scorpio-2014-cars-New-Delhi-1003125129/', 'https://www.cars24.com/buy-used-Toyota-Innova-2014-cars-New-Delhi-1056695627/', 'https://www.cars24.com/buy-used-BMW-3-Series-2012-cars-New-Delhi-1007136830/', 'https://www.cars24.com/buy-used-Mahindra-XUV500-2012-cars-New-Delhi-1007328825/', 'https://www.cars24.com/buy-used-Volkswagen-Vento-2010-cars-New-Delhi-1001653523/', 'https://www.cars24.com/buy-used-Maruti-Swift-2012-cars-New-Delhi-1000125626/', 'https://www.cars24.com/buy-used-Toyota-Etios-Liva-2013-cars-New-Delhi-1007202336/', 'https://www.cars24.com/buy-used-Maruti-Swift-Dzire-2014-cars-New-Delhi-1005035227/', 'https://www.cars24.com/buy-used-Toyota-Corolla-Altis-2009-cars-New-Delhi-1007666736/', 'https://www.cars24.com/buy-used-Toyota-Fortuner-2012-cars-New-Delhi-1125531322/', 'https://www.cars24.com/buy-used-Maruti-Celerio-2014-cars-New-Delhi-1005048220/', 'https://www.cars24.com/buy-used-Maruti-Swift-Dzire-2015-cars-New-Delhi-1009728522/', 'https://www.cars24.com/buy-used-Maruti-Swift-Dzire-2014-cars-New-Delhi-1000518625/', 'https://www.cars24.com/buy-used-Honda-City-2013-cars-New-Delhi-1100055028/', 'https://www.cars24.com/buy-used-Renault-Duster-2013-cars-New-Delhi-1017298025/', 'https://www.cars24.com/buy-used-Maruti-Ertiga-2013-cars-New-Delhi-1004548625/', 'https://www.cars24.com/buy-used-Honda-Brio-2013-cars-New-Delhi-1001151923/', 'https://www.cars24.com/buy-used-Maruti-Swift-2018-cars-New-Delhi-1007228126/', 'https://www.cars24.com/buy-used-BMW-3-Series-2012-cars-New-Delhi-1004157024/', 'https://www.cars24.com/buy-used-Toyota-Etios-Liva-2013-cars-New-Delhi-1003947221/', 'https://www.cars24.com/buy-used-Honda-City-2011-cars-New-Delhi-1001683439/', 'https://www.cars24.com/buy-used-Maruti-Alto-K10-2016-cars-New-Delhi-1056835028/', 'https://www.cars24.com/buy-used-Toyota-Etios-2011-cars-New-Delhi-1054505125/', 'https://www.cars24.com/buy-used-Hyundai-Verna-2014-cars-New-Delhi-1006994433/', 'https://www.cars24.com/buy-used-Volkswagen-Vento-2014-cars-New-Delhi-1009745820/', 'https://www.cars24.com/buy-used-Maruti-Wagon-R-1.0-2014-cars-New-Delhi-1000188929/', 'https://www.cars24.com/buy-used-Maruti-Swift-2012-cars-New-Delhi-1015326938/', 'https://www.cars24.com/buy-used-Honda-City-2014-cars-New-Delhi-1004943125/', 'https://www.cars24.com/buy-used-Maruti-Swift-2015-cars-New-Delhi-1006556338/', 'https://www.cars24.com/buy-used-Ford-Ecosport-2013-cars-New-Delhi-1009504335/', 'https://www.cars24.com/buy-used-Toyota-Innova-2012-cars-New-Delhi-1052393821/', 'https://www.cars24.com/buy-used-Toyota-Etios-Liva-2012-cars-New-Delhi-1007175729/', 'https://www.cars24.com/buy-used-Toyota-Corolla-Altis-2009-cars-New-Delhi-1002638626/', 'https://www.cars24.com/buy-used-Maruti-Swift-Dzire-2013-cars-New-Delhi-1018915021/', 'https://www.cars24.com/buy-used-Honda-Amaze-2013-cars-New-Delhi-1106775023/', 'https://www.cars24.com/buy-used-Mahindra-XUV500-2015-cars-New-Delhi-1005878939/', 'https://www.cars24.com/buy-used-Maruti-Wagon-R-1.0-2017-cars-New-Delhi-1004038226/', 'https://www.cars24.com/buy-used-Maruti-Wagon-R-1.0-2010-cars-New-Delhi-1004855029/', 'https://www.cars24.com/buy-used-Ford-Ecosport-2015-cars-New-Delhi-1124563021/', 'https://www.cars24.com/buy-used-Datsun-Redi-Go-2017-cars-New-Delhi-1000058824/', 'https://www.cars24.com/buy-used-Honda-Amaze-2013-cars-New-Delhi-1002965023/', 'https://www.cars24.com/buy-used-Honda-City-2008-cars-New-Delhi-1051018329/', 'https://www.cars24.com/buy-used-Toyota-Fortuner-2012-cars-New-Delhi-1005850136/', 'https://www.cars24.com/buy-used-Hyundai-i20-2013-cars-New-Delhi-1007923125/', 'https://www.cars24.com/buy-used-Maruti-Ritz-2011-cars-New-Delhi-1003408528/', 'https://www.cars24.com/buy-used-Maruti-Swift-Dzire-2013-cars-New-Delhi-1003355227/', 'https://www.cars24.com/buy-used-Maruti-OMNI-E-2019-cars-New-Delhi-1009518327/', 'https://www.cars24.com/buy-used-Toyota-Etios-2012-cars-New-Delhi-1159108327/', 'https://www.cars24.com/buy-used-Volkswagen-Polo-2013-cars-New-Delhi-1006567129/', 'https://www.cars24.com/buy-used-Hyundai-i10-2010-cars-New-Delhi-1009329128/', 'https://www.cars24.com/buy-used-Hyundai-i10-2012-cars-New-Delhi-1123389723/', 'https://www.cars24.com/buy-used-Toyota-Fortuner-2012-cars-New-Delhi-1009838823/', 'https://www.cars24.com/buy-used-Toyota-Innova-2012-cars-New-Delhi-1007138521/', 'https://www.cars24.com/buy-used-Maruti-Swift-2017-cars-New-Delhi-1004919528/', 'https://www.cars24.com/buy-used-Hyundai-i10-2015-cars-New-Delhi-1002631620/', 'https://www.cars24.com/buy-used-Maruti-Alto-2010-cars-New-Delhi-1121945928/', 'https://www.cars24.com/buy-used-Nissan-Sunny-2012-cars-New-Delhi-1007396432/', 'https://www.cars24.com/buy-used-Maruti-Swift-2012-cars-New-Delhi-1009809220/', 'https://www.cars24.com/buy-used-Hyundai-Elite-i20-2015-cars-New-Delhi-1006551683/', 'https://www.cars24.com/buy-used-Maruti-Swift-Dzire-2010-cars-New-Delhi-1003084332/', 'https://www.cars24.com/buy-used-Maruti-Ertiga-2016-cars-New-Delhi-1007922989/', 'https://www.cars24.com/buy-used-Hyundai-i20-2012-cars-New-Delhi-1005843027/', 'https://www.cars24.com/buy-used-Hyundai-Santro-Xing-2011-cars-New-Delhi-1008796035/', 'https://www.cars24.com/buy-used-Mahindra-XUV500-2015-cars-New-Delhi-1006752989/', 'https://www.cars24.com/buy-used-Toyota-Etios-2012-cars-New-Delhi-1007852136/', 'https://www.cars24.com/buy-used-Honda-Jazz-2009-cars-New-Delhi-1013883228/', 'https://www.cars24.com/buy-used-Maruti-Swift-Dzire-2010-cars-New-Delhi-1054961925/', 'https://www.cars24.com/buy-used-Hyundai-i20-2013-cars-New-Delhi-1102962989/', 'https://www.cars24.com/buy-used-Maruti-Swift-2018-cars-New-Delhi-1009010238/', 'https://www.cars24.com/buy-used-Hyundai-Verna-2011-cars-New-Delhi-1007809322/', 'https://www.cars24.com/buy-used-Maruti-Wagon-R-1.0-2011-cars-New-Delhi-1012961722/', 'https://www.cars24.com/buy-used-Nissan-Micra-2012-cars-New-Delhi-1003513828/', 'https://www.cars24.com/buy-used-Maruti-Alto-800-2013-cars-New-Delhi-1129315227/', 'https://www.cars24.com/buy-used-Renault-Duster-2013-cars-New-Delhi-1001111924/', 'https://www.cars24.com/buy-used-Hyundai-New-Elantra-2013-cars-New-Delhi-1006098829/', 'https://www.cars24.com/buy-used-Honda-Jazz-2016-cars-New-Delhi-1003637722/', 'https://www.cars24.com/buy-used-Toyota-Etios-2011-cars-New-Delhi-1001397725/', 'https://www.cars24.com/buy-used-Maruti-Alto-2010-cars-New-Delhi-1019003423/', 'https://www.cars24.com/buy-used-Hyundai-Grand-i10-2015-cars-New-Delhi-1008836234/', 'https://www.cars24.com/buy-used-Hyundai-Santro-Xing-2011-cars-New-Delhi-1000605424/', 'https://www.cars24.com/buy-used-Hyundai-i10-2012-cars-New-Delhi-1007447126/', 'https://www.cars24.com/buy-used-Mahindra-XUV500-2014-cars-New-Delhi-1002328024/', 'https://www.cars24.com/buy-used-Hyundai-i10-2012-cars-New-Delhi-1053865423/', 'https://www.cars24.com/buy-used-Tata-Nano-2010-cars-New-Delhi-1001221820/', 'https://www.cars24.com/buy-used-Maruti-Ritz-2011-cars-New-Delhi-1008323334/', 'https://www.cars24.com/buy-used-Tata-Nano-2012-cars-New-Delhi-1004976031/', 'https://www.cars24.com/buy-used-Maruti-Zen-Estilo-2011-cars-New-Delhi-1008875637/', 'https://www.cars24.com/buy-used-Hyundai-Eon-2012-cars-New-Delhi-1002837722/', 'https://www.cars24.com/buy-used-Maruti-Swift-2017-cars-New-Delhi-1005694235/', 'https://www.cars24.com/buy-used-Hyundai-Eon-2011-cars-New-Delhi-1002792339/', 'https://www.cars24.com/buy-used-Chevrolet-Spark-2011-cars-New-Delhi-1001433237/', 'https://www.cars24.com/buy-used-Maruti-Alto-K10-2018-cars-New-Delhi-1009900087/', 'https://www.cars24.com/buy-used-Maruti-A-Star-2012-cars-New-Delhi-1007063432/', 'https://www.cars24.com/buy-used-Datsun-Go-2016-cars-New-Delhi-1008843435/', 'https://www.cars24.com/buy-used-Tata-Tiago-2019-cars-New-Delhi-1051023422/', 'https://www.cars24.com/buy-used-Fiat-Grand-Punto-2011-cars-New-Delhi-1004258838/', 'https://www.cars24.com/buy-used-Maruti-Baleno-2018-cars-New-Delhi-1005794139/', 'https://www.cars24.com/buy-used-Hyundai-Grand-i10-2014-cars-New-Delhi-1000738132/', 'https://www.cars24.com/buy-used-Hyundai-AURA-2020-cars-New-Delhi-1003274133/', 'https://www.cars24.com/buy-used-Fiat-Linea-2010-cars-New-Delhi-1005204231/', 'https://www.cars24.com/buy-used-Maruti-Wagon-R-1.0-2010-cars-New-Delhi-1006301025/', 'https://www.cars24.com/buy-used-Honda-Brio-2014-cars-New-Delhi-1001268732/', 'https://www.cars24.com/buy-used-Maruti-Swift-Dzire-2010-cars-New-Delhi-1002998827/', 'https://www.cars24.com/buy-used-Tata-Zest-2015-cars-New-Delhi-1001213135/', 'https://www.cars24.com/buy-used-Honda-Amaze-2015-cars-New-Delhi-1002874235/', 'https://www.cars24.com/buy-used-Mahindra-Thar-2018-cars-New-Delhi-1009079124/', 'https://www.cars24.com/buy-used-Tata-Nano-2011-cars-New-Delhi-1000150334/', 'https://www.cars24.com/buy-used-Tata-Nano-2011-cars-New-Delhi-1157367429/', 'https://www.cars24.com/buy-used-Chevrolet-Beat-2013-cars-New-Delhi-1006615629/', 'https://www.cars24.com/buy-used-Mahindra-Quanto-2012-cars-New-Delhi-1007394232/', 'https://www.cars24.com/buy-used-Chevrolet-Beat-2011-cars-New-Delhi-1005125334/', 'https://www.cars24.com/buy-used-Hyundai-i10-2010-cars-New-Delhi-1003265429/', 'https://www.cars24.com/buy-used-Maruti-Swift-Dzire-2009-cars-New-Delhi-1001111522/', 'https://www.cars24.com/buy-used-Maruti-Alto-800-2013-cars-New-Delhi-1000862835/', 'https://www.cars24.com/buy-used-Hyundai-i10-2009-cars-New-Delhi-1008438332/', 'https://www.cars24.com/buy-used-Chevrolet-Cruze-2011-cars-New-Delhi-1000923525/', 'https://www.cars24.com/buy-used-Ford-Figo-2010-cars-New-Delhi-1009811324/', 'https://www.cars24.com/buy-used-Tata-Nano-2012-cars-New-Delhi-1002009125/', 'https://www.cars24.com/buy-used-Maruti-Baleno-2020-cars-New-Delhi-1006174537/', 'https://www.cars24.com/buy-used-Mahindra-Thar-2012-cars-New-Delhi-1004861137/', 'https://www.cars24.com/buy-used-Chevrolet-Sail-UVA-2014-cars-New-Delhi-1008833538/', 'https://www.cars24.com/buy-used-Hyundai-Grand-i10-2016-cars-New-Delhi-1009644437/', 'https://www.cars24.com/buy-used-Maruti-Swift-2013-cars-New-Delhi-1008623439/', 'https://www.cars24.com/buy-used-Maruti-Eeco-2018-cars-New-Delhi-1003698732/', 'https://www.cars24.com/buy-used-Renault-Kwid-2017-cars-New-Delhi-1000303330/', 'https://www.cars24.com/buy-used-Renault-Kwid-2016-cars-New-Delhi-1004051434/', 'https://www.cars24.com/buy-used-Tata-TIGOR-2017-cars-New-Delhi-1006232924/', 'https://www.cars24.com/buy-used-Hyundai-GRAND-I10-NIOS-2020-cars-New-Delhi-1009748925/', 'https://www.cars24.com/buy-used-Maruti-Wagon-R-1.0-2010-cars-New-Delhi-1007569923/', 'https://www.cars24.com/buy-used-Maruti-Alto-2012-cars-New-Delhi-1002545322/', 'https://www.cars24.com/buy-used-Hyundai-Santro-Xing-2012-cars-New-Delhi-1008708629/', 'https://www.cars24.com/buy-used-Hyundai-Accent-2011-cars-New-Delhi-1001384639/', 'https://www.cars24.com/buy-used-Maruti-Alto-K10-2011-cars-New-Delhi-1000222533/', 'https://www.cars24.com/buy-used-Mahindra-Thar-2014-cars-New-Delhi-1002423232/', 'https://www.cars24.com/buy-used-Maruti-Wagon-R-1.0-2017-cars-New-Delhi-1007071434/', 'https://www.cars24.com/buy-used-Maruti-Swift-2013-cars-New-Delhi-1008421021/', 'https://www.cars24.com/buy-used-Hyundai-Eon-2017-cars-New-Delhi-1006541733/', 'https://www.cars24.com/buy-used-Maruti-Ertiga-2014-cars-New-Delhi-1002431921/', 'https://www.cars24.com/buy-used-Maruti-Swift-Dzire-2013-cars-New-Delhi-1004152124/', 'https://www.cars24.com/buy-used-Hyundai-i10-2009-cars-New-Delhi-1008491220/', 'https://www.cars24.com/buy-used-Renault-Duster-2013-cars-New-Delhi-1002143232/', 'https://www.cars24.com/buy-used-Maruti-New--Wagon-R-2019-cars-New-Delhi-1002523136/', 'https://www.cars24.com/buy-used-Toyota-Etios-2011-cars-New-Delhi-1004135026/', 'https://www.cars24.com/buy-used-Maruti-Swift-Dzire-2016-cars-New-Delhi-1003982939/', 'https://www.cars24.com/buy-used-Hyundai-i20-2011-cars-New-Delhi-1002600432/', 'https://www.cars24.com/buy-used-Hyundai-NEW-SANTRO-2019-cars-New-Delhi-1003175730/', 'https://www.cars24.com/buy-used-Hyundai-i20-2013-cars-New-Delhi-1007774532/', 'https://www.cars24.com/buy-used-Tata-Manza-2013-cars-New-Delhi-1002754632/', 'https://www.cars24.com/buy-used-Ford-Figo-2012-cars-New-Delhi-1004207426/', 'https://www.cars24.com/buy-used-Tata-Indica-Vista-2011-cars-New-Delhi-1000434237/', 'https://www.cars24.com/buy-used-Tata-Tiago-2019-cars-New-Delhi-1007144833/', 'https://www.cars24.com/buy-used-Hyundai-i20-2012-cars-New-Delhi-1007000038/', 'https://www.cars24.com/buy-used-Maruti-Eeco-2019-cars-New-Delhi-1000688233/', 'https://www.cars24.com/buy-used-Hyundai-Elite-i20-2016-cars-New-Delhi-1008432132/', 'https://www.cars24.com/buy-used-Maruti-Baleno-2017-cars-New-Delhi-1006822033/', 'https://www.cars24.com/buy-used-Maruti-Alto-800-2013-cars-New-Delhi-1002775422/', 'https://www.cars24.com/buy-used-Hyundai-i10-2012-cars-New-Delhi-1002402332/', 'https://www.cars24.com/buy-used-Maruti-Zen-Estilo-2010-cars-New-Delhi-1005968423/', 'https://www.cars24.com/buy-used-Maruti-Eeco-2018-cars-New-Delhi-1008234833/', 'https://www.cars24.com/buy-used-Maruti-Wagon-R-1.0-2017-cars-New-Delhi-1001452231/', 'https://www.cars24.com/buy-used-Maruti-Wagon-R-1.0-2011-cars-New-Delhi-1008239326/', 'https://www.cars24.com/buy-used-Tata-Nano-2010-cars-New-Delhi-1002329425/', 'https://www.cars24.com/buy-used-Maruti-New--Wagon-R-2019-cars-New-Delhi-1002425737/', 'https://www.cars24.com/buy-used-Hyundai-Verna-2013-cars-New-Delhi-1008398234/', 'https://www.cars24.com/buy-used-Maruti-Wagon-R-1.0-2017-cars-New-Delhi-1005132339/', 'https://www.cars24.com/buy-used-Hyundai-Eon-2014-cars-New-Delhi-1007740339/', 'https://www.cars24.com/buy-used-Maruti-Wagon-R-1.0-2015-cars-New-Delhi-1004865733/', 'https://www.cars24.com/buy-used-Maruti-OMNI-E-2014-cars-New-Delhi-1004469528/', 'https://www.cars24.com/buy-used-Maruti-Baleno-2020-cars-New-Delhi-1004642333/', 'https://www.cars24.com/buy-used-Maruti-Zen-Estilo-2011-cars-New-Delhi-1009785134/', 'https://www.cars24.com/buy-used-Tata-Nano-2010-cars-New-Delhi-1002996834/', 'https://www.cars24.com/buy-used-Maruti-Alto-2020-cars-New-Delhi-1005984732/', 'https://www.cars24.com/buy-used-Hyundai-i20-Active-2015-cars-New-Delhi-1005421725/', 'https://www.cars24.com/buy-used-Maruti-Dzire-2018-cars-New-Delhi-1007744432/', 'https://www.cars24.com/buy-used-Maruti-Swift-2017-cars-New-Delhi-1007723138/', 'https://www.cars24.com/buy-used-Maruti-Alto-K10-2011-cars-New-Delhi-1005590233/', 'https://www.cars24.com/buy-used-Honda-Amaze-2015-cars-New-Delhi-1003685425/', 'https://www.cars24.com/buy-used-Maruti-Alto-K10-2010-cars-New-Delhi-1009803431/', 'https://www.cars24.com/buy-used-Hyundai-i10-2011-cars-New-Delhi-1001447129/', 'https://www.cars24.com/buy-used-Maruti-Wagon-R-1.0-2011-cars-New-Delhi-1006700338/', 'https://www.cars24.com/buy-used-Hyundai-Grand-i10-2017-cars-New-Delhi-1009054237/', 'https://www.cars24.com/buy-used-Renault-Duster-2014-cars-New-Delhi-1004955336/', 'https://www.cars24.com/buy-used-Hyundai-Grand-i10-2015-cars-New-Delhi-1007988534/', 'https://www.cars24.com/buy-used-Chevrolet-Spark-2011-cars-New-Delhi-1005317020/', 'https://www.cars24.com/buy-used-Hyundai-i10-2011-cars-New-Delhi-1000606036/', 'https://www.cars24.com/buy-used-Skoda-Fabia-2011-cars-New-Delhi-1006514037/', 'https://www.cars24.com/buy-used-Maruti-Alto-K10-2018-cars-New-Delhi-1007865027/', 'https://www.cars24.com/buy-used-Hyundai-i20-2013-cars-New-Delhi-1006105837/', 'https://www.cars24.com/buy-used-Hyundai-Grand-i10-2016-cars-New-Delhi-1001752831/', 'https://www.cars24.com/buy-used-Maruti-Swift-2009-cars-New-Delhi-1008787924/', 'https://www.cars24.com/buy-used-Toyota-Innova-2013-cars-New-Delhi-1003224034/', 'https://www.cars24.com/buy-used-Maruti-Swift-Dzire-2015-cars-New-Delhi-1007659126/', 'https://www.cars24.com/buy-used-Maruti-S-PRESSO-2020-cars-New-Delhi-1000030838/', 'https://www.cars24.com/buy-used-Maruti-Alto-K10-2014-cars-New-Delhi-1004102737/', 'https://www.cars24.com/buy-used-Maruti-Swift-2011-cars-New-Delhi-1006812134/', 'https://www.cars24.com/buy-used-Tata-Nano-2011-cars-New-Delhi-1007810832/', 'https://www.cars24.com/buy-used-Maruti-Wagon-R-1.0-2011-cars-New-Delhi-1007346936/', 'https://www.cars24.com/buy-used-Hyundai-i20-2013-cars-New-Delhi-1006772823/', 'https://www.cars24.com/buy-used-Maruti-Wagon-R-1.0-2011-cars-New-Delhi-1002676839/', 'https://www.cars24.com/buy-used-Maruti-Ritz-2012-cars-New-Delhi-1009815539/', 'https://www.cars24.com/buy-used-Maruti-Swift-2019-cars-New-Delhi-1007691436/', 'https://www.cars24.com/buy-used-Hyundai-i10-2010-cars-New-Delhi-1009307827/', 'https://www.cars24.com/buy-used-Hyundai-Grand-i10-2015-cars-New-Delhi-1008463338/', 'https://www.cars24.com/buy-used-Hyundai-Eon-2013-cars-New-Delhi-1003113531/', 'https://www.cars24.com/buy-used-Renault-Kwid-2017-cars-New-Delhi-1006880830/', 'https://www.cars24.com/buy-used-Mahindra-Kuv100-2016-cars-New-Delhi-1004695427/', 'https://www.cars24.com/buy-used-Maruti-Eeco-2015-cars-New-Delhi-1007081726/', 'https://www.cars24.com/buy-used-Maruti-Ritz-2013-cars-New-Delhi-1009238624/', 'https://www.cars24.com/buy-used-Maruti-Baleno-2016-cars-New-Delhi-1004794837/', 'https://www.cars24.com/buy-used-Volkswagen-Jetta-2010-cars-New-Delhi-1004013727/', 'https://www.cars24.com/buy-used-Hyundai-Santro-Xing-2011-cars-New-Delhi-1009526533/', 'https://www.cars24.com/buy-used-Datsun-Redi-Go-2016-cars-New-Delhi-1004254234/', 'https://www.cars24.com/buy-used-Maruti-Swift-2015-cars-New-Delhi-1007398439/', 'https://www.cars24.com/buy-used-Maruti-Alto-K10-2013-cars-New-Delhi-1007643435/', 'https://www.cars24.com/buy-used-Maruti-Baleno-2016-cars-New-Delhi-1004793630/', 'https://www.cars24.com/buy-used-Honda-Amaze-2015-cars-New-Delhi-1008274037/', 'https://www.cars24.com/buy-used-Maruti-Swift-2009-cars-New-Delhi-1006198138/', 'https://www.cars24.com/buy-used-Maruti-Wagon-R-1.0-2014-cars-New-Delhi-1006241533/', 'https://www.cars24.com/buy-used-Maruti-Swift-Dzire-2012-cars-New-Delhi-1005243832/', 'https://www.cars24.com/buy-used-Maruti-S-PRESSO-2019-cars-New-Delhi-1009434438/', 'https://www.cars24.com/buy-used-Hyundai-Elite-i20-2017-cars-New-Delhi-1004845135/', 'https://www.cars24.com/buy-used-Maruti-Alto-800-2016-cars-New-Delhi-1001434686/', 'https://www.cars24.com/buy-used-Tata-Tiago-2018-cars-New-Delhi-1007351321/', 'https://www.cars24.com/buy-used-Datsun-Redi-Go-2018-cars-New-Delhi-1007017825/', 'https://www.cars24.com/buy-used-Hyundai-Elite-i20-2017-cars-New-Delhi-1006285230/', 'https://www.cars24.com/buy-used-Maruti-Swift-Dzire-2016-cars-New-Delhi-1001405031/', 'https://www.cars24.com/buy-used-Renault-Kwid-2017-cars-New-Delhi-1000702720/', 'https://www.cars24.com/buy-used-Ford-Figo-2012-cars-New-Delhi-1005796736/', 'https://www.cars24.com/buy-used-Hyundai-Grand-i10-2016-cars-New-Delhi-1004323933/', 'https://www.cars24.com/buy-used-Mahindra-Kuv100-2016-cars-New-Delhi-1002373130/', 'https://www.cars24.com/buy-used-Maruti-Alto-2011-cars-New-Delhi-1002471435/', 'https://www.cars24.com/buy-used-Maruti-Baleno-2015-cars-New-Delhi-1008898136/', 'https://www.cars24.com/buy-used-Chevrolet-Beat-2012-cars-New-Delhi-1001842439/', 'https://www.cars24.com/buy-used-Maruti-Wagon-R-1.0-2018-cars-New-Delhi-1006502536/', 'https://www.cars24.com/buy-used-Maruti-Alto-K10-2012-cars-New-Delhi-1001393137/', 'https://www.cars24.com/buy-used-Renault-Kwid-2019-cars-New-Delhi-1002558939/', 'https://www.cars24.com/buy-used-Hyundai-Santro-Xing-2013-cars-New-Delhi-1005812230/', 'https://www.cars24.com/buy-used-Maruti-Swift-2016-cars-New-Delhi-1009264638/', 'https://www.cars24.com/buy-used-Maruti-Zen-Estilo-2009-cars-New-Delhi-1009677520/', 'https://www.cars24.com/buy-used-Maruti-Swift-Dzire-2008-cars-New-Delhi-1001709521/', 'https://www.cars24.com/buy-used-Maruti-Eeco-2016-cars-New-Delhi-1006364239/', 'https://www.cars24.com/buy-used-Hyundai-i10-2012-cars-New-Delhi-1009299024/', 'https://www.cars24.com/buy-used-Hyundai-Grand-i10-2016-cars-New-Delhi-1003618583/', 'https://www.cars24.com/buy-used-Hyundai-i10-2014-cars-New-Delhi-1004742536/', 'https://www.cars24.com/buy-used-Maruti-Swift-Dzire-2012-cars-New-Delhi-1004450032/', 'https://www.cars24.com/buy-used-Tata-Nano-2012-cars-New-Delhi-1002382136/', 'https://www.cars24.com/buy-used-Maruti-Swift-2013-cars-New-Delhi-1001471928/', 'https://www.cars24.com/buy-used-Maruti-A-Star-2011-cars-New-Delhi-1009245736/', 'https://www.cars24.com/buy-used-Honda-Brio-2012-cars-New-Delhi-1003458930/', 'https://www.cars24.com/buy-used-Maruti-Ertiga-2017-cars-New-Delhi-1008053036/', 'https://www.cars24.com/buy-used-Maruti-Swift-Dzire-2015-cars-New-Delhi-1009068834/', 'https://www.cars24.com/buy-used-Mahindra-Xylo-2011-cars-New-Delhi-1003423238/', 'https://www.cars24.com/buy-used-Hyundai-i10-2010-cars-New-Delhi-1002188630/', 'https://www.cars24.com/buy-used-Hyundai-i20-2010-cars-New-Delhi-1006574133/', 'https://www.cars24.com/buy-used-Maruti-Wagon-R-1.0-2015-cars-New-Delhi-1008349026/', 'https://www.cars24.com/buy-used-Maruti-Swift-Dzire-2008-cars-New-Delhi-1009309326/', 'https://www.cars24.com/buy-used-Hyundai-Verna-2012-cars-New-Delhi-1009293335/', 'https://www.cars24.com/buy-used-Hyundai-Eon-2011-cars-New-Delhi-1006400836/', 'https://www.cars24.com/buy-used-Maruti-Swift-2017-cars-New-Delhi-1004293735/', 'https://www.cars24.com/buy-used-Hyundai-Grand-i10-2019-cars-New-Delhi-1008014337/', 'https://www.cars24.com/buy-used-Renault-Kwid-2016-cars-New-Delhi-1006973421/', 'https://www.cars24.com/buy-used-Hyundai-Grand-i10-2015-cars-New-Delhi-1007567820/', 'https://www.cars24.com/buy-used-Maruti-Celerio-2018-cars-New-Delhi-1009972832/', 'https://www.cars24.com/buy-used-Hyundai-Grand-i10-2014-cars-New-Delhi-1009107736/', 'https://www.cars24.com/buy-used-Maruti-Swift-2013-cars-New-Delhi-1007212032/', 'https://www.cars24.com/buy-used-Maruti-Alto-K10-2011-cars-New-Delhi-1006803433/', 'https://www.cars24.com/buy-used-Hyundai-Grand-i10-2014-cars-New-Delhi-1009605137/', 'https://www.cars24.com/buy-used-Maruti-Baleno-2017-cars-New-Delhi-1006842739/', 'https://www.cars24.com/buy-used-Hyundai-i20-2011-cars-New-Delhi-1007495523/', 'https://www.cars24.com/buy-used-Skoda-Fabia-2011-cars-New-Delhi-1008658731/', 'https://www.cars24.com/buy-used-Maruti-Swift-2016-cars-New-Delhi-1004838733/', 'https://www.cars24.com/buy-used-Maruti-Swift-2010-cars-New-Delhi-1003560032/', 'https://www.cars24.com/buy-used-Honda-Amaze-2015-cars-New-Delhi-1001313037/', 'https://www.cars24.com/buy-used-Maruti-Alto-K10-2017-cars-New-Delhi-1001023734/', 'https://www.cars24.com/buy-used-Maruti-Ertiga-2012-cars-New-Delhi-1000745837/', 'https://www.cars24.com/buy-used-Maruti-Eeco-2019-cars-New-Delhi-1009438639/', 'https://www.cars24.com/buy-used-Renault-Duster-2012-cars-New-Delhi-1003118838/', 'https://www.cars24.com/buy-used-Maruti-Eeco-2019-cars-New-Delhi-1002154434/', 'https://www.cars24.com/buy-used-Tata-Tiago-2019-cars-New-Delhi-1001593530/', 'https://www.cars24.com/buy-used-Maruti-New--Wagon-R-2019-cars-New-Delhi-1002728439/', 'https://www.cars24.com/buy-used-Hyundai-i10-2012-cars-New-Delhi-1006335928/', 'https://www.cars24.com/buy-used-Hyundai-Xcent-2015-cars-New-Delhi-1000851121/', 'https://www.cars24.com/buy-used-Maruti-Swift-Dzire-2015-cars-New-Delhi-1004034434/', 'https://www.cars24.com/buy-used-Maruti-Wagon-R-1.0-2016-cars-New-Delhi-1003303832/', 'https://www.cars24.com/buy-used-Maruti-Alto-K10-2015-cars-New-Delhi-1004384531/', 'https://www.cars24.com/buy-used-Hyundai-NEW-SANTRO-2019-cars-New-Delhi-1003781431/', 'https://www.cars24.com/buy-used-Maruti-Wagon-R-1.0-2015-cars-New-Delhi-1009132237/', 'https://www.cars24.com/buy-used-Toyota-Innova-2010-cars-New-Delhi-1007462889/', 'https://www.cars24.com/buy-used-Honda-City-2014-cars-New-Delhi-1004187324/', 'https://www.cars24.com/buy-used-Hyundai-i10-2015-cars-New-Delhi-1006225138/', 'https://www.cars24.com/buy-used-Mahindra-TUV300-2016-cars-New-Delhi-1007671837/', 'https://www.cars24.com/buy-used-Maruti-Swift-2014-cars-New-Delhi-1006414338/', 'https://www.cars24.com/buy-used-Hyundai-i20-2010-cars-New-Delhi-1000886634/', 'https://www.cars24.com/buy-used-Maruti-Celerio-2018-cars-New-Delhi-1004672924/', 'https://www.cars24.com/buy-used-Hyundai-Santro-Xing-2012-cars-New-Delhi-1003567724/', 'https://www.cars24.com/buy-used-Tata-Nano-2015-cars-New-Delhi-1005668232/', 'https://www.cars24.com/buy-used-Maruti-Eeco-2015-cars-New-Delhi-1009375336/', 'https://www.cars24.com/buy-used-Maruti-Swift-2011-cars-New-Delhi-1006592133/', 'https://www.cars24.com/buy-used-Hyundai-i10-2016-cars-New-Delhi-1009101429/', 'https://www.cars24.com/buy-used-Maruti-Ciaz-2016-cars-New-Delhi-1008443334/', 'https://www.cars24.com/buy-used-Hyundai-Verna-2011-cars-New-Delhi-1008958234/', 'https://www.cars24.com/buy-used-Chevrolet-Spark-2010-cars-New-Delhi-1004358026/', 'https://www.cars24.com/buy-used-Maruti-Eeco-2016-cars-New-Delhi-1006738721/', 'https://www.cars24.com/buy-used-Nissan-Micra-2012-cars-New-Delhi-1005057223/', 'https://www.cars24.com/buy-used-Hyundai-i20-2011-cars-New-Delhi-1000509720/', 'https://www.cars24.com/buy-used-Hyundai-Elite-i20-2015-cars-New-Delhi-1007336734/', 'https://www.cars24.com/buy-used-Maruti-Baleno-2020-cars-New-Delhi-1001046732/', 'https://www.cars24.com/buy-used-Hyundai-Elite-i20-2015-cars-New-Delhi-1006944938/', 'https://www.cars24.com/buy-used-Maruti-Celerio-2016-cars-New-Delhi-1007848223/', 'https://www.cars24.com/buy-used-Maruti-Eeco-2018-cars-New-Delhi-1008012739/', 'https://www.cars24.com/buy-used-Hyundai-Grand-i10-2019-cars-New-Delhi-1001313739/', 'https://www.cars24.com/buy-used-Ford-Figo-2011-cars-New-Delhi-1005075635/', 'https://www.cars24.com/buy-used-Hyundai-i10-2013-cars-New-Delhi-1003629125/', 'https://www.cars24.com/buy-used-Hyundai-Grand-i10-2016-cars-New-Delhi-1006688027/', 'https://www.cars24.com/buy-used-Maruti-Wagon-R-2009-cars-New-Delhi-1004595323/', 'https://www.cars24.com/buy-used-Hyundai-Grand-i10-2015-cars-New-Delhi-1002851438/', 'https://www.cars24.com/buy-used-Hyundai-Elite-i20-2015-cars-New-Delhi-1002168238/', 'https://www.cars24.com/buy-used-Maruti-A-Star-2011-cars-New-Delhi-1009606635/', 'https://www.cars24.com/buy-used-Maruti-Swift-Dzire-2012-cars-New-Delhi-1002034432/', 'https://www.cars24.com/buy-used-Maruti-Swift-Dzire-2009-cars-New-Delhi-1002407123/', 'https://www.cars24.com/buy-used-Hyundai-Santro-Xing-2013-cars-New-Delhi-1005415332/', 'https://www.cars24.com/buy-used-Maruti-Swift-2017-cars-New-Delhi-1005673936/', 'https://www.cars24.com/buy-used-Renault-Kwid-2016-cars-New-Delhi-1007259936/', 'https://www.cars24.com/buy-used-Maruti-Eeco-2018-cars-New-Delhi-1005052934/', 'https://www.cars24.com/buy-used-Chevrolet-Beat-2014-cars-New-Delhi-1000918533/', 'https://www.cars24.com/buy-used-Hyundai-Eon-2012-cars-New-Delhi-1001839421/', 'https://www.cars24.com/buy-used-Hyundai-Xcent-2015-cars-New-Delhi-1002088429/', 'https://www.cars24.com/buy-used-Hyundai-Grand-i10-2016-cars-New-Delhi-1007840639/', 'https://www.cars24.com/buy-used-Maruti-Alto-800-2013-cars-New-Delhi-1008711028/', 'https://www.cars24.com/buy-used-Renault-Kwid-2016-cars-New-Delhi-1001968828/', 'https://www.cars24.com/buy-used-Ford-Ecosport-2015-cars-New-Delhi-1008445237/', 'https://www.cars24.com/buy-used-Hyundai-i10-2009-cars-New-Delhi-1004952935/', 'https://www.cars24.com/buy-used-Maruti-Celerio-2019-cars-New-Delhi-1002330335/', 'https://www.cars24.com/buy-used-Maruti-Eeco-2018-cars-New-Delhi-1003673632/', 'https://www.cars24.com/buy-used-Maruti-Wagon-R-1.0-2018-cars-New-Delhi-1005479429/', 'https://www.cars24.com/buy-used-Maruti-Alto-800-2014-cars-New-Delhi-1005516238/', 'https://www.cars24.com/buy-used-Maruti-Dzire-2017-cars-New-Delhi-1004109921/', 'https://www.cars24.com/buy-used-Hyundai-NEW-SANTRO-2019-cars-New-Delhi-1003315120/', 'https://www.cars24.com/buy-used-Maruti-Swift-Dzire-2008-cars-New-Delhi-1002843327/', 'https://www.cars24.com/buy-used-Renault-Kwid-2015-cars-New-Delhi-1002208830/', 'https://www.cars24.com/buy-used-Chevrolet-Spark-2011-cars-New-Delhi-1007808137/', 'https://www.cars24.com/buy-used-Renault-Kwid-2019-cars-New-Delhi-1008351729/', 'https://www.cars24.com/buy-used-Volkswagen-Vento-2013-cars-New-Delhi-1008407625/', 'https://www.cars24.com/buy-used-Hyundai-Eon-2017-cars-New-Delhi-1002309821/', 'https://www.cars24.com/buy-used-Maruti-Eeco-2020-cars-New-Delhi-1009935329/', 'https://www.cars24.com/buy-used-Maruti-Alto-2020-cars-New-Delhi-1005552235/', 'https://www.cars24.com/buy-used-Honda-Amaze-2015-cars-New-Delhi-1000591927/', 'https://www.cars24.com/buy-used-Hyundai-i10-2012-cars-New-Delhi-1005925927/', 'https://www.cars24.com/buy-used-Maruti-Vitara-Brezza-2016-cars-New-Delhi-1007612734/', 'https://www.cars24.com/buy-used-Maruti-Swift-Dzire-2014-cars-New-Delhi-1001982531/', 'https://www.cars24.com/buy-used-Ford-Figo-2012-cars-New-Delhi-1009612233/', 'https://www.cars24.com/buy-used-Maruti-Eeco-2017-cars-New-Delhi-1001843034/', 'https://www.cars24.com/buy-used-Maruti-Eeco-2018-cars-New-Delhi-1007007835/', 'https://www.cars24.com/buy-used-Hyundai-i10-2010-cars-New-Delhi-1008841726/', 'https://www.cars24.com/buy-used-Maruti-IGNIS-2017-cars-New-Delhi-1006348133/', 'https://www.cars24.com/buy-used-Renault-Kwid-2015-cars-New-Delhi-1009797625/', 'https://www.cars24.com/buy-used-Maruti-Eeco-2019-cars-New-Delhi-1152852432/', 'https://www.cars24.com/buy-used-Volkswagen-Ameo-2018-cars-New-Delhi-1007528030/', 'https://www.cars24.com/buy-used-Mahindra-Kuv100-2016-cars-New-Delhi-1009654533/', 'https://www.cars24.com/buy-used-Hyundai-i20-2011-cars-New-Delhi-1002252435/', 'https://www.cars24.com/buy-used-Tata-Tiago-2016-cars-New-Delhi-1006891120/', 'https://www.cars24.com/buy-used-Hyundai-Verna-2014-cars-New-Delhi-1008115639/', 'https://www.cars24.com/buy-used-Hyundai-Grand-i10-2018-cars-New-Delhi-1009524438/', 'https://www.cars24.com/buy-used-Maruti-Baleno-2016-cars-New-Delhi-1009947022/', 'https://www.cars24.com/buy-used-Maruti-Swift-2011-cars-New-Delhi-1002895032/', 'https://www.cars24.com/buy-used-Ford-Ecosport-2015-cars-New-Delhi-1008082031/', 'https://www.cars24.com/buy-used-Tata-Safari-2011-cars-New-Delhi-1004381327/', 'https://www.cars24.com/buy-used-Hyundai-i10-2011-cars-New-Delhi-1005527924/', 'https://www.cars24.com/buy-used-Nissan-Sunny-2012-cars-New-Delhi-1000652731/', 'https://www.cars24.com/buy-used-Chevrolet-Beat-2010-cars-New-Delhi-1005963030/', 'https://www.cars24.com/buy-used-Hyundai-i20-Active-2015-cars-New-Delhi-1009458733/', 'https://www.cars24.com/buy-used-Hyundai-Eon-2014-cars-New-Delhi-1001040538/', 'https://www.cars24.com/buy-used-Maruti-Wagon-R-1.0-2018-cars-New-Delhi-1009523838/', 'https://www.cars24.com/buy-used-Hyundai-Verna-2012-cars-New-Delhi-1009794430/', 'https://www.cars24.com/buy-used-Maruti-Baleno-2018-cars-New-Delhi-1003811639/', 'https://www.cars24.com/buy-used-Maruti-Swift-2017-cars-New-Delhi-1009034237/', 'https://www.cars24.com/buy-used-Maruti-Wagon-R-Stingray-2013-cars-New-Delhi-1002168631/', 'https://www.cars24.com/buy-used-Hyundai-Elite-i20-2016-cars-New-Delhi-1002992932/', 'https://www.cars24.com/buy-used-Maruti-Ertiga-2013-cars-New-Delhi-1005191527/', 'https://www.cars24.com/buy-used-Hyundai-Elite-i20-2014-cars-New-Delhi-1008092533/', 'https://www.cars24.com/buy-used-Maruti-Alto-2020-cars-New-Delhi-1005790434/', 'https://www.cars24.com/buy-used-Maruti-Swift-Dzire-2014-cars-New-Delhi-1008023225/', 'https://www.cars24.com/buy-used-Skoda-Fabia-2010-cars-New-Delhi-1003782139/', 'https://www.cars24.com/buy-used-Maruti-Swift-2013-cars-New-Delhi-1002851522/', 'https://www.cars24.com/buy-used-Ford-Figo-2011-cars-New-Delhi-1005675429/', 'https://www.cars24.com/buy-used-Ford-Figo-Aspire-2019-cars-New-Delhi-1009674434/', 'https://www.cars24.com/buy-used-Maruti-Eeco-2018-cars-New-Delhi-1008013233/', 'https://www.cars24.com/buy-used-Maruti-IGNIS-2018-cars-New-Delhi-1008717122/', 'https://www.cars24.com/buy-used-Hyundai-i10-2010-cars-New-Delhi-1003637528/', 'https://www.cars24.com/buy-used-Hyundai-Xcent-2017-cars-New-Delhi-1004876831/', 'https://www.cars24.com/buy-used-Maruti-Zen-Estilo-2011-cars-New-Delhi-1003904133/', 'https://www.cars24.com/buy-used-Maruti-Alto-800-2015-cars-New-Delhi-1000037628/', 'https://www.cars24.com/buy-used-Hyundai-i20-2011-cars-New-Delhi-1005519621/', 'https://www.cars24.com/buy-used-Hyundai-i10-2014-cars-New-Delhi-1002486236/', 'https://www.cars24.com/buy-used-Tata-Manza-2011-cars-New-Delhi-1008199728/', 'https://www.cars24.com/buy-used-Maruti-Swift-2014-cars-New-Delhi-1005345230/', 'https://www.cars24.com/buy-used-Maruti-Baleno-2020-cars-New-Delhi-1009173837/', 'https://www.cars24.com/buy-used-Mahindra-XUV500-2012-cars-New-Delhi-1007715024/', 'https://www.cars24.com/buy-used-Renault-Kwid-2018-cars-New-Delhi-1005434838/', 'https://www.cars24.com/buy-used-Hyundai-Accent-2010-cars-New-Delhi-1000382221/', 'https://www.cars24.com/buy-used-Tata-Nano-2011-cars-New-Delhi-1005999629/', 'https://www.cars24.com/buy-used-Renault-Kwid-2016-cars-New-Delhi-1001636331/', 'https://www.cars24.com/buy-used-Hyundai-Grand-i10-2016-cars-New-Delhi-1009197520/', 'https://www.cars24.com/buy-used-Hyundai-Verna-2012-cars-New-Delhi-1008833937/', 'https://www.cars24.com/buy-used-Chevrolet-Beat-2012-cars-New-Delhi-1003152737/', 'https://www.cars24.com/buy-used-Hyundai-i10-2013-cars-New-Delhi-1008779720/', 'https://www.cars24.com/buy-used-Ford-Ecosport-2015-cars-New-Delhi-1003228733/', 'https://www.cars24.com/buy-used-Maruti-Swift-2015-cars-New-Delhi-1002122732/', 'https://www.cars24.com/buy-used-Hyundai-i10-2011-cars-New-Delhi-1004967920/', 'https://www.cars24.com/buy-used-Maruti-Swift-2013-cars-New-Delhi-1004019622/', 'https://www.cars24.com/buy-used-Maruti-Wagon-R-1.0-2016-cars-New-Delhi-1008452839/', 'https://www.cars24.com/buy-used-Maruti-Wagon-R-1.0-2016-cars-New-Delhi-1006553034/', 'https://www.cars24.com/buy-used-Renault-Kwid-2017-cars-New-Delhi-1000896634/', 'https://www.cars24.com/buy-used-Mahindra-Quanto-2013-cars-New-Delhi-1000037927/', 'https://www.cars24.com/buy-used-Mahindra-XUV500-2012-cars-New-Delhi-1008723039/', 'https://www.cars24.com/buy-used-Maruti-Wagon-R-1.0-2015-cars-New-Delhi-1006562731/', 'https://www.cars24.com/buy-used-Hyundai-i10-2012-cars-New-Delhi-1001814231/', 'https://www.cars24.com/buy-used-Maruti-Wagon-R-1.0-2011-cars-New-Delhi-1004661837/', 'https://www.cars24.com/buy-used-Honda-City-ZX-2007-cars-New-Delhi-1000221226/', 'https://www.cars24.com/buy-used-Nissan-Terrano-2014-cars-New-Delhi-1009418734/', 'https://www.cars24.com/buy-used-Hyundai-Grand-i10-2017-cars-New-Delhi-1003695039/', 'https://www.cars24.com/buy-used-Maruti-Baleno-2018-cars-New-Delhi-1004404231/', 'https://www.cars24.com/buy-used-Hyundai-Grand-i10-2014-cars-New-Delhi-1008439328/', 'https://www.cars24.com/buy-used-Maruti-Swift-2014-cars-New-Delhi-1008151427/', 'https://www.cars24.com/buy-used-Hyundai-i10-2011-cars-New-Delhi-1003521127/', 'https://www.cars24.com/buy-used-Maruti-Eeco-2011-cars-New-Delhi-1008822736/', 'https://www.cars24.com/buy-used-Tata-Nano-2012-cars-New-Delhi-1008556035/', 'https://www.cars24.com/buy-used-Hyundai-Elite-i20-2016-cars-New-Delhi-1057792931/', 'https://www.cars24.com/buy-used-Tata-Tiago-2016-cars-New-Delhi-1008620736/', 'https://www.cars24.com/buy-used-Toyota-Etios-2014-cars-New-Delhi-1007111227/', 'https://www.cars24.com/buy-used-Chevrolet-Sail-UVA-2013-cars-New-Delhi-1003455039/', 'https://www.cars24.com/buy-used-Ford-Ecosport-2014-cars-New-Delhi-1009319521/', 'https://www.cars24.com/buy-used-Maruti-Swift-2013-cars-New-Delhi-1009030136/', 'https://www.cars24.com/buy-used-Maruti-Ciaz-2016-cars-New-Delhi-1006667729/', 'https://www.cars24.com/buy-used-Renault-Kwid-2016-cars-New-Delhi-1008491628/', 'https://www.cars24.com/buy-used-Honda-Amaze-2015-cars-New-Delhi-1009918029/', 'https://www.cars24.com/buy-used-Maruti-SX4-2009-cars-New-Delhi-1008738825/', 'https://www.cars24.com/buy-used-Hyundai-Verna-2012-cars-New-Delhi-1002141724/', 'https://www.cars24.com/buy-used-Maruti-Alto-K10-2011-cars-New-Delhi-1001535931/', 'https://www.cars24.com/buy-used-Tata-Indigo-ECS-2011-cars-New-Delhi-1000294735/', 'https://www.cars24.com/buy-used-Maruti-Swift-Dzire-2008-cars-New-Delhi-1000428230/', 'https://www.cars24.com/buy-used-Hyundai-Elite-i20-2017-cars-New-Delhi-1052536138/', 'https://www.cars24.com/buy-used-Mahindra-XUV500-2013-cars-New-Delhi-1008683037/', 'https://www.cars24.com/buy-used-Hyundai-Elite-i20-2016-cars-New-Delhi-1006915837/', 'https://www.cars24.com/buy-used-Hyundai-Elite-i20-2017-cars-New-Delhi-1003858338/', 'https://www.cars24.com/buy-used-Maruti-Wagon-R-1.0-2017-cars-New-Delhi-1003633833/', 'https://www.cars24.com/buy-used-Maruti-Eeco-2019-cars-New-Delhi-1006834635/', 'https://www.cars24.com/buy-used-Maruti-Baleno-2019-cars-New-Delhi-1001662836/', 'https://www.cars24.com/buy-used-Hyundai-Grand-i10-2015-cars-New-Delhi-1006903339/', 'https://www.cars24.com/buy-used-Maruti-Swift-2013-cars-New-Delhi-1007084435/', 'https://www.cars24.com/buy-used-Hyundai-NEW-SANTRO-2018-cars-New-Delhi-1008225131/', 'https://www.cars24.com/buy-used-Maruti-Swift-Dzire-2015-cars-New-Delhi-1000614831/', 'https://www.cars24.com/buy-used-Hyundai-Grand-i10-2014-cars-New-Delhi-1005945720/', 'https://www.cars24.com/buy-used-Maruti-Alto-K10-2017-cars-New-Delhi-1003906834/', 'https://www.cars24.com/buy-used-Hyundai-Xcent-2014-cars-New-Delhi-1001517520/', 'https://www.cars24.com/buy-used-Maruti-Alto-2019-cars-New-Delhi-1009847724/', 'https://www.cars24.com/buy-used-Maruti-Alto-2020-cars-New-Delhi-1006241021/', 'https://www.cars24.com/buy-used-Maruti-Swift-Dzire-2011-cars-New-Delhi-1007134331/', 'https://www.cars24.com/buy-used-Maruti-Ertiga-2015-cars-New-Delhi-1002553837/', 'https://www.cars24.com/buy-used-Maruti-Dzire-2018-cars-New-Delhi-1008929724/', 'https://www.cars24.com/buy-used-Hyundai-Grand-i10-2016-cars-New-Delhi-1004701721/', 'https://www.cars24.com/buy-used-Volkswagen-Vento-2011-cars-New-Delhi-1062051322/', 'https://www.cars24.com/buy-used-Hyundai-Eon-2015-cars-New-Delhi-1001095027/', 'https://www.cars24.com/buy-used-Honda-Amaze-2017-cars-New-Delhi-1003748733/', 'https://www.cars24.com/buy-used-Hyundai-Grand-i10-2017-cars-New-Delhi-1004098827/', 'https://www.cars24.com/buy-used-Hyundai-i10-2011-cars-New-Delhi-1000297726/', 'https://www.cars24.com/buy-used-Chevrolet-Beat-2015-cars-New-Delhi-1002501624/', 'https://www.cars24.com/buy-used-Maruti-Wagon-R-1.0-2011-cars-New-Delhi-1004261236/', 'https://www.cars24.com/buy-used-Hyundai-Elite-i20-2015-cars-New-Delhi-1003360535/', 'https://www.cars24.com/buy-used-Maruti-Wagon-R-1.0-2015-cars-New-Delhi-1006666534/', 'https://www.cars24.com/buy-used-Chevrolet-Sail-UVA-2016-cars-New-Delhi-1000262734/', 'https://www.cars24.com/buy-used-Hyundai-Elite-i20-2017-cars-New-Delhi-1001823432/', 'https://www.cars24.com/buy-used-Maruti-Swift-2018-cars-New-Delhi-1005409051/', 'https://www.cars24.com/buy-used-Hyundai-Verna-2012-cars-New-Delhi-1000546030/', 'https://www.cars24.com/buy-used-Maruti-Swift-2017-cars-New-Delhi-1009782127/', 'https://www.cars24.com/buy-used-Hyundai-i20-2013-cars-New-Delhi-1008072231/', 'https://www.cars24.com/buy-used-Maruti-Celerio-2015-cars-New-Delhi-1000679923/', 'https://www.cars24.com/buy-used-Hyundai-i20-2011-cars-New-Delhi-1003880130/', 'https://www.cars24.com/buy-used-Mercedes-Benz-C-Class-2006-cars-New-Delhi-1007881523/', 'https://www.cars24.com/buy-used-Maruti-Alto-2010-cars-New-Delhi-1007649927/', 'https://www.cars24.com/buy-used-Maruti-Wagon-R-1.0-2017-cars-New-Delhi-1004044739/', 'https://www.cars24.com/buy-used-Mahindra-Kuv100-2016-cars-New-Delhi-1007241537/', 'https://www.cars24.com/buy-used-Datsun-Redi-Go-2016-cars-New-Delhi-1000531725/', 'https://www.cars24.com/buy-used-Honda-City-ZX-2006-cars-New-Delhi-1008681127/', 'https://www.cars24.com/buy-used-Maruti-Eeco-2016-cars-New-Delhi-1002783332/', 'https://www.cars24.com/buy-used-Maruti-Ciaz-2017-cars-New-Delhi-1008434438/', 'https://www.cars24.com/buy-used-Tata-Nano-2012-cars-New-Delhi-1004148229/', 'https://www.cars24.com/buy-used-Chevrolet-Beat-2015-cars-New-Delhi-1059443033/', 'https://www.cars24.com/buy-used-Honda-City-2011-cars-New-Delhi-1002478835/', 'https://www.cars24.com/buy-used-Maruti-Swift-2008-cars-New-Delhi-1002064731/', 'https://www.cars24.com/buy-used-Maruti-Swift-Dzire-2013-cars-New-Delhi-1006544930/', 'https://www.cars24.com/buy-used-Hyundai-i20-2010-cars-New-Delhi-1006057225/', 'https://www.cars24.com/buy-used-Hyundai-Grand-i10-2015-cars-New-Delhi-1001457122/', 'https://www.cars24.com/buy-used-Toyota-Innova-2014-cars-New-Delhi-1006038921/', 'https://www.cars24.com/buy-used-Maruti-Alto-2020-cars-New-Delhi-1005755725/', 'https://www.cars24.com/buy-used-Hyundai-Accent-2011-cars-New-Delhi-1004804535/', 'https://www.cars24.com/buy-used-Volkswagen-Ameo-2019-cars-New-Delhi-1009061229/', 'https://www.cars24.com/buy-used-Hyundai-Grand-i10-2016-cars-New-Delhi-1001531321/', 'https://www.cars24.com/buy-used-Honda-Amaze-2017-cars-New-Delhi-1009951533/', 'https://www.cars24.com/buy-used-Tata-Indigo-ECS-2011-cars-New-Delhi-1004823933/', 'https://www.cars24.com/buy-used-Renault-Kwid-2017-cars-New-Delhi-1001547520/', 'https://www.cars24.com/buy-used-Maruti-Swift-Dzire-2012-cars-New-Delhi-1009979320/', 'https://www.cars24.com/buy-used-Tata-Nano-2009-cars-New-Delhi-1005337421/', 'https://www.cars24.com/buy-used-Maruti-Swift-Dzire-2012-cars-New-Delhi-1008024933/', 'https://www.cars24.com/buy-used-Skoda-Laura-2011-cars-New-Delhi-1009391123/', 'https://www.cars24.com/buy-used-Mahindra-Thar-2015-cars-New-Delhi-1012557536/', 'https://www.cars24.com/buy-used-Maruti-Alto-2010-cars-New-Delhi-1004448925/', 'https://www.cars24.com/buy-used-Maruti-Celerio-2017-cars-New-Delhi-1007266232/', 'https://www.cars24.com/buy-used-Maruti-Wagon-R-1.0-2018-cars-New-Delhi-1001479728/', 'https://www.cars24.com/buy-used-Maruti-Wagon-R-1.0-2010-cars-New-Delhi-1000614036/', 'https://www.cars24.com/buy-used-Ford-Figo-2012-cars-New-Delhi-1008897635/', 'https://www.cars24.com/buy-used-Honda-Civic-2020-cars-New-Delhi-1005641123/', 'https://www.cars24.com/buy-used-Ford-Figo-2013-cars-New-Delhi-1000464734/', 'https://www.cars24.com/buy-used-Hyundai-i20-2011-cars-New-Delhi-1009444434/', 'https://www.cars24.com/buy-used-Maruti-Alto-2011-cars-New-Delhi-1007725130/', 'https://www.cars24.com/buy-used-Hyundai-i10-2013-cars-New-Delhi-1001465029/', 'https://www.cars24.com/buy-used-Maruti-Wagon-R-1.0-2015-cars-New-Delhi-1002080737/', 'https://www.cars24.com/buy-used-Maruti-Alto-2009-cars-New-Delhi-1004201627/', 'https://www.cars24.com/buy-used-Ford-Figo-2012-cars-New-Delhi-1003087524/', 'https://www.cars24.com/buy-used-Honda-Civic-2010-cars-New-Delhi-1005563028/', 'https://www.cars24.com/buy-used-Chevrolet-Aveo-2011-cars-New-Delhi-1004982039/', 'https://www.cars24.com/buy-used-Tata-Tiago-2018-cars-New-Delhi-1056546034/', 'https://www.cars24.com/buy-used-Hyundai-Grand-i10-2018-cars-New-Delhi-1002539428/', 'https://www.cars24.com/buy-used-Maruti-Swift-2013-cars-New-Delhi-1002027128/', 'https://www.cars24.com/buy-used-Toyota-Etios-Liva-2012-cars-New-Delhi-1003656135/', 'https://www.cars24.com/buy-used-Maruti-Swift-2016-cars-New-Delhi-1006245328/', 'https://www.cars24.com/buy-used-Maruti-Swift-Dzire-2010-cars-New-Delhi-1001493534/', 'https://www.cars24.com/buy-used-Tata-Tiago-2018-cars-New-Delhi-1007954432/', 'https://www.cars24.com/buy-used-Toyota-Corolla-Altis-2011-cars-New-Delhi-1001671521/', 'https://www.cars24.com/buy-used-Maruti-Baleno-2019-cars-New-Delhi-1008774330/', 'https://www.cars24.com/buy-used-Maruti-Eeco-2019-cars-New-Delhi-1010975939/', 'https://www.cars24.com/buy-used-Maruti-Zen-Estilo-2010-cars-New-Delhi-1000128438/', 'https://www.cars24.com/buy-used-KIA-SELTOS-2020-cars-New-Delhi-1121651622/', 'https://www.cars24.com/buy-used-Maruti-Wagon-R-Duo-2009-cars-New-Delhi-1004093833/', 'https://www.cars24.com/buy-used-Maruti-Eeco-2018-cars-New-Delhi-1000069027/', 'https://www.cars24.com/buy-used-Ford-Figo-2013-cars-New-Delhi-1005397227/', 'https://www.cars24.com/buy-used-Hyundai-Santro-Xing-2013-cars-New-Delhi-1001029228/', 'https://www.cars24.com/buy-used-Mahindra-KUV-100-NXT-2017-cars-New-Delhi-1009687629/', 'https://www.cars24.com/buy-used-Maruti-Wagon-R-Stingray-2015-cars-New-Delhi-1006607522/', 'https://www.cars24.com/buy-used-Maruti-Wagon-R-1.0-2011-cars-New-Delhi-1001062832/', 'https://www.cars24.com/buy-used-Maruti-IGNIS-2017-cars-New-Delhi-1005206932/', 'https://www.cars24.com/buy-used-Honda-Amaze-2013-cars-New-Delhi-1003167329/', 'https://www.cars24.com/buy-used-Mahindra-XUV500-2012-cars-New-Delhi-1002535224/', 'https://www.cars24.com/buy-used-Ford-Figo-2011-cars-New-Delhi-1005853633/', 'https://www.cars24.com/buy-used-Tata-Tiago-2017-cars-New-Delhi-1004302838/', 'https://www.cars24.com/buy-used-Hyundai-i10-2016-cars-New-Delhi-1009808431/', 'https://www.cars24.com/buy-used-Renault-Kwid-2019-cars-New-Delhi-1000321727/', 'https://www.cars24.com/buy-used-Honda-Amaze-2020-cars-New-Delhi-1006791721/', 'https://www.cars24.com/buy-used-Renault-Duster-2013-cars-New-Delhi-1001504032/', 'https://www.cars24.com/buy-used-Tata-Tiago-2018-cars-New-Delhi-1007367529/', 'https://www.cars24.com/buy-used-Honda-City-2015-cars-New-Delhi-1009532933/', 'https://www.cars24.com/buy-used-Chevrolet-Cruze-2011-cars-New-Delhi-1004656785/', 'https://www.cars24.com/buy-used-Hyundai-i10-2010-cars-New-Delhi-1006436334/', 'https://www.cars24.com/buy-used-Hyundai-i20-2011-cars-New-Delhi-1008060437/', 'https://www.cars24.com/buy-used-Maruti-Wagon-R-1.0-2013-cars-New-Delhi-1007723736/', 'https://www.cars24.com/buy-used-Mahindra-Kuv100-2016-cars-New-Delhi-1008882029/', 'https://www.cars24.com/buy-used-Maruti-Celerio-2015-cars-New-Delhi-1009869325/', 'https://www.cars24.com/buy-used-Hyundai-i10-2015-cars-New-Delhi-1007445125/', 'https://www.cars24.com/buy-used-Chevrolet-Beat-2011-cars-New-Delhi-1003089122/', 'https://www.cars24.com/buy-used-Toyota-Etios-Liva-2016-cars-New-Delhi-1003933529/', 'https://www.cars24.com/buy-used-Mahindra-Thar-2012-cars-New-Delhi-1000337124/', 'https://www.cars24.com/buy-used-Hyundai-i10-2012-cars-New-Delhi-1005924932/', 'https://www.cars24.com/buy-used-Hyundai-i20-Active-2016-cars-New-Delhi-1005082033/', 'https://www.cars24.com/buy-used-Maruti-Swift-2012-cars-New-Delhi-1005016335/', 'https://www.cars24.com/buy-used-Tata-Nano-2010-cars-New-Delhi-1000890937/', 'https://www.cars24.com/buy-used-Maruti-Swift-2017-cars-New-Delhi-1003042537/', 'https://www.cars24.com/buy-used-Toyota-Etios-2011-cars-New-Delhi-1009420735/', 'https://www.cars24.com/buy-used-Skoda-Rapid-2015-cars-New-Delhi-1004365624/', 'https://www.cars24.com/buy-used-Maruti-Eeco-2019-cars-New-Delhi-1003653137/', 'https://www.cars24.com/buy-used-Hyundai-i20-2013-cars-New-Delhi-1008156234/', 'https://www.cars24.com/buy-used-Hyundai-Grand-i10-2014-cars-New-Delhi-1002676134/', 'https://www.cars24.com/buy-used-Maruti-Wagon-R-2009-cars-New-Delhi-1008111021/', 'https://www.cars24.com/buy-used-Nissan-Sunny-2012-cars-New-Delhi-1004424938/', 'https://www.cars24.com/buy-used-Datsun-Go-2014-cars-New-Delhi-1006660938/', 'https://www.cars24.com/buy-used-Honda-Amaze-2016-cars-New-Delhi-1001784432/', 'https://www.cars24.com/buy-used-Maruti-Wagon-R-1.0-2015-cars-New-Delhi-1007456734/', 'https://www.cars24.com/buy-used-Tata-Nano-2012-cars-New-Delhi-1000043138/', 'https://www.cars24.com/buy-used-Toyota-Etios-Liva-2015-cars-New-Delhi-1003977729/', 'https://www.cars24.com/buy-used-Renault-Kwid-2015-cars-New-Delhi-1003284438/', 'https://www.cars24.com/buy-used-Hyundai-i10-2015-cars-New-Delhi-1053883252/', 'https://www.cars24.com/buy-used-Hyundai-Verna-2012-cars-New-Delhi-1002612338/', 'https://www.cars24.com/buy-used-Honda-Amaze-2014-cars-New-Delhi-1000996434/', 'https://www.cars24.com/buy-used-Renault-Duster-2013-cars-New-Delhi-1003775922/', 'https://www.cars24.com/buy-used-Maruti-Swift-2018-cars-New-Delhi-1001765231/', 'https://www.cars24.com/buy-used-Honda-City-2019-cars-New-Delhi-1002103524/', 'https://www.cars24.com/buy-used-Maruti-Swift-2012-cars-New-Delhi-1004111224/', 'https://www.cars24.com/buy-used-Maruti-Wagon-R-1.0-2018-cars-New-Delhi-1001311732/', 'https://www.cars24.com/buy-used-Chevrolet-Beat-2013-cars-New-Delhi-1000042133/', 'https://www.cars24.com/buy-used-Hyundai-Elite-i20-2016-cars-New-Delhi-1001930931/', 'https://www.cars24.com/buy-used-Honda-Amaze-2014-cars-New-Delhi-1127965136/', 'https://www.cars24.com/buy-used-Maruti-Wagon-R-2008-cars-New-Delhi-1008101921/', 'https://www.cars24.com/buy-used-Maruti-Eeco-2019-cars-New-Delhi-1003934439/', 'https://www.cars24.com/buy-used-Hyundai-Elite-i20-2015-cars-New-Delhi-1006639523/', 'https://www.cars24.com/buy-used-Hyundai-Grand-i10-2015-cars-New-Delhi-1000066732/', 'https://www.cars24.com/buy-used-Nissan-Micra-2012-cars-New-Delhi-1009210037/', 'https://www.cars24.com/buy-used-Maruti-SX4-2008-cars-New-Delhi-1000321020/', 'https://www.cars24.com/buy-used-Maruti-Ertiga-2020-cars-New-Delhi-1005044634/', 'https://www.cars24.com/buy-used-Maruti-Ertiga-2016-cars-New-Delhi-1000938732/', 'https://www.cars24.com/buy-used-Maruti-Wagon-R-Stingray-2016-cars-New-Delhi-1000773036/', 'https://www.cars24.com/buy-used-Honda-City-2014-cars-New-Delhi-1005510538/', 'https://www.cars24.com/buy-used-Hyundai-i10-2013-cars-New-Delhi-1008084537/', 'https://www.cars24.com/buy-used-Maruti-Swift-2017-cars-New-Delhi-1000560236/', 'https://www.cars24.com/buy-used-Hyundai-Grand-i10-2016-cars-New-Delhi-1003153836/', 'https://www.cars24.com/buy-used-Maruti-Baleno-2018-cars-New-Delhi-1009545839/', 'https://www.cars24.com/buy-used-Nissan-Sunny-2012-cars-New-Delhi-1001574634/', 'https://www.cars24.com/buy-used-Hyundai-i10-2010-cars-New-Delhi-1004181027/', 'https://www.cars24.com/buy-used-Chevrolet-Beat-2010-cars-New-Delhi-1006995730/', 'https://www.cars24.com/buy-used-Maruti-Baleno-2020-cars-New-Delhi-1008572135/', 'https://www.cars24.com/buy-used-Maruti-New--Wagon-R-2019-cars-New-Delhi-1001239424/', 'https://www.cars24.com/buy-used-Hyundai-NEW-SANTRO-2018-cars-New-Delhi-1008223033/', 'https://www.cars24.com/buy-used-Honda-Amaze-2016-cars-New-Delhi-1003264134/', 'https://www.cars24.com/buy-used-Hyundai-i20-2011-cars-New-Delhi-1005223736/', 'https://www.cars24.com/buy-used-Honda-Amaze-2013-cars-New-Delhi-1006826832/', 'https://www.cars24.com/buy-used-Hyundai-Grand-i10-2015-cars-New-Delhi-1005251621/', 'https://www.cars24.com/buy-used-Ssangyong-Rexton-2013-cars-New-Delhi-1001248931/', 'https://www.cars24.com/buy-used-Chevrolet-Spark-2009-cars-New-Delhi-1009025023/', 'https://www.cars24.com/buy-used-Hyundai-Grand-i10-2013-cars-New-Delhi-1007262723/', 'https://www.cars24.com/buy-used-Chevrolet-Beat-2014-cars-New-Delhi-1006395732/', 'https://www.cars24.com/buy-used-Mahindra-Kuv100-2017-cars-New-Delhi-1000878034/', 'https://www.cars24.com/buy-used-Maruti-Eeco-2018-cars-New-Delhi-1003023836/', 'https://www.cars24.com/buy-used-Chevrolet-Beat-2012-cars-New-Delhi-1000543132/', 'https://www.cars24.com/buy-used-Maruti-Swift-2011-cars-New-Delhi-1007758334/', 'https://www.cars24.com/buy-used-Maruti-Baleno-2018-cars-New-Delhi-1003288836/', 'https://www.cars24.com/buy-used-Maruti-Swift-2015-cars-New-Delhi-1008311522/', 'https://www.cars24.com/buy-used-Honda-City-ZX-2008-cars-New-Delhi-1004951038/', 'https://www.cars24.com/buy-used-Maruti-Baleno-2019-cars-New-Delhi-1004775235/', 'https://www.cars24.com/buy-used-Maruti-Ritz-2012-cars-New-Delhi-1006377128/', 'https://www.cars24.com/buy-used-Hyundai-i10-2009-cars-New-Delhi-1002601828/', 'https://www.cars24.com/buy-used-Hyundai-Santro-Xing-2010-cars-New-Delhi-1001559726/', 'https://www.cars24.com/buy-used-Maruti-Alto-K10-2012-cars-New-Delhi-1001392337/', 'https://www.cars24.com/buy-used-Hyundai-i20-2013-cars-New-Delhi-1004634034/', 'https://www.cars24.com/buy-used-Maruti-Celerio-2017-cars-New-Delhi-1122087221/', 'https://www.cars24.com/buy-used-Maruti-Wagon-R-1.0-2015-cars-New-Delhi-1004110935/', 'https://www.cars24.com/buy-used-Hyundai-i10-2010-cars-New-Delhi-1006597128/', 'https://www.cars24.com/buy-used-Maruti-Swift-2015-cars-New-Delhi-1002366335/', 'https://www.cars24.com/buy-used-Hyundai-Eon-2016-cars-New-Delhi-1002239823/', 'https://www.cars24.com/buy-used-Maruti-Swift-2015-cars-New-Delhi-1005549328/', 'https://www.cars24.com/buy-used-Tata-Tiago-2017-cars-New-Delhi-1004101724/', 'https://www.cars24.com/buy-used-Ford-Ecosport-2014-cars-New-Delhi-1003354933/', 'https://www.cars24.com/buy-used-Nissan-Micra-2017-cars-New-Delhi-1004686037/', 'https://www.cars24.com/buy-used-Honda-Amaze-2014-cars-New-Delhi-1005329327/', 'https://www.cars24.com/buy-used-Hyundai-Elite-i20-2014-cars-New-Delhi-1001378634/', 'https://www.cars24.com/buy-used-Tata-Indica-Vista-2010-cars-New-Delhi-1006894235/', 'https://www.cars24.com/buy-used-Maruti-Zen-Estilo-2011-cars-New-Delhi-1002963130/', 'https://www.cars24.com/buy-used-Tata-Tiago-2018-cars-New-Delhi-1000754633/', 'https://www.cars24.com/buy-used-Maruti-SX4-2011-cars-New-Delhi-1004647728/', 'https://www.cars24.com/buy-used-Ford-Figo-2012-cars-New-Delhi-1007697429/', 'https://www.cars24.com/buy-used-Honda-Brio-2012-cars-New-Delhi-1005942730/', 'https://www.cars24.com/buy-used-Maruti-Swift-2017-cars-New-Delhi-1005521721/', 'https://www.cars24.com/buy-used-Mahindra-XUV500-2012-cars-New-Delhi-1006686339/', 'https://www.cars24.com/buy-used-Hyundai-i20-2011-cars-New-Delhi-1008472838/', 'https://www.cars24.com/buy-used-Maruti-Alto-K10-2010-cars-New-Delhi-1005756233/', 'https://www.cars24.com/buy-used-Maruti-Baleno-2016-cars-New-Delhi-1008194337/', 'https://www.cars24.com/buy-used-Hyundai-Verna-2011-cars-New-Delhi-1004603820/', 'https://www.cars24.com/buy-used-Mahindra-Kuv100-2016-cars-New-Delhi-1003465135/', 'https://www.cars24.com/buy-used-Honda-Brio-2016-cars-New-Delhi-1008091929/', 'https://www.cars24.com/buy-used-Maruti-Ritz-2012-cars-New-Delhi-1003923925/', 'https://www.cars24.com/buy-used-Hyundai-Grand-i10-2016-cars-New-Delhi-1003122239/', 'https://www.cars24.com/buy-used-Maruti-Celerio-2016-cars-New-Delhi-1009136535/', 'https://www.cars24.com/buy-used-Ford-Ecosport-2017-cars-New-Delhi-1006535832/', 'https://www.cars24.com/buy-used-Hyundai-Grand-i10-2017-cars-New-Delhi-1007381724/', 'https://www.cars24.com/buy-used-Ford-Figo-2012-cars-New-Delhi-1000529722/', 'https://www.cars24.com/buy-used-Hyundai-i10-2013-cars-New-Delhi-1004010034/', 'https://www.cars24.com/buy-used-Maruti-Swift-Dzire-2013-cars-New-Delhi-1008538034/', 'https://www.cars24.com/buy-used-Hyundai-Santro-Xing-2014-cars-New-Delhi-1009418623/', 'https://www.cars24.com/buy-used-Hyundai-i10-2013-cars-New-Delhi-1007799121/', 'https://www.cars24.com/buy-used-Hyundai-i20-2013-cars-New-Delhi-1156837825/', 'https://www.cars24.com/buy-used-Maruti-Alto-2011-cars-New-Delhi-1007434934/', 'https://www.cars24.com/buy-used-Tata-Tiago-2018-cars-New-Delhi-1007287234/', 'https://www.cars24.com/buy-used-Toyota-Corolla-Altis-2010-cars-New-Delhi-1001302638/', 'https://www.cars24.com/buy-used-Hyundai-i10-2012-cars-New-Delhi-1009160535/', 'https://www.cars24.com/buy-used-Maruti-Ritz-2015-cars-New-Delhi-1000401623/', 'https://www.cars24.com/buy-used-Maruti-Alto-800-2014-cars-New-Delhi-1007593425/', 'https://www.cars24.com/buy-used-Maruti-Wagon-R-1.0-2017-cars-New-Delhi-1005421339/', 'https://www.cars24.com/buy-used-Maruti-Zen-Estilo-2010-cars-New-Delhi-1003935232/', 'https://www.cars24.com/buy-used-Mahindra-XUV500-2015-cars-New-Delhi-1000947223/', 'https://www.cars24.com/buy-used-Chevrolet-Beat-2012-cars-New-Delhi-1003429621/', 'https://www.cars24.com/buy-used-Tata-Indigo-ECS-2012-cars-New-Delhi-1006576837/', 'https://www.cars24.com/buy-used-Hyundai-Eon-2012-cars-New-Delhi-1005729720/', 'https://www.cars24.com/buy-used-Maruti-Wagon-R-1.0-2015-cars-New-Delhi-1007581023/', 'https://www.cars24.com/buy-used-Hyundai-Grand-i10-2013-cars-New-Delhi-1009627222/', 'https://www.cars24.com/buy-used-Hyundai-Santro-Xing-2013-cars-New-Delhi-1006086632/', 'https://www.cars24.com/buy-used-Maruti-Swift-2020-cars-New-Delhi-1009967028/', 'https://www.cars24.com/buy-used-Maruti-Wagon-R-1.0-2011-cars-New-Delhi-1006881820/', 'https://www.cars24.com/buy-used-Maruti-Swift-2015-cars-New-Delhi-1008606939/', 'https://www.cars24.com/buy-used-Hyundai-Elite-i20-2017-cars-New-Delhi-1005683133/', 'https://www.cars24.com/buy-used-Maruti-Alto-2010-cars-New-Delhi-1008456937/', 'https://www.cars24.com/buy-used-Maruti-Eeco-2018-cars-New-Delhi-1004105928/', 'https://www.cars24.com/buy-used-Hyundai-Santro-Xing-2013-cars-New-Delhi-1005369056/', 'https://www.cars24.com/buy-used-Maruti-Wagon-R-1.0-2013-cars-New-Delhi-1007261925/', 'https://www.cars24.com/buy-used-Maruti-Eeco-2016-cars-New-Delhi-1007913030/', 'https://www.cars24.com/buy-used-Hyundai-Grand-i10-2015-cars-New-Delhi-1009866731/', 'https://www.cars24.com/buy-used-Hyundai-i10-2013-cars-New-Delhi-1005861322/', 'https://www.cars24.com/buy-used-Hyundai-i10-2015-cars-New-Delhi-1001274831/', 'https://www.cars24.com/buy-used-Tata-Zest-2015-cars-New-Delhi-1008262831/', 'https://www.cars24.com/buy-used-Hyundai-Grand-i10-2015-cars-New-Delhi-1005994332/', 'https://www.cars24.com/buy-used-Maruti-Swift-2016-cars-New-Delhi-1006520335/', 'https://www.cars24.com/buy-used-Maruti-Vitara-Brezza-2016-cars-New-Delhi-1008112039/', 'https://www.cars24.com/buy-used-Maruti-Ertiga-2015-cars-New-Delhi-1001909328/', 'https://www.cars24.com/buy-used-Hyundai-i20-2011-cars-New-Delhi-1006698826/', 'https://www.cars24.com/buy-used-Chevrolet-Cruze-2011-cars-New-Delhi-1003368532/', 'https://www.cars24.com/buy-used-Maruti-Zen-Estilo-2013-cars-New-Delhi-1001405026/', 'https://www.cars24.com/buy-used-Hyundai-i10-2012-cars-New-Delhi-1002869921/', 'https://www.cars24.com/buy-used-Maruti-Ritz-2013-cars-New-Delhi-1006629527/', 'https://www.cars24.com/buy-used-Ford-Figo-2013-cars-New-Delhi-1007747134/', 'https://www.cars24.com/buy-used-Renault-Kwid-2017-cars-New-Delhi-1000879824/', 'https://www.cars24.com/buy-used-Hyundai-i20-2010-cars-New-Delhi-1000452332/', 'https://www.cars24.com/buy-used-Maruti-Wagon-R-1.0-2017-cars-New-Delhi-1009092337/', 'https://www.cars24.com/buy-used-Maruti-Alto-800-2013-cars-New-Delhi-1007391721/', 'https://www.cars24.com/buy-used-Maruti-Baleno-2018-cars-New-Delhi-1004285131/', 'https://www.cars24.com/buy-used-Maruti-Swift-Dzire-2012-cars-New-Delhi-1004935331/', 'https://www.cars24.com/buy-used-Honda-Amaze-2015-cars-New-Delhi-1007127722/', 'https://www.cars24.com/buy-used-Hyundai-i10-2012-cars-New-Delhi-1001858739/', 'https://www.cars24.com/buy-used-Hyundai-i10-2009-cars-New-Delhi-1000160832/', 'https://www.cars24.com/buy-used-Nissan-Terrano-2014-cars-New-Delhi-1004547134/', 'https://www.cars24.com/buy-used-Maruti-Swift-2012-cars-New-Delhi-1006134533/', 'https://www.cars24.com/buy-used-Chevrolet-Beat-2012-cars-New-Delhi-1000111725/', 'https://www.cars24.com/buy-used-Hyundai-Verna-2020-cars-New-Delhi-1003454031/', 'https://www.cars24.com/buy-used-Mahindra-XUV500-2014-cars-New-Delhi-1007875238/', 'https://www.cars24.com/buy-used-Maruti-Swift-Dzire-2013-cars-New-Delhi-1002010032/', 'https://www.cars24.com/buy-used-Hyundai-Verna-2013-cars-New-Delhi-1006716232/', 'https://www.cars24.com/buy-used-Chevrolet-Aveo-2011-cars-New-Delhi-1005058832/', 'https://www.cars24.com/buy-used-Nissan-Terrano-2014-cars-New-Delhi-1006924033/', 'https://www.cars24.com/buy-used-Renault-Kwid-2016-cars-New-Delhi-1001334239/', 'https://www.cars24.com/buy-used-Mahindra-TUV300-2017-cars-New-Delhi-1006703038/', 'https://www.cars24.com/buy-used-Maruti-Baleno-2018-cars-New-Delhi-1000138630/', 'https://www.cars24.com/buy-used-Honda-Amaze-2017-cars-New-Delhi-1005785436/', 'https://www.cars24.com/buy-used-Hyundai-i20-2012-cars-New-Delhi-1001810935/', 'https://www.cars24.com/buy-used-Maruti-Swift-2014-cars-New-Delhi-1005887825/', 'https://www.cars24.com/buy-used-Ford-Ecosport-2015-cars-New-Delhi-1001081235/', 'https://www.cars24.com/buy-used-Honda-Jazz-2012-cars-New-Delhi-1009413925/', 'https://www.cars24.com/buy-used-Hyundai-i10-2011-cars-New-Delhi-1004545726/', 'https://www.cars24.com/buy-used-Maruti-Alto-K10-2015-cars-New-Delhi-1006591622/', 'https://www.cars24.com/buy-used-Hyundai-i10-2011-cars-New-Delhi-1009169925/', 'https://www.cars24.com/buy-used-Nissan-Micra-2011-cars-New-Delhi-1002582635/', 'https://www.cars24.com/buy-used-Ford-Figo-2015-cars-New-Delhi-1000941024/', 'https://www.cars24.com/buy-used-Maruti-Swift-Dzire-2009-cars-New-Delhi-1001399322/', 'https://www.cars24.com/buy-used-Hyundai-i20-2009-cars-New-Delhi-1003936633/', 'https://www.cars24.com/buy-used-Hyundai-i10-2011-cars-New-Delhi-1003620435/', 'https://www.cars24.com/buy-used-Hyundai-Elite-i20-2015-cars-New-Delhi-1009954981/', 'https://www.cars24.com/buy-used-Hyundai-Elite-i20-2017-cars-New-Delhi-1002041333/', 'https://www.cars24.com/buy-used-Nissan-Micra-2012-cars-New-Delhi-1000824839/', 'https://www.cars24.com/buy-used-Maruti-Alto-800-2016-cars-New-Delhi-1000780730/', 'https://www.cars24.com/buy-used-Maruti-Wagon-R-1.0-2017-cars-New-Delhi-1002542833/', 'https://www.cars24.com/buy-used-Maruti-A-Star-2011-cars-New-Delhi-1008064936/', 'https://www.cars24.com/buy-used-Maruti-Baleno-2016-cars-New-Delhi-1001911437/', 'https://www.cars24.com/buy-used-Maruti-Swift-2017-cars-New-Delhi-1001398438/', 'https://www.cars24.com/buy-used-Renault-Kwid-2016-cars-New-Delhi-1003910831/', 'https://www.cars24.com/buy-used-Maruti-Eeco-2017-cars-New-Delhi-1003378132/', 'https://www.cars24.com/buy-used-Hyundai-Santro-Xing-2013-cars-New-Delhi-1001395339/', 'https://www.cars24.com/buy-used-Maruti-Baleno-2019-cars-New-Delhi-1005645533/', 'https://www.cars24.com/buy-used-Hyundai-i10-2013-cars-New-Delhi-1004008230/', 'https://www.cars24.com/buy-used-Chevrolet-Beat-2014-cars-New-Delhi-1005975239/', 'https://www.cars24.com/buy-used-Maruti-IGNIS-2017-cars-New-Delhi-1002393536/', 'https://www.cars24.com/buy-used-Maruti-Eeco-2015-cars-New-Delhi-1008822730/', 'https://www.cars24.com/buy-used-Hyundai-i20-2012-cars-New-Delhi-1006640730/', 'https://www.cars24.com/buy-used-Maruti-Swift-Dzire-2012-cars-New-Delhi-1007778824/', 'https://www.cars24.com/buy-used-Tata-Tiago-2016-cars-New-Delhi-1000396634/', 'https://www.cars24.com/buy-used-Toyota-Corolla-Altis-2011-cars-New-Delhi-1000039125/', 'https://www.cars24.com/buy-used-Hyundai-i10-2011-cars-New-Delhi-1009102938/', 'https://www.cars24.com/buy-used-Hyundai-i10-2009-cars-New-Delhi-1008113734/', 'https://www.cars24.com/buy-used-Maruti-Swift-Dzire-2014-cars-New-Delhi-1004464432/', 'https://www.cars24.com/buy-used-Chevrolet-Beat-2012-cars-New-Delhi-1005759424/', 'https://www.cars24.com/buy-used-Maruti-Wagon-R-1.0-2010-cars-New-Delhi-1001486038/', 'https://www.cars24.com/buy-used-Maruti-Dzire-2018-cars-New-Delhi-1004954132/', 'https://www.cars24.com/buy-used-Honda-City-2016-cars-New-Delhi-1000134437/', 'https://www.cars24.com/buy-used-Maruti-Baleno-2016-cars-New-Delhi-1002961132/', 'https://www.cars24.com/buy-used-Hyundai-Grand-i10-2017-cars-New-Delhi-1008701426/', 'https://www.cars24.com/buy-used-Toyota-Corolla-Altis-2010-cars-New-Delhi-1003185527/', 'https://www.cars24.com/buy-used-Chevrolet-Cruze-2011-cars-New-Delhi-1007236937/', 'https://www.cars24.com/buy-used-Ford-Fiesta-2006-cars-New-Delhi-1007371030/', 'https://www.cars24.com/buy-used-Hyundai-Grand-i10-2016-cars-New-Delhi-1006435425/', 'https://www.cars24.com/buy-used-Volkswagen-Polo-2015-cars-New-Delhi-1006767828/', 'https://www.cars24.com/buy-used-Maruti-Alto-K10-2010-cars-New-Delhi-1004874538/', 'https://www.cars24.com/buy-used-Hyundai-Elite-i20-2016-cars-New-Delhi-1006904036/', 'https://www.cars24.com/buy-used-Hyundai-i20-2012-cars-New-Delhi-1009947024/', 'https://www.cars24.com/buy-used-Ford-Ecosport-2013-cars-New-Delhi-1003566036/', 'https://www.cars24.com/buy-used-Maruti-Eeco-2019-cars-New-Delhi-1007252335/', 'https://www.cars24.com/buy-used-Mahindra-XUV500-2013-cars-New-Delhi-1009921132/', 'https://www.cars24.com/buy-used-Renault-Kwid-2016-cars-New-Delhi-1008839123/', 'https://www.cars24.com/buy-used-Hyundai-i10-2011-cars-New-Delhi-1001774839/', 'https://www.cars24.com/buy-used-Hyundai-i10-2011-cars-New-Delhi-1001455721/', 'https://www.cars24.com/buy-used-Hyundai-Grand-i10-2014-cars-New-Delhi-1005985538/', 'https://www.cars24.com/buy-used-Honda-Amaze-2018-cars-New-Delhi-1001451127/', 'https://www.cars24.com/buy-used-Maruti-Eeco-2017-cars-New-Delhi-1007301121/', 'https://www.cars24.com/buy-used-Maruti-Eeco-2019-cars-New-Delhi-1004102937/', 'https://www.cars24.com/buy-used-Maruti-SX4-2007-cars-New-Delhi-1008931436/', 'https://www.cars24.com/buy-used-Hyundai-Grand-i10-2017-cars-New-Delhi-1003127823/', 'https://www.cars24.com/buy-used-Maruti-Swift-Dzire-2014-cars-New-Delhi-1003738924/', 'https://www.cars24.com/buy-used-Tata-Tiago-2020-cars-New-Delhi-1001305734/', 'https://www.cars24.com/buy-used-Maruti-Swift-2014-cars-New-Delhi-1003542635/', 'https://www.cars24.com/buy-used-Hyundai-Elite-i20-2015-cars-New-Delhi-1007602633/', 'https://www.cars24.com/buy-used-Maruti-New--Wagon-R-2020-cars-New-Delhi-1126665437/', 'https://www.cars24.com/buy-used-Maruti-Baleno-2018-cars-New-Delhi-1002763334/', 'https://www.cars24.com/buy-used-Hyundai-i10-2016-cars-New-Delhi-1007326738/', 'https://www.cars24.com/buy-used-Maruti-Swift-2016-cars-New-Delhi-1003721822/', 'https://www.cars24.com/buy-used-Hyundai-i10-2011-cars-New-Delhi-1000071523/', 'https://www.cars24.com/buy-used-Maruti-Eeco-2012-cars-New-Delhi-1004261228/', 'https://www.cars24.com/buy-used-Nissan-Terrano-2015-cars-New-Delhi-1000784036/', 'https://www.cars24.com/buy-used-Tata-Nano-2012-cars-New-Delhi-1006512030/', 'https://www.cars24.com/buy-used-Honda-WR-V-2017-cars-New-Delhi-1002232936/', 'https://www.cars24.com/buy-used-Maruti-Eeco-2020-cars-New-Delhi-1000684833/', 'https://www.cars24.com/buy-used-Maruti-Alto-800-2016-cars-New-Delhi-1006402432/', 'https://www.cars24.com/buy-used-Mahindra-XUV500-2012-cars-New-Delhi-1005811128/', 'https://www.cars24.com/buy-used-Hyundai-i20-2013-cars-New-Delhi-1004499721/', 'https://www.cars24.com/buy-used-Ford-Ecosport-2015-cars-New-Delhi-1006096934/', 'https://www.cars24.com/buy-used-Maruti-Ciaz-2015-cars-New-Delhi-1007204038/', 'https://www.cars24.com/buy-used-Renault-Pulse-2012-cars-New-Delhi-1004892537/', 'https://www.cars24.com/buy-used-Mahindra-KUV-100-NXT-2018-cars-New-Delhi-1004254632/', 'https://www.cars24.com/buy-used-Hyundai-Santro-Xing-2010-cars-New-Delhi-1002739023/', 'https://www.cars24.com/buy-used-Hyundai-Grand-i10-2017-cars-New-Delhi-1003620632/', 'https://www.cars24.com/buy-used-Maruti-Wagon-R-1.0-2015-cars-New-Delhi-1007013830/', 'https://www.cars24.com/buy-used-Maruti-Eeco-2018-cars-New-Delhi-1004998036/', 'https://www.cars24.com/buy-used-Hyundai-Verna-2013-cars-New-Delhi-1002549822/', 'https://www.cars24.com/buy-used-Skoda-Rapid-2014-cars-New-Delhi-1006909121/', 'https://www.cars24.com/buy-used-Renault-Lodgy-2015-cars-New-Delhi-1003659726/', 'https://www.cars24.com/buy-used-Renault-Kwid-2016-cars-New-Delhi-1002466335/', 'https://www.cars24.com/buy-used-Maruti-Wagon-R-1.0-2018-cars-New-Delhi-1001563435/', 'https://www.cars24.com/buy-used-Maruti-Wagon-R-1.0-2012-cars-New-Delhi-1005350335/', 'https://www.cars24.com/buy-used-Maruti-Eeco-2015-cars-New-Delhi-1009926533/', 'https://www.cars24.com/buy-used-Maruti-Wagon-R-1.0-2015-cars-New-Delhi-1004741433/', 'https://www.cars24.com/buy-used-Hyundai-Grand-i10-2013-cars-New-Delhi-1006858738/', 'https://www.cars24.com/buy-used-Hyundai-Grand-i10-2016-cars-New-Delhi-1004366831/', 'https://www.cars24.com/buy-used-Maruti-Ritz-2011-cars-New-Delhi-1001386334/', 'https://www.cars24.com/buy-used-Honda-Amaze-2013-cars-New-Delhi-1001049522/', 'https://www.cars24.com/buy-used-Maruti-Eeco-2018-cars-New-Delhi-1004275734/', 'https://www.cars24.com/buy-used-Mahindra-Kuv100-2016-cars-New-Delhi-1000342937/', 'https://www.cars24.com/buy-used-Chevrolet-Beat-2012-cars-New-Delhi-1005816634/', 'https://www.cars24.com/buy-used-Honda-Brio-2012-cars-New-Delhi-1002120937/', 'https://www.cars24.com/buy-used-Maruti-Baleno-2016-cars-New-Delhi-1005412939/', 'https://www.cars24.com/buy-used-Maruti-Swift-Dzire-2013-cars-New-Delhi-1002607325/', 'https://www.cars24.com/buy-used-Honda-Amaze-2014-cars-New-Delhi-1007617722/', 'https://www.cars24.com/buy-used-Maruti-Alto-2010-cars-New-Delhi-1001641226/', 'https://www.cars24.com/buy-used-Tata-Tiago-2017-cars-New-Delhi-1003652531/', 'https://www.cars24.com/buy-used-Maruti-Ertiga-2014-cars-New-Delhi-1005033836/', 'https://www.cars24.com/buy-used-Tata-Tiago-2020-cars-New-Delhi-1004928521/', 'https://www.cars24.com/buy-used-Hyundai-i10-2010-cars-New-Delhi-1008361121/', 'https://www.cars24.com/buy-used-Toyota-Innova-2012-cars-New-Delhi-1006792337/', 'https://www.cars24.com/buy-used-Mahindra-Quanto-2014-cars-New-Delhi-1002401632/', 'https://www.cars24.com/buy-used-Hyundai-Elite-i20-2014-cars-New-Delhi-1008919723/', 'https://www.cars24.com/buy-used-Hyundai-i20-2011-cars-New-Delhi-1000057529/', 'https://www.cars24.com/buy-used-Honda-Brio-2011-cars-New-Delhi-1007179824/', 'https://www.cars24.com/buy-used-Maruti-Swift-2012-cars-New-Delhi-1001449323/', 'https://www.cars24.com/buy-used-Hyundai-i10-2013-cars-New-Delhi-1008315239/', 'https://www.cars24.com/buy-used-Tata-Nano-2009-cars-New-Delhi-1000162038/', 'https://www.cars24.com/buy-used-Maruti-Swift-2017-cars-New-Delhi-1007961438/', 'https://www.cars24.com/buy-used-Datsun-Redi-Go-2017-cars-New-Delhi-1001373236/', 'https://www.cars24.com/buy-used-Maruti-Swift-2010-cars-New-Delhi-1008668035/', 'https://www.cars24.com/buy-used-Hyundai-Grand-i10-2017-cars-New-Delhi-1006309021/', 'https://www.cars24.com/buy-used-Honda-Amaze-2013-cars-New-Delhi-1004538738/', 'https://www.cars24.com/buy-used-Maruti-Swift-Dzire-2014-cars-New-Delhi-1007175430/', 'https://www.cars24.com/buy-used-Hyundai-Elite-i20-2015-cars-New-Delhi-1002950032/', 'https://www.cars24.com/buy-used-Mahindra-Thar-2012-cars-New-Delhi-1000508223/', 'https://www.cars24.com/buy-used-Hyundai-Xcent-2018-cars-New-Delhi-1009747325/', 'https://www.cars24.com/buy-used-Maruti-Wagon-R-1.0-2014-cars-New-Delhi-1006532239/', 'https://www.cars24.com/buy-used-Tata-Tiago-2016-cars-New-Delhi-1009740930/', 'https://www.cars24.com/buy-used-Honda-Brio-2015-cars-New-Delhi-1001759739/', 'https://www.cars24.com/buy-used-Hyundai-i10-2011-cars-New-Delhi-1003391921/', 'https://www.cars24.com/buy-used-Mahindra-XUV500-2012-cars-New-Delhi-1003981626/', 'https://www.cars24.com/buy-used-Maruti-Alto-2009-cars-New-Delhi-1003240738/', 'https://www.cars24.com/buy-used-Maruti-Eeco-2012-cars-New-Delhi-1001342039/', 'https://www.cars24.com/buy-used-Maruti-Alto-800-2012-cars-New-Delhi-1003776938/', 'https://www.cars24.com/buy-used-Toyota-Etios-Liva-2012-cars-New-Delhi-1000960933/', 'https://www.cars24.com/buy-used-Maruti-Swift-Dzire-2008-cars-New-Delhi-1006500134/', 'https://www.cars24.com/buy-used-Maruti-Baleno-2017-cars-New-Delhi-1013910137/', 'https://www.cars24.com/buy-used-Maruti-Swift-Dzire-2013-cars-New-Delhi-1000024634/', 'https://www.cars24.com/buy-used-Honda-City-ZX-2008-cars-New-Delhi-1009579925/', 'https://www.cars24.com/buy-used-Hyundai-Grand-i10-2013-cars-New-Delhi-1000299720/', 'https://www.cars24.com/buy-used-Maruti-Eeco-2011-cars-New-Delhi-1006082539/', 'https://www.cars24.com/buy-used-Maruti-Baleno-2018-cars-New-Delhi-1000773738/', 'https://www.cars24.com/buy-used-Tata-Tiago-2018-cars-New-Delhi-1006239824/', 'https://www.cars24.com/buy-used-Maruti-Dzire-2017-cars-New-Delhi-1005993731/', 'https://www.cars24.com/buy-used-Volkswagen-Polo-2012-cars-New-Delhi-1007053623/', 'https://www.cars24.com/buy-used-Tata-Nano-2011-cars-New-Delhi-1001693037/', 'https://www.cars24.com/buy-used-Hyundai-Santro-Xing-2013-cars-New-Delhi-1009979026/', 'https://www.cars24.com/buy-used-Volkswagen-Vento-2012-cars-New-Delhi-1009402534/', 'https://www.cars24.com/buy-used-Honda-City-2013-cars-New-Delhi-1008616633/', 'https://www.cars24.com/buy-used-Hyundai-i10-2009-cars-New-Delhi-1004209926/', 'https://www.cars24.com/buy-used-Maruti-Eeco-2017-cars-New-Delhi-1008137024/', 'https://www.cars24.com/buy-used-Hyundai-Grand-i10-2014-cars-New-Delhi-1001497825/', 'https://www.cars24.com/buy-used-Maruti-Wagon-R-1.0-2011-cars-New-Delhi-1003265627/', 'https://www.cars24.com/buy-used-Hyundai-Santro-Xing-2010-cars-New-Delhi-1000407228/', 'https://www.cars24.com/buy-used-Hyundai-Grand-i10-2016-cars-New-Delhi-1004946032/', 'https://www.cars24.com/buy-used-Hyundai-Verna-2011-cars-New-Delhi-1006607127/', 'https://www.cars24.com/buy-used-Hyundai-Grand-i10-2018-cars-New-Delhi-1002054131/', 'https://www.cars24.com/buy-used-Maruti-Wagon-R-1.0-2016-cars-New-Delhi-1002312232/', 'https://www.cars24.com/buy-used-Maruti-Ritz-2010-cars-New-Delhi-1008280031/', 'https://www.cars24.com/buy-used-Tata-Nano-2011-cars-New-Delhi-1006378431/', 'https://www.cars24.com/buy-used-Renault-Kwid-2016-cars-New-Delhi-1008514538/', 'https://www.cars24.com/buy-used-Hyundai-i20-2011-cars-New-Delhi-1007198736/', 'https://www.cars24.com/buy-used-Maruti-Baleno-2019-cars-New-Delhi-1005149926/', 'https://www.cars24.com/buy-used-Maruti-Baleno-2015-cars-New-Delhi-1009297927/', 'https://www.cars24.com/buy-used-Hyundai-Verna-2012-cars-New-Delhi-1005321530/', 'https://www.cars24.com/buy-used-Mahindra-XUV500-2012-cars-New-Delhi-1005509320/', 'https://www.cars24.com/buy-used-Maruti-Wagon-R-1.0-2016-cars-New-Delhi-1000859127/', 'https://www.cars24.com/buy-used-Maruti-Swift-2011-cars-New-Delhi-1000422636/', 'https://www.cars24.com/buy-used-Honda-City-2008-cars-New-Delhi-1009463436/', 'https://www.cars24.com/buy-used-Maruti-Swift-2010-cars-New-Delhi-1008562734/', 'https://www.cars24.com/buy-used-Hyundai-Sonata-Transform-2010-cars-New-Delhi-1001959528/', 'https://www.cars24.com/buy-used-Maruti-Swift-2017-cars-New-Delhi-1003973332/', 'https://www.cars24.com/buy-used-Honda-Amaze-2013-cars-New-Delhi-1003013431/', 'https://www.cars24.com/buy-used-Tata-Nano-2011-cars-New-Delhi-1001764037/', 'https://www.cars24.com/buy-used-Mahindra-Kuv100-2016-cars-New-Delhi-1001673324/', 'https://www.cars24.com/buy-used-Hyundai-i20-2011-cars-New-Delhi-1004981525/', 'https://www.cars24.com/buy-used-Hyundai-i10-2010-cars-New-Delhi-1005118432/', 'https://www.cars24.com/buy-used-Maruti-Baleno-2020-cars-New-Delhi-1003657927/', 'https://www.cars24.com/buy-used-Maruti-Swift-Dzire-2013-cars-New-Delhi-1004916839/', 'https://www.cars24.com/buy-used-Hyundai-Santro-Xing-2008-cars-New-Delhi-1007234333/', 'https://www.cars24.com/buy-used-Hyundai-i10-2010-cars-New-Delhi-1006017124/', 'https://www.cars24.com/buy-used-Maruti-Wagon-R-1.0-2011-cars-New-Delhi-1005699226/', 'https://www.cars24.com/buy-used-Honda-City-2011-cars-New-Delhi-1008444133/', 'https://www.cars24.com/buy-used-Hyundai-i10-2012-cars-New-Delhi-1008927124/', 'https://www.cars24.com/buy-used-Hyundai-Santro-Xing-2006-cars-New-Delhi-1009841824/', 'https://www.cars24.com/buy-used-Toyota-Corolla-2005-cars-New-Delhi-1007087924/', 'https://www.cars24.com/buy-used-Honda-City-2011-cars-New-Delhi-1005052038/', 'https://www.cars24.com/buy-used-Hyundai-Grand-i10-2014-cars-New-Delhi-1003685825/', 'https://www.cars24.com/buy-used-Maruti-Alto-800-2018-cars-New-Delhi-1004605730/', 'https://www.cars24.com/buy-used-Chevrolet-Beat-2011-cars-New-Delhi-1004989022/', 'https://www.cars24.com/buy-used-Maruti-Swift-2015-cars-New-Delhi-1000417127/', 'https://www.cars24.com/buy-used-Hyundai-Elite-i20-2017-cars-New-Delhi-1001591129/', 'https://www.cars24.com/buy-used-Honda-City-2015-cars-New-Delhi-1002089324/', 'https://www.cars24.com/buy-used-Hyundai-Grand-i10-2013-cars-New-Delhi-1003967325/', 'https://www.cars24.com/buy-used-Mahindra-XUV500-2011-cars-New-Delhi-1001414535/', 'https://www.cars24.com/buy-used-Renault-TRIBER-2020-cars-New-Delhi-1005413224/', 'https://www.cars24.com/buy-used-Honda-Brio-2013-cars-New-Delhi-1009811720/', 'https://www.cars24.com/buy-used-Hyundai-i10-2012-cars-New-Delhi-1002888539/', 'https://www.cars24.com/buy-used-Honda-Amaze-2019-cars-New-Delhi-1001475325/', 'https://www.cars24.com/buy-used-Maruti-Alto-2010-cars-New-Delhi-1008742638/', 'https://www.cars24.com/buy-used-Maruti-IGNIS-2018-cars-New-Delhi-1002703937/', 'https://www.cars24.com/buy-used-Honda-Mobilio-2014-cars-New-Delhi-1009935338/', 'https://www.cars24.com/buy-used-Tata-TIGOR-2017-cars-New-Delhi-1007994135/', 'https://www.cars24.com/buy-used-Maruti-Ertiga-2012-cars-New-Delhi-1003489627/', 'https://www.cars24.com/buy-used-Maruti-Zen-Estilo-2013-cars-New-Delhi-1003212133/', 'https://www.cars24.com/buy-used-Maruti-Swift-Dzire-2014-cars-New-Delhi-1009128921/', 'https://www.cars24.com/buy-used-Renault-Duster-2017-cars-New-Delhi-1008617725/', 'https://www.cars24.com/buy-used-Hyundai-i10-2009-cars-New-Delhi-1005194238/', 'https://www.cars24.com/buy-used-Mahindra-KUV-100-NXT-2018-cars-New-Delhi-1005621527/', 'https://www.cars24.com/buy-used-Renault-Duster-2013-cars-New-Delhi-1005377620/', 'https://www.cars24.com/buy-used-Maruti-Swift-Dzire-2012-cars-New-Delhi-1003899221/', 'https://www.cars24.com/buy-used-Maruti-Swift-2011-cars-New-Delhi-1000751029/', 'https://www.cars24.com/buy-used-Honda-Brio-2015-cars-New-Delhi-1005246433/', 'https://www.cars24.com/buy-used-Maruti-Swift-2016-cars-New-Delhi-1005230134/', 'https://www.cars24.com/buy-used-Toyota-Camry-2006-cars-New-Delhi-1004546934/', 'https://www.cars24.com/buy-used-Ford-Figo-2012-cars-New-Delhi-1004816335/', 'https://www.cars24.com/buy-used-Renault-Kwid-2016-cars-New-Delhi-1003774332/', 'https://www.cars24.com/buy-used-Maruti-Swift-Dzire-2012-cars-New-Delhi-1007197427/', 'https://www.cars24.com/buy-used-Hyundai-Elite-i20-2015-cars-New-Delhi-1007372038/', 'https://www.cars24.com/buy-used-Maruti-Ritz-2011-cars-New-Delhi-1001052431/', 'https://www.cars24.com/buy-used-Maruti-Swift-Dzire-2013-cars-New-Delhi-1005332889/', 'https://www.cars24.com/buy-used-Hyundai-Xcent-2018-cars-New-Delhi-1008922138/', 'https://www.cars24.com/buy-used-Maruti-Wagon-R-1.0-2015-cars-New-Delhi-1003415238/', 'https://www.cars24.com/buy-used-Hyundai-i20-2013-cars-New-Delhi-1001020538/', 'https://www.cars24.com/buy-used-Hyundai-Verna-2011-cars-New-Delhi-1001117522/', 'https://www.cars24.com/buy-used-Maruti-Zen-Estilo-2010-cars-New-Delhi-1019324635/', 'https://www.cars24.com/buy-used-Honda-City-2012-cars-New-Delhi-1009040130/', 'https://www.cars24.com/buy-used-Maruti-Celerio-2017-cars-New-Delhi-1009105438/', 'https://www.cars24.com/buy-used-Hyundai-Santro-Xing-2013-cars-New-Delhi-1002519320/', 'https://www.cars24.com/buy-used-Maruti-Wagon-R-2009-cars-New-Delhi-1001336937/', 'https://www.cars24.com/buy-used-Maruti-Dzire-2019-cars-New-Delhi-1004422132/', 'https://www.cars24.com/buy-used-Maruti-Swift-2012-cars-New-Delhi-1009679820/', 'https://www.cars24.com/buy-used-Maruti-Swift-2015-cars-New-Delhi-1000212228/', 'https://www.cars24.com/buy-used-Maruti-Swift-Dzire-2014-cars-New-Delhi-1006373730/', 'https://www.cars24.com/buy-used-Maruti-Eeco-2018-cars-New-Delhi-1004232232/', 'https://www.cars24.com/buy-used-Mahindra-Scorpio-2011-cars-New-Delhi-1005652227/', 'https://www.cars24.com/buy-used-Maruti-Swift-2016-cars-New-Delhi-1006847426/', 'https://www.cars24.com/buy-used-Maruti-Swift-2014-cars-New-Delhi-1003318638/', 'https://www.cars24.com/buy-used-Ford-Figo-2011-cars-New-Delhi-1005892637/', 'https://www.cars24.com/buy-used-Maruti-Swift-Dzire-2013-cars-New-Delhi-1001416338/', 'https://www.cars24.com/buy-used-Hyundai-Elite-i20-2016-cars-New-Delhi-1008713031/', 'https://www.cars24.com/buy-used-Maruti-Wagon-R-1.0-2013-cars-New-Delhi-1005271920/', 'https://www.cars24.com/buy-used-Maruti-Swift-Dzire-2012-cars-New-Delhi-1004782337/', 'https://www.cars24.com/buy-used-Hyundai-Verna-2016-cars-New-Delhi-1007173137/', 'https://www.cars24.com/buy-used-Maruti-Swift-Dzire-2017-cars-New-Delhi-1005858435/', 'https://www.cars24.com/buy-used-Maruti-Swift-2013-cars-New-Delhi-1002316634/', 'https://www.cars24.com/buy-used-Maruti-Swift-Dzire-2012-cars-New-Delhi-1004116130/', 'https://www.cars24.com/buy-used-Renault-Kwid-2019-cars-New-Delhi-1003341737/', 'https://www.cars24.com/buy-used-Hyundai-Grand-i10-2019-cars-New-Delhi-1006892223/', 'https://www.cars24.com/buy-used-Maruti-Ritz-2012-cars-New-Delhi-1005266936/', 'https://www.cars24.com/buy-used-Volkswagen-Polo-2016-cars-New-Delhi-1006753720/', 'https://www.cars24.com/buy-used-Maruti-Eeco-2016-cars-New-Delhi-1004003432/', 'https://www.cars24.com/buy-used-Maruti-Eeco-2018-cars-New-Delhi-1008313435/', 'https://www.cars24.com/buy-used-Tata-Indica-Vista-2010-cars-New-Delhi-1001131725/', 'https://www.cars24.com/buy-used-Maruti-Ritz-2010-cars-New-Delhi-1006241336/', 'https://www.cars24.com/buy-used-Maruti-Vitara-Brezza-2016-cars-New-Delhi-1004003030/', 'https://www.cars24.com/buy-used-Maruti-Alto-K10-2019-cars-New-Delhi-1005422133/', 'https://www.cars24.com/buy-used-Maruti-Swift-2010-cars-New-Delhi-1003784233/', 'https://www.cars24.com/buy-used-Chevrolet-Beat-2012-cars-New-Delhi-1001603834/', 'https://www.cars24.com/buy-used-Toyota-Etios-2015-cars-New-Delhi-1002288989/', 'https://www.cars24.com/buy-used-Maruti-Dzire-2018-cars-New-Delhi-1005621333/', 'https://www.cars24.com/buy-used-Hyundai-Xcent-2015-cars-New-Delhi-1004467526/', 'https://www.cars24.com/buy-used-Volkswagen-Vento-2013-cars-New-Delhi-1000151926/', 'https://www.cars24.com/buy-used-Maruti-Wagon-R-1.0-2013-cars-New-Delhi-1000120530/', 'https://www.cars24.com/buy-used-Toyota-Etios-2012-cars-New-Delhi-1002354433/', 'https://www.cars24.com/buy-used-Hyundai-Accent-2011-cars-New-Delhi-1003686032/', 'https://www.cars24.com/buy-used-Maruti-Wagon-R-1.0-2019-cars-New-Delhi-1006173221/', 'https://www.cars24.com/buy-used-Tata-Nano-2011-cars-New-Delhi-1000530230/', 'https://www.cars24.com/buy-used-Maruti-Eeco-2016-cars-New-Delhi-1002989025/', 'https://www.cars24.com/buy-used-Hyundai-i20-2012-cars-New-Delhi-1007433430/', 'https://www.cars24.com/buy-used-Toyota-Etios-2011-cars-New-Delhi-1001361331/', 'https://www.cars24.com/buy-used-Maruti-Ciaz-2015-cars-New-Delhi-1346052836/', 'https://www.cars24.com/buy-used-Hyundai-Elite-i20-2015-cars-New-Delhi-1004107420/', 'https://www.cars24.com/buy-used-Maruti-Eeco-2018-cars-New-Delhi-1001674537/', 'https://www.cars24.com/buy-used-Hyundai-New-Elantra-2015-cars-New-Delhi-1003864434/', 'https://www.cars24.com/buy-used-Honda-City-2011-cars-New-Delhi-1003307621/', 'https://www.cars24.com/buy-used-Maruti-SX4-2009-cars-New-Delhi-1006654734/', 'https://www.cars24.com/buy-used-Mahindra-TUV300-2015-cars-New-Delhi-1007334030/', 'https://www.cars24.com/buy-used-Hyundai-Xcent-2014-cars-New-Delhi-1006751825/', 'https://www.cars24.com/buy-used-Tata-Tiago-2018-cars-New-Delhi-1001179320/', 'https://www.cars24.com/buy-used-Maruti-Ritz-2014-cars-New-Delhi-1006400132/', 'https://www.cars24.com/buy-used-Volkswagen-Polo-2012-cars-New-Delhi-1006546632/', 'https://www.cars24.com/buy-used-Maruti-Swift-2018-cars-New-Delhi-1003585021/', 'https://www.cars24.com/buy-used-Fiat-Grand-Punto-2014-cars-New-Delhi-1009667222/', 'https://www.cars24.com/buy-used-Hyundai-i10-2011-cars-New-Delhi-1005250635/', 'https://www.cars24.com/buy-used-Hyundai-i20-2014-cars-New-Delhi-1005610333/', 'https://www.cars24.com/buy-used-Maruti-Swift-2016-cars-New-Delhi-1005571728/', 'https://www.cars24.com/buy-used-Maruti-Wagon-R-1.0-2015-cars-New-Delhi-1004430130/', 'https://www.cars24.com/buy-used-Maruti-Swift-2013-cars-New-Delhi-1008354536/', 'https://www.cars24.com/buy-used-Maruti-Alto-K10-2013-cars-New-Delhi-1001164137/', 'https://www.cars24.com/buy-used-Skoda-Rapid-2012-cars-New-Delhi-1007391229/', 'https://www.cars24.com/buy-used-Chevrolet-Cruze-2012-cars-New-Delhi-1005188984/', 'https://www.cars24.com/buy-used-Hyundai-i10-2012-cars-New-Delhi-1009851638/', 'https://www.cars24.com/buy-used-Maruti-Alto-K10-2017-cars-New-Delhi-1005141334/', 'https://www.cars24.com/buy-used-Maruti-Swift-2014-cars-New-Delhi-1012623436/', 'https://www.cars24.com/buy-used-Honda-City-ZX-2006-cars-New-Delhi-1002724033/', 'https://www.cars24.com/buy-used-Tata-NEXON-2020-cars-New-Delhi-1008995522/', 'https://www.cars24.com/buy-used-Hyundai-NEW-SANTRO-2018-cars-New-Delhi-1006968436/', 'https://www.cars24.com/buy-used-Hyundai-Grand-i10-2016-cars-New-Delhi-1004134939/', 'https://www.cars24.com/buy-used-Datsun-Redi-Go-2018-cars-New-Delhi-1006838931/', 'https://www.cars24.com/buy-used-Maruti-Baleno-2017-cars-New-Delhi-1007282634/', 'https://www.cars24.com/buy-used-Maruti-Swift-Dzire-2011-cars-New-Delhi-1005063433/', 'https://www.cars24.com/buy-used-Hyundai-Elite-i20-2017-cars-New-Delhi-1000841929/', 'https://www.cars24.com/buy-used-Maruti-Eeco-2018-cars-New-Delhi-1005371127/', 'https://www.cars24.com/buy-used-Maruti-Wagon-R-1.0-2015-cars-New-Delhi-1001037824/', 'https://www.cars24.com/buy-used-Hyundai-Grand-i10-2016-cars-New-Delhi-1007165686/', 'https://www.cars24.com/buy-used-Hyundai-Elite-i20-2016-cars-New-Delhi-1005919428/', 'https://www.cars24.com/buy-used-Maruti-Zen-Estilo-2010-cars-New-Delhi-1000762439/', 'https://www.cars24.com/buy-used-Volkswagen-Polo-2013-cars-New-Delhi-1001465429/', 'https://www.cars24.com/buy-used-Tata-Manza-2011-cars-New-Delhi-1001891532/', 'https://www.cars24.com/buy-used-Maruti-Swift-Dzire-2015-cars-New-Delhi-1000102233/', 'https://www.cars24.com/buy-used-Honda-Amaze-2017-cars-New-Delhi-1000846637/', 'https://www.cars24.com/buy-used-Maruti-Baleno-2017-cars-New-Delhi-1008160731/', 'https://www.cars24.com/buy-used-Maruti-Eeco-2019-cars-New-Delhi-1006922930/', 'https://www.cars24.com/buy-used-Hyundai-Elite-i20-2014-cars-New-Delhi-1005612535/', 'https://www.cars24.com/buy-used-Renault-Kwid-2016-cars-New-Delhi-1000005827/', 'https://www.cars24.com/buy-used-Toyota-Etios-2011-cars-New-Delhi-1008743633/', 'https://www.cars24.com/buy-used-Maruti-Ritz-2015-cars-New-Delhi-1008712839/', 'https://www.cars24.com/buy-used-Hyundai-Accent-2011-cars-New-Delhi-1006559321/', 'https://www.cars24.com/buy-used-Tata-Tiago-2019-cars-New-Delhi-1003929521/', 'https://www.cars24.com/buy-used-Ford-Ecosport-2014-cars-New-Delhi-1005841123/', 'https://www.cars24.com/buy-used-Maruti-Alto-2009-cars-New-Delhi-1001566530/', 'https://www.cars24.com/buy-used-Toyota-Etios-2013-cars-New-Delhi-1009205720/', 'https://www.cars24.com/buy-used-Maruti-Alto-K10-2014-cars-New-Delhi-1005092736/', 'https://www.cars24.com/buy-used-Maruti-Dzire-2019-cars-New-Delhi-1008820234/', 'https://www.cars24.com/buy-used-Datsun-Go-2014-cars-New-Delhi-1003313437/', 'https://www.cars24.com/buy-used-Maruti-Wagon-R-1.0-2018-cars-New-Delhi-1007949723/', 'https://www.cars24.com/buy-used-Chevrolet-Beat-2013-cars-New-Delhi-1008641432/', 'https://www.cars24.com/buy-used-Maruti-Wagon-R-1.0-2010-cars-New-Delhi-1008834537/', 'https://www.cars24.com/buy-used-Hyundai-Grand-i10-2014-cars-New-Delhi-1004449825/', 'https://www.cars24.com/buy-used-Hyundai-i10-2011-cars-New-Delhi-1006013836/', 'https://www.cars24.com/buy-used-Hyundai-i20-2014-cars-New-Delhi-1004415435/', 'https://www.cars24.com/buy-used-Hyundai-i20-2013-cars-New-Delhi-1002596031/', 'https://www.cars24.com/buy-used-Maruti-Alto-800-2013-cars-New-Delhi-1003237527/', 'https://www.cars24.com/buy-used-Honda-Amaze-2020-cars-New-Delhi-1009955421/', 'https://www.cars24.com/buy-used-Ford-Ecosport-2013-cars-New-Delhi-1003659628/', 'https://www.cars24.com/buy-used-Chevrolet-Beat-2012-cars-New-Delhi-1007242037/', 'https://www.cars24.com/buy-used-Maruti-Wagon-R-1.0-2011-cars-New-Delhi-1006806734/', 'https://www.cars24.com/buy-used-Maruti-Swift-Dzire-2015-cars-New-Delhi-1004864430/', 'https://www.cars24.com/buy-used-Maruti-Wagon-R-1.0-2016-cars-New-Delhi-1005918039/', 'https://www.cars24.com/buy-used-Maruti-Swift-Dzire-2014-cars-New-Delhi-1009687920/', 'https://www.cars24.com/buy-used-Maruti-IGNIS-2019-cars-New-Delhi-1000175028/', 'https://www.cars24.com/buy-used-Mahindra-XUV500-2012-cars-New-Delhi-1004941120/', 'https://www.cars24.com/buy-used-Hyundai-Elite-i20-2016-cars-New-Delhi-1008653737/', 'https://www.cars24.com/buy-used-Maruti-Alto-K10-2016-cars-New-Delhi-1003481729/', 'https://www.cars24.com/buy-used-Hyundai-Santro-Xing-2012-cars-New-Delhi-1008747726/', 'https://www.cars24.com/buy-used-Honda-City-2010-cars-New-Delhi-1005448733/', 'https://www.cars24.com/buy-used-Hyundai-i20-2012-cars-New-Delhi-1005277126/', 'https://www.cars24.com/buy-used-Hyundai-i20-2012-cars-New-Delhi-1002312032/', 'https://www.cars24.com/buy-used-Hyundai-Santro-Xing-2012-cars-New-Delhi-1000431823/', 'https://www.cars24.com/buy-used-Maruti-Dzire-2017-cars-New-Delhi-1006386031/', 'https://www.cars24.com/buy-used-Hyundai-Elite-i20-2015-cars-New-Delhi-1003500837/', 'https://www.cars24.com/buy-used-Hyundai-Xcent-2014-cars-New-Delhi-1001693132/', 'https://www.cars24.com/buy-used-Toyota-Etios-Liva-2015-cars-New-Delhi-1002016930/', 'https://www.cars24.com/buy-used-Honda-Brio-2013-cars-New-Delhi-1004819526/', 'https://www.cars24.com/buy-used-Chevrolet-Beat-2012-cars-New-Delhi-1003293732/', 'https://www.cars24.com/buy-used-Maruti-Ritz-2012-cars-New-Delhi-1004317128/', 'https://www.cars24.com/buy-used-Maruti-Baleno-2017-cars-New-Delhi-1009369126/', 'https://www.cars24.com/buy-used-Honda-Amaze-2019-cars-New-Delhi-1001572331/', 'https://www.cars24.com/buy-used-Honda-Amaze-2020-cars-New-Delhi-1002986538/', 'https://www.cars24.com/buy-used-Hyundai-i10-2009-cars-New-Delhi-1001994638/', 'https://www.cars24.com/buy-used-Renault-Kwid-2018-cars-New-Delhi-1005451720/', 'https://www.cars24.com/buy-used-Mahindra-Kuv100-2018-cars-New-Delhi-1008035935/', 'https://www.cars24.com/buy-used-Honda-Jazz-2017-cars-New-Delhi-1004686230/', 'https://www.cars24.com/buy-used-Hyundai-Santro-Xing-2013-cars-New-Delhi-1007256235/', 'https://www.cars24.com/buy-used-Honda-Amaze-2018-cars-New-Delhi-1001461734/', 'https://www.cars24.com/buy-used-Maruti-Alto-800-2014-cars-New-Delhi-1007662837/', 'https://www.cars24.com/buy-used-Tata-Tiago-2019-cars-New-Delhi-1001579525/', 'https://www.cars24.com/buy-used-Maruti-Wagon-R-1.0-2013-cars-New-Delhi-1006591825/', 'https://www.cars24.com/buy-used-Hyundai-Grand-i10-2013-cars-New-Delhi-1005747621/', 'https://www.cars24.com/buy-used-Hyundai-i10-2013-cars-New-Delhi-1007022037/', 'https://www.cars24.com/buy-used-Hyundai-i20-Active-2016-cars-New-Delhi-1004736636/', 'https://www.cars24.com/buy-used-Maruti-Ciaz-2016-cars-New-Delhi-1057695030/', 'https://www.cars24.com/buy-used-Renault-Kwid-2019-cars-New-Delhi-1004160435/', 'https://www.cars24.com/buy-used-Chevrolet-Beat-2012-cars-New-Delhi-1002907720/', 'https://www.cars24.com/buy-used-Skoda-Rapid-2012-cars-New-Delhi-1009171821/', 'https://www.cars24.com/buy-used-Maruti-Wagon-R-1.0-2016-cars-New-Delhi-1009882037/', 'https://www.cars24.com/buy-used-Maruti-Ertiga-2020-cars-New-Delhi-1008881926/', 'https://www.cars24.com/buy-used-Hyundai-Elite-i20-2016-cars-New-Delhi-1001739825/', 'https://www.cars24.com/buy-used-Chevrolet-Beat-2012-cars-New-Delhi-1002644433/', 'https://www.cars24.com/buy-used-Maruti-Wagon-R-2007-cars-New-Delhi-1009833936/', 'https://www.cars24.com/buy-used-Chevrolet-Beat-2012-cars-New-Delhi-1004097022/', 'https://www.cars24.com/buy-used-Volkswagen-Polo-2011-cars-New-Delhi-1002478029/', 'https://www.cars24.com/buy-used-Hyundai-i10-2011-cars-New-Delhi-1001974130/', 'https://www.cars24.com/buy-used-Hyundai-Grand-i10-2014-cars-New-Delhi-1006464938/', 'https://www.cars24.com/buy-used-Honda-City-2014-cars-New-Delhi-1005174132/', 'https://www.cars24.com/buy-used-Ford-Figo-2011-cars-New-Delhi-1000658237/', 'https://www.cars24.com/buy-used-Honda-Jazz-2009-cars-New-Delhi-1000716034/', 'https://www.cars24.com/buy-used-Ford-Ecosport-2013-cars-New-Delhi-1009035033/', 'https://www.cars24.com/buy-used-Hyundai-i20-2010-cars-New-Delhi-1000530231/', 'https://www.cars24.com/buy-used-Honda-Amaze-2019-cars-New-Delhi-1001819228/', 'https://www.cars24.com/buy-used-Tata-Nano-2014-cars-New-Delhi-1003747020/', 'https://www.cars24.com/buy-used-Maruti-Swift-Dzire-2013-cars-New-Delhi-1008896339/', 'https://www.cars24.com/buy-used-Mahindra-Kuv100-2017-cars-New-Delhi-1005332837/', 'https://www.cars24.com/buy-used-Honda-Amaze-2014-cars-New-Delhi-1001383733/', 'https://www.cars24.com/buy-used-Hyundai-Eon-2018-cars-New-Delhi-1006426137/', 'https://www.cars24.com/buy-used-Maruti-Swift-Dzire-2012-cars-New-Delhi-1007332232/', 'https://www.cars24.com/buy-used-Maruti-IGNIS-2019-cars-New-Delhi-1006902632/', 'https://www.cars24.com/buy-used-Maruti-Wagon-R-1.0-2015-cars-New-Delhi-1005871724/', 'https://www.cars24.com/buy-used-Hyundai-Grand-i10-2017-cars-New-Delhi-1008351024/', 'https://www.cars24.com/buy-used-Hyundai-Verna-2011-cars-New-Delhi-1006363728/', 'https://www.cars24.com/buy-used-Hyundai-Verna-2012-cars-New-Delhi-1001141229/', 'https://www.cars24.com/buy-used-Tata-Safari-2008-cars-New-Delhi-1007482035/', 'https://www.cars24.com/buy-used-Chevrolet-Beat-2012-cars-New-Delhi-1003531432/', 'https://www.cars24.com/buy-used-Maruti-Wagon-R-1.0-2018-cars-New-Delhi-1002245139/', 'https://www.cars24.com/buy-used-Maruti-Swift-2011-cars-New-Delhi-1004370735/', 'https://www.cars24.com/buy-used-Ford-Ecosport-2015-cars-New-Delhi-1009527421/', 'https://www.cars24.com/buy-used-Maruti-Ciaz-2014-cars-New-Delhi-1000278335/', 'https://www.cars24.com/buy-used-Renault-Duster-2015-cars-New-Delhi-1000901120/', 'https://www.cars24.com/buy-used-Renault-Kwid-2016-cars-New-Delhi-1005522738/', 'https://www.cars24.com/buy-used-Maruti-Baleno-2019-cars-New-Delhi-1002254735/', 'https://www.cars24.com/buy-used-Toyota-Etios-2012-cars-New-Delhi-1004032033/', 'https://www.cars24.com/buy-used-Maruti-Eeco-2015-cars-New-Delhi-1007262734/', 'https://www.cars24.com/buy-used-Maruti-Ritz-2012-cars-New-Delhi-1005406430/', 'https://www.cars24.com/buy-used-Hyundai-Grand-i10-2017-cars-New-Delhi-1006758038/', 'https://www.cars24.com/buy-used-Hyundai-i10-2011-cars-New-Delhi-1017405232/', 'https://www.cars24.com/buy-used-Volkswagen-Polo-2012-cars-New-Delhi-1008832038/', 'https://www.cars24.com/buy-used-Hyundai-i20-2010-cars-New-Delhi-1001835425/', 'https://www.cars24.com/buy-used-Tata-Indigo-ECS-2016-cars-New-Delhi-1002431422/', 'https://www.cars24.com/buy-used-Volkswagen-Polo-2014-cars-New-Delhi-1009194930/', 'https://www.cars24.com/buy-used-Maruti-Eeco-2017-cars-New-Delhi-1002355237/', 'https://www.cars24.com/buy-used-Maruti-Celerio-2016-cars-New-Delhi-1007204236/', 'https://www.cars24.com/buy-used-Volkswagen-Polo-2012-cars-New-Delhi-1001259823/', 'https://www.cars24.com/buy-used-Honda-Amaze-2015-cars-New-Delhi-1004549628/', 'https://www.cars24.com/buy-used-Hyundai-i10-2014-cars-New-Delhi-1004380433/', 'https://www.cars24.com/buy-used-Hyundai-Grand-i10-2017-cars-New-Delhi-1008953533/', 'https://www.cars24.com/buy-used-Tata-Zest-2014-cars-New-Delhi-1008869927/', 'https://www.cars24.com/buy-used-Maruti-Swift-2014-cars-New-Delhi-1008537427/', 'https://www.cars24.com/buy-used-Honda-City-2010-cars-New-Delhi-1002276039/', 'https://www.cars24.com/buy-used-Hyundai-i20-2010-cars-New-Delhi-1005296532/', 'https://www.cars24.com/buy-used-Tata-TIGOR-2018-cars-New-Delhi-1001953135/', 'https://www.cars24.com/buy-used-Mahindra-XUV500-2014-cars-New-Delhi-1006815329/', 'https://www.cars24.com/buy-used-Maruti-Swift-Dzire-2015-cars-New-Delhi-1001301638/', 'https://www.cars24.com/buy-used-Maruti-Eeco-2017-cars-New-Delhi-1004806131/', 'https://www.cars24.com/buy-used-Mahindra-XUV500-2012-cars-New-Delhi-1008690132/', 'https://www.cars24.com/buy-used-Volkswagen-Polo-2011-cars-New-Delhi-1003938929/', 'https://www.cars24.com/buy-used-Maruti-Swift-Dzire-2012-cars-New-Delhi-1007186132/', 'https://www.cars24.com/buy-used-Maruti-Swift-2013-cars-New-Delhi-1006489020/', 'https://www.cars24.com/buy-used-Datsun-Go-2017-cars-New-Delhi-1009144131/', 'https://www.cars24.com/buy-used-Maruti-Celerio-X-2018-cars-New-Delhi-1004685529/', 'https://www.cars24.com/buy-used-Hyundai-Santro-Xing-2013-cars-New-Delhi-1005032336/', 'https://www.cars24.com/buy-used-Maruti-Ertiga-2013-cars-New-Delhi-1003099426/', 'https://www.cars24.com/buy-used-Honda-Amaze-2018-cars-New-Delhi-1000797333/', 'https://www.cars24.com/buy-used-Hyundai-Grand-i10-2015-cars-New-Delhi-1001657926/', 'https://www.cars24.com/buy-used-Toyota-Etios-2012-cars-New-Delhi-1003855132/', 'https://www.cars24.com/buy-used-Hyundai-i20-2010-cars-New-Delhi-1005057623/', 'https://www.cars24.com/buy-used-Maruti-Zen-Estilo-2010-cars-New-Delhi-1009203827/', 'https://www.cars24.com/buy-used-Maruti-Wagon-R-1.0-2012-cars-New-Delhi-1000141928/', 'https://www.cars24.com/buy-used-Maruti-Swift-Dzire-2013-cars-New-Delhi-1003290432/', 'https://www.cars24.com/buy-used-Mahindra-XUV500-2011-cars-New-Delhi-1009993835/', 'https://www.cars24.com/buy-used-Mahindra-XUV500-2012-cars-New-Delhi-1002847227/', 'https://www.cars24.com/buy-used-Honda-Amaze-2013-cars-New-Delhi-1006897429/', 'https://www.cars24.com/buy-used-Maruti-Dzire-2017-cars-New-Delhi-1004995821/', 'https://www.cars24.com/buy-used-Hyundai-Elite-i20-2016-cars-New-Delhi-1007751128/', 'https://www.cars24.com/buy-used-Maruti-Swift-2013-cars-New-Delhi-1003533538/', 'https://www.cars24.com/buy-used-Maruti-Dzire-2018-cars-New-Delhi-1007331129/', 'https://www.cars24.com/buy-used-Maruti-Eeco-2012-cars-New-Delhi-1005845739/', 'https://www.cars24.com/buy-used-Hyundai-Grand-i10-2014-cars-New-Delhi-1009306035/', 'https://www.cars24.com/buy-used-Honda-City-2012-cars-New-Delhi-1007459521/', 'https://www.cars24.com/buy-used-Maruti-Swift-Dzire-2012-cars-New-Delhi-1008383238/', 'https://www.cars24.com/buy-used-Hyundai-i10-2010-cars-New-Delhi-1001245534/', 'https://www.cars24.com/buy-used-Maruti-Wagon-R-1.0-2015-cars-New-Delhi-1000345438/', 'https://www.cars24.com/buy-used-Volkswagen-Polo-2013-cars-New-Delhi-1001451923/', 'https://www.cars24.com/buy-used-Maruti-Eeco-2017-cars-New-Delhi-1006891025/', 'https://www.cars24.com/buy-used-Maruti-Baleno-2016-cars-New-Delhi-1004222934/', 'https://www.cars24.com/buy-used-Mahindra-Quanto-2012-cars-New-Delhi-1008924434/', 'https://www.cars24.com/buy-used-Hyundai-Grand-i10-2016-cars-New-Delhi-1008882035/', 'https://www.cars24.com/buy-used-Hyundai-i20-Active-2016-cars-New-Delhi-1003612431/', 'https://www.cars24.com/buy-used-Nissan-Sunny-2011-cars-New-Delhi-1006432431/', 'https://www.cars24.com/buy-used-Chevrolet-Beat-2011-cars-New-Delhi-1005408635/', 'https://www.cars24.com/buy-used-Hyundai-NEW-SANTRO-2019-cars-New-Delhi-1008332739/', 'https://www.cars24.com/buy-used-Maruti-S-Cross-2015-cars-New-Delhi-1009171324/', 'https://www.cars24.com/buy-used-Hyundai-i10-2014-cars-New-Delhi-1004375337/', 'https://www.cars24.com/buy-used-Hyundai-Verna-2013-cars-New-Delhi-1007666332/', 'https://www.cars24.com/buy-used-Mahindra-Quanto-2014-cars-New-Delhi-1003008024/', 'https://www.cars24.com/buy-used-Maruti-Baleno-2018-cars-New-Delhi-1001826632/', 'https://www.cars24.com/buy-used-Hyundai-Eon-2016-cars-New-Delhi-1005571721/', 'https://www.cars24.com/buy-used-Mahindra-XUV500-2012-cars-New-Delhi-1009588236/', 'https://www.cars24.com/buy-used-Hyundai-Eon-2014-cars-New-Delhi-1007476037/', 'https://www.cars24.com/buy-used-Maruti-Swift-Dzire-2016-cars-New-Delhi-1006490233/', 'https://www.cars24.com/buy-used-Maruti-Eeco-2016-cars-New-Delhi-1005402184/', 'https://www.cars24.com/buy-used-Hyundai-i20-2010-cars-New-Delhi-1002697326/', 'https://www.cars24.com/buy-used-Volkswagen-Polo-2012-cars-New-Delhi-1007141622/', 'https://www.cars24.com/buy-used-Chevrolet-Beat-2012-cars-New-Delhi-1001262238/', 'https://www.cars24.com/buy-used-Hyundai-Santro-Xing-2011-cars-New-Delhi-1002133537/', 'https://www.cars24.com/buy-used-Renault-Kwid-2017-cars-New-Delhi-1001014231/', 'https://www.cars24.com/buy-used-Honda-Jazz-2015-cars-New-Delhi-1002948839/', 'https://www.cars24.com/buy-used-Maruti-Swift-Dzire-2015-cars-New-Delhi-1003399421/', 'https://www.cars24.com/buy-used-Hyundai-i10-2009-cars-New-Delhi-1000141720/', 'https://www.cars24.com/buy-used-Datsun-Redi-Go-2018-cars-New-Delhi-1003291826/', 'https://www.cars24.com/buy-used-Maruti-Wagon-R-1.0-2017-cars-New-Delhi-1007934837/', 'https://www.cars24.com/buy-used-Renault-Kwid-2019-cars-New-Delhi-1128140630/', 'https://www.cars24.com/buy-used-Hyundai-Santro-Xing-2014-cars-New-Delhi-1006174037/', 'https://www.cars24.com/buy-used-Honda-Amaze-2014-cars-New-Delhi-1006840239/', 'https://www.cars24.com/buy-used-Maruti-Baleno-2019-cars-New-Delhi-1006161724/', 'https://www.cars24.com/buy-used-Maruti-Wagon-R-1.0-2015-cars-New-Delhi-1005061729/', 'https://www.cars24.com/buy-used-Hyundai-i20-2012-cars-New-Delhi-1008221924/', 'https://www.cars24.com/buy-used-Tata-NEXON-2018-cars-New-Delhi-1000151339/', 'https://www.cars24.com/buy-used-Honda-Amaze-2019-cars-New-Delhi-1009735224/', 'https://www.cars24.com/buy-used-Maruti-Wagon-R-1.0-2016-cars-New-Delhi-1007470030/', 'https://www.cars24.com/buy-used-Maruti-Celerio-2015-cars-New-Delhi-1003270331/', 'https://www.cars24.com/buy-used-Tata-Nano-2015-cars-New-Delhi-1004744736/', 'https://www.cars24.com/buy-used-MG-HECTOR-2020-cars-New-Delhi-1008248420/', 'https://www.cars24.com/buy-used-Hyundai-i10-2009-cars-New-Delhi-1004728839/', 'https://www.cars24.com/buy-used-Maruti-Swift-Dzire-2012-cars-New-Delhi-1003645622/', 'https://www.cars24.com/buy-used-Ford-Figo-2011-cars-New-Delhi-1004821422/', 'https://www.cars24.com/buy-used-Ford-New-Figo-2016-cars-New-Delhi-1009282738/', 'https://www.cars24.com/buy-used-Honda-City-2011-cars-New-Delhi-1005238732/', 'https://www.cars24.com/buy-used-Maruti-Ertiga-2012-cars-New-Delhi-1001349629/', 'https://www.cars24.com/buy-used-Hyundai-Elite-i20-2015-cars-New-Delhi-1003283534/', 'https://www.cars24.com/buy-used-Hyundai-Eon-2016-cars-New-Delhi-1003148425/', 'https://www.cars24.com/buy-used-Hyundai-i10-2011-cars-New-Delhi-1008031729/', 'https://www.cars24.com/buy-used-Hyundai-Santro-Xing-2013-cars-New-Delhi-1008221128/', 'https://www.cars24.com/buy-used-Hyundai-Grand-i10-2018-cars-New-Delhi-1007078430/', 'https://www.cars24.com/buy-used-Maruti-Swift-2011-cars-New-Delhi-1006882333/', 'https://www.cars24.com/buy-used-Tata-Indigo-ECS-2014-cars-New-Delhi-1003575226/', 'https://www.cars24.com/buy-used-Ford-Figo-2012-cars-New-Delhi-1002824938/', 'https://www.cars24.com/buy-used-Maruti-Ciaz-2017-cars-New-Delhi-1005128423/', 'https://www.cars24.com/buy-used-Honda-Brio-2013-cars-New-Delhi-1008385631/', 'https://www.cars24.com/buy-used-Maruti-Alto-2010-cars-New-Delhi-1008679722/', 'https://www.cars24.com/buy-used-Hyundai-Grand-i10-2017-cars-New-Delhi-1006222534/', 'https://www.cars24.com/buy-used-Hyundai-Xcent-2017-cars-New-Delhi-1002553332/', 'https://www.cars24.com/buy-used-Mahindra-Kuv100-2017-cars-New-Delhi-1004975539/', 'https://www.cars24.com/buy-used-Maruti-Wagon-R-1.0-2010-cars-New-Delhi-1001517222/', 'https://www.cars24.com/buy-used-Maruti-Swift-2012-cars-New-Delhi-1005591727/', 'https://www.cars24.com/buy-used-Maruti-Eeco-2013-cars-New-Delhi-1009492033/', 'https://www.cars24.com/buy-used-Maruti-SX4-2008-cars-New-Delhi-1002509527/', 'https://www.cars24.com/buy-used-Maruti-Swift-Dzire-2014-cars-New-Delhi-1003533439/', 'https://www.cars24.com/buy-used-Toyota-Etios-2011-cars-New-Delhi-1005396739/', 'https://www.cars24.com/buy-used-Hyundai-i10-2015-cars-New-Delhi-1006422135/', 'https://www.cars24.com/buy-used-Maruti-Zen-Estilo-2010-cars-New-Delhi-1009841026/', 'https://www.cars24.com/buy-used-Maruti-Wagon-R-1.0-2015-cars-New-Delhi-1002196337/', 'https://www.cars24.com/buy-used-Maruti-Swift-2017-cars-New-Delhi-1002829420/', 'https://www.cars24.com/buy-used-Volkswagen-Polo-2010-cars-New-Delhi-1001686239/', 'https://www.cars24.com/buy-used-Maruti-SX4-2009-cars-New-Delhi-1002602939/', 'https://www.cars24.com/buy-used-Honda-Amaze-2013-cars-New-Delhi-1006070030/', 'https://www.cars24.com/buy-used-Maruti-Eeco-2018-cars-New-Delhi-1001375031/', 'https://www.cars24.com/buy-used-Hyundai-Grand-i10-2018-cars-New-Delhi-1004785533/', 'https://www.cars24.com/buy-used-Maruti-Dzire-2017-cars-New-Delhi-1008689526/', 'https://www.cars24.com/buy-used-Maruti-Ritz-2010-cars-New-Delhi-1007173839/', 'https://www.cars24.com/buy-used-Hyundai-i10-2011-cars-New-Delhi-1000664434/', 'https://www.cars24.com/buy-used-Maruti-Ciaz-2014-cars-New-Delhi-1002702732/', 'https://www.cars24.com/buy-used-Hyundai-Verna-2011-cars-New-Delhi-1009887827/', 'https://www.cars24.com/buy-used-Hyundai-i20-Active-2015-cars-New-Delhi-1005626233/', 'https://www.cars24.com/buy-used-Renault-Kwid-2017-cars-New-Delhi-1003576136/', 'https://www.cars24.com/buy-used-Hyundai-Elite-i20-2016-cars-New-Delhi-1002176631/', 'https://www.cars24.com/buy-used-Maruti-Ciaz-2015-cars-New-Delhi-1051314039/', 'https://www.cars24.com/buy-used-Hyundai-i10-2015-cars-New-Delhi-1001789420/', 'https://www.cars24.com/buy-used-Maruti-Alto-2011-cars-New-Delhi-1001852837/', 'https://www.cars24.com/buy-used-Chevrolet-Sail-UVA-2012-cars-New-Delhi-1009488021/', 'https://www.cars24.com/buy-used-Honda-City-ZX-2006-cars-New-Delhi-1000227023/', 'https://www.cars24.com/buy-used-Maruti-Alto-K10-2018-cars-New-Delhi-1001941222/', 'https://www.cars24.com/buy-used-Maruti-Eeco-2015-cars-New-Delhi-1002550230/', 'https://www.cars24.com/buy-used-Chevrolet-Enjoy-2015-cars-New-Delhi-1003053634/', 'https://www.cars24.com/buy-used-Honda-City-ZX-2006-cars-New-Delhi-1001976432/', 'https://www.cars24.com/buy-used-Maruti-Swift-2014-cars-New-Delhi-1008395134/', 'https://www.cars24.com/buy-used-Maruti-Swift-Dzire-2014-cars-New-Delhi-1007286035/', 'https://www.cars24.com/buy-used-Maruti-Baleno-2016-cars-New-Delhi-1001490731/', 'https://www.cars24.com/buy-used-Maruti-Eeco-2019-cars-New-Delhi-1003521431/', 'https://www.cars24.com/buy-used-Hyundai-Grand-i10-2017-cars-New-Delhi-1007685929/', 'https://www.cars24.com/buy-used-Skoda-Fabia-2008-cars-New-Delhi-1000876835/', 'https://www.cars24.com/buy-used-Mahindra-XUV500-2012-cars-New-Delhi-1008494633/', 'https://www.cars24.com/buy-used-Renault-Duster-2013-cars-New-Delhi-1004659125/', 'https://www.cars24.com/buy-used-Honda-Brio-2013-cars-New-Delhi-1008799328/', 'https://www.cars24.com/buy-used-Renault-Duster-2013-cars-New-Delhi-1007338736/', 'https://www.cars24.com/buy-used-Maruti-Wagon-R-1.0-2015-cars-New-Delhi-1006036039/', 'https://www.cars24.com/buy-used-Chevrolet-Beat-2010-cars-New-Delhi-1003944737/', 'https://www.cars24.com/buy-used-Hyundai-Grand-i10-2015-cars-New-Delhi-1008541229/', 'https://www.cars24.com/buy-used-Maruti-Baleno-2016-cars-New-Delhi-1005352634/', 'https://www.cars24.com/buy-used-Ford-Ecosport-2015-cars-New-Delhi-1007659326/', 'https://www.cars24.com/buy-used-Renault-Kwid-2018-cars-New-Delhi-1009663638/', 'https://www.cars24.com/buy-used-Renault-Duster-2014-cars-New-Delhi-1000362037/', 'https://www.cars24.com/buy-used-Maruti-Alto-K10-2015-cars-New-Delhi-1005005825/', 'https://www.cars24.com/buy-used-Maruti-Wagon-R-1.0-2013-cars-New-Delhi-1001891325/', 'https://www.cars24.com/buy-used-Chevrolet-Aveo-2010-cars-New-Delhi-1007201627/', 'https://www.cars24.com/buy-used-Maruti-Swift-Dzire-2013-cars-New-Delhi-1008122536/', 'https://www.cars24.com/buy-used-Ford-Figo-2010-cars-New-Delhi-1009305725/', 'https://www.cars24.com/buy-used-Mahindra-XUV500-2011-cars-New-Delhi-1009216734/', 'https://www.cars24.com/buy-used-Ford-Figo-2011-cars-New-Delhi-1000175036/', 'https://www.cars24.com/buy-used-Maruti-Alto-2007-cars-New-Delhi-1009522436/', 'https://www.cars24.com/buy-used-Mahindra-E20-Plus-2016-cars-New-Delhi-1008681829/', 'https://www.cars24.com/buy-used-Hyundai-Grand-i10-2016-cars-New-Delhi-1002267735/', 'https://www.cars24.com/buy-used-Maruti-Alto-K10-2012-cars-New-Delhi-1008251824/', 'https://www.cars24.com/buy-used-Honda-Amaze-2018-cars-New-Delhi-1006969626/', 'https://www.cars24.com/buy-used-Chevrolet-Cruze-2010-cars-New-Delhi-1008460831/', 'https://www.cars24.com/buy-used-Maruti-Baleno-2016-cars-New-Delhi-1005419621/', 'https://www.cars24.com/buy-used-Hyundai-Grand-i10-2014-cars-New-Delhi-1009199326/', 'https://www.cars24.com/buy-used-Fiat-Grand-Punto-2011-cars-New-Delhi-1009004987/', 'https://www.cars24.com/buy-used-Maruti-Swift-2019-cars-New-Delhi-1017671624/', 'https://www.cars24.com/buy-used-Maruti-Zen-Estilo-2009-cars-New-Delhi-1007677226/', 'https://www.cars24.com/buy-used-Honda-City-2011-cars-New-Delhi-1005444980/', 'https://www.cars24.com/buy-used-Maruti-Swift-Dzire-2013-cars-New-Delhi-1004039424/', 'https://www.cars24.com/buy-used-Maruti-Celerio-2016-cars-New-Delhi-1004077523/', 'https://www.cars24.com/buy-used-Renault-Kwid-2019-cars-New-Delhi-1009540736/', 'https://www.cars24.com/buy-used-Honda-Amaze-2019-cars-New-Delhi-1000815224/', 'https://www.cars24.com/buy-used-Honda-City-2010-cars-New-Delhi-1009896932/', 'https://www.cars24.com/buy-used-Maruti-Alto-K10-2010-cars-New-Delhi-1002232531/', 'https://www.cars24.com/buy-used-Maruti-Zen-Estilo-2013-cars-New-Delhi-1009090630/', 'https://www.cars24.com/buy-used-Maruti-Swift-2019-cars-New-Delhi-1001168838/', 'https://www.cars24.com/buy-used-Toyota-Etios-2016-cars-New-Delhi-1002205234/', 'https://www.cars24.com/buy-used-Maruti-Swift-Dzire-2008-cars-New-Delhi-1008858520/', 'https://www.cars24.com/buy-used-Volkswagen-Polo-2010-cars-New-Delhi-1008481522/', 'https://www.cars24.com/buy-used-Ford-Figo-2011-cars-New-Delhi-1004554635/', 'https://www.cars24.com/buy-used-Toyota-Corolla-Altis-2012-cars-New-Delhi-1009799423/', 'https://www.cars24.com/buy-used-Tata-Tiago-2018-cars-New-Delhi-1001580033/', 'https://www.cars24.com/buy-used-Maruti-Swift-Dzire-2015-cars-New-Delhi-1008918730/', 'https://www.cars24.com/buy-used-Volkswagen-Polo-2011-cars-New-Delhi-1002472931/', 'https://www.cars24.com/buy-used-Maruti-Ciaz-2016-cars-New-Delhi-1000576239/', 'https://www.cars24.com/buy-used-Hyundai-i10-2012-cars-New-Delhi-1003524030/', 'https://www.cars24.com/buy-used-Ford-Ecosport-2014-cars-New-Delhi-1008527130/', 'https://www.cars24.com/buy-used-Fiat-Linea-2010-cars-New-Delhi-1009643821/', 'https://www.cars24.com/buy-used-Hyundai-Santro-Xing-2013-cars-New-Delhi-1006739428/', 'https://www.cars24.com/buy-used-Honda-Amaze-2013-cars-New-Delhi-1007115227/', 'https://www.cars24.com/buy-used-Maruti-Swift-2015-cars-New-Delhi-1006490238/', 'https://www.cars24.com/buy-used-Datsun-Redi-Go-2018-cars-New-Delhi-1003769628/', 'https://www.cars24.com/buy-used-Hyundai-Eon-2014-cars-New-Delhi-1002046139/', 'https://www.cars24.com/buy-used-Maruti-Celerio-2017-cars-New-Delhi-1002455438/', 'https://www.cars24.com/buy-used-Ford-Fiesta-2011-cars-New-Delhi-1004343428/', 'https://www.cars24.com/buy-used-Maruti-Ritz-2010-cars-New-Delhi-1002083235/', 'https://www.cars24.com/buy-used-Maruti-Swift-2013-cars-New-Delhi-1008000136/', 'https://www.cars24.com/buy-used-Honda-Amaze-2014-cars-New-Delhi-1004871622/', 'https://www.cars24.com/buy-used-Hyundai-Grand-i10-2014-cars-New-Delhi-1004144433/', 'https://www.cars24.com/buy-used-Maruti-Alto-K10-2018-cars-New-Delhi-1009270630/', 'https://www.cars24.com/buy-used-Maruti-Eeco-2016-cars-New-Delhi-1010132039/', 'https://www.cars24.com/buy-used-Maruti-Swift-Dzire-2014-cars-New-Delhi-1007822338/', 'https://www.cars24.com/buy-used-Honda-Amaze-2019-cars-New-Delhi-1008693937/', 'https://www.cars24.com/buy-used-Honda-City-ZX-2008-cars-New-Delhi-1005670033/', 'https://www.cars24.com/buy-used-Renault-Duster-2014-cars-New-Delhi-1006960530/', 'https://www.cars24.com/buy-used-Maruti-Wagon-R-1.0-2013-cars-New-Delhi-1005668339/', 'https://www.cars24.com/buy-used-Nissan-Sunny-2012-cars-New-Delhi-1007105631/', 'https://www.cars24.com/buy-used-Maruti-Baleno-2016-cars-New-Delhi-1005164633/', 'https://www.cars24.com/buy-used-Hyundai-Grand-i10-2019-cars-New-Delhi-1009031723/', 'https://www.cars24.com/buy-used-Hyundai-i10-2013-cars-New-Delhi-1001299723/', 'https://www.cars24.com/buy-used-Maruti-Alto-800-2018-cars-New-Delhi-1004080233/', 'https://www.cars24.com/buy-used-Maruti-Eeco-2015-cars-New-Delhi-1009177828/', 'https://www.cars24.com/buy-used-Maruti-Baleno-2019-cars-New-Delhi-1004832330/', 'https://www.cars24.com/buy-used-Maruti-Swift-Dzire-2015-cars-New-Delhi-1008734834/', 'https://www.cars24.com/buy-used-Hyundai-Grand-i10-2015-cars-New-Delhi-1004005033/', 'https://www.cars24.com/buy-used-Hyundai-Elite-i20-2015-cars-New-Delhi-1009308235/', 'https://www.cars24.com/buy-used-Hyundai-Grand-i10-2013-cars-New-Delhi-1000632333/', 'https://www.cars24.com/buy-used-Maruti-Swift-Dzire-2015-cars-New-Delhi-1009573232/', 'https://www.cars24.com/buy-used-Maruti-Eeco-2019-cars-New-Delhi-1002804836/', 'https://www.cars24.com/buy-used-Maruti-Eeco-2017-cars-New-Delhi-1004783030/', 'https://www.cars24.com/buy-used-Mahindra-TUV300-2015-cars-New-Delhi-1002943732/', 'https://www.cars24.com/buy-used-Maruti-Ritz-2010-cars-New-Delhi-1000839129/', 'https://www.cars24.com/buy-used-Mahindra-Kuv100-2016-cars-New-Delhi-1000292230/', 'https://www.cars24.com/buy-used-Maruti-Swift-2015-cars-New-Delhi-1001600532/', 'https://www.cars24.com/buy-used-Hyundai-i10-2013-cars-New-Delhi-1007548023/', 'https://www.cars24.com/buy-used-Maruti-Ciaz-2014-cars-New-Delhi-1000817422/', 'https://www.cars24.com/buy-used-Skoda-Superb-2011-cars-New-Delhi-1000913733/', 'https://www.cars24.com/buy-used-Hyundai-Santro-Xing-2007-cars-New-Delhi-1001004934/', 'https://www.cars24.com/buy-used-Hyundai-i10-2014-cars-New-Delhi-1004062731/', 'https://www.cars24.com/buy-used-Maruti-SX4-2008-cars-New-Delhi-1003358133/', 'https://www.cars24.com/buy-used-Hyundai-i10-2014-cars-New-Delhi-1005966731/', 'https://www.cars24.com/buy-used-Maruti-Swift-Dzire-2014-cars-New-Delhi-1007970433/', 'https://www.cars24.com/buy-used-Hyundai-i10-2011-cars-New-Delhi-1000589922/', 'https://www.cars24.com/buy-used-Ford-Figo-2011-cars-New-Delhi-1008957020/', 'https://www.cars24.com/buy-used-Renault-Duster-2014-cars-New-Delhi-1007671822/', 'https://www.cars24.com/buy-used-Maruti-Baleno-2016-cars-New-Delhi-1003284334/', 'https://www.cars24.com/buy-used-Toyota-Corolla-Altis-2012-cars-New-Delhi-1002903537/', 'https://www.cars24.com/buy-used-Nissan-Micra-Active-2017-cars-New-Delhi-1001680932/', 'https://www.cars24.com/buy-used-Maruti-Wagon-R-1.0-2016-cars-New-Delhi-1008551038/', 'https://www.cars24.com/buy-used-Ford-Figo-2010-cars-New-Delhi-1007799924/', 'https://www.cars24.com/buy-used-Maruti-Ciaz-2015-cars-New-Delhi-1006736936/', 'https://www.cars24.com/buy-used-Ford-Figo-Aspire-2017-cars-New-Delhi-1004047429/', 'https://www.cars24.com/buy-used-Maruti-Zen-Estilo-2009-cars-New-Delhi-1001550737/', 'https://www.cars24.com/buy-used-Hyundai-i10-2013-cars-New-Delhi-1001097322/', 'https://www.cars24.com/buy-used-Hyundai-i20-2010-cars-New-Delhi-1005311026/', 'https://www.cars24.com/buy-used-Maruti-Swift-Dzire-2014-cars-New-Delhi-1001932033/', 'https://www.cars24.com/buy-used-Maruti-Dzire-2017-cars-New-Delhi-1004752332/', 'https://www.cars24.com/buy-used-Ford-Figo-2013-cars-New-Delhi-1003096732/', 'https://www.cars24.com/buy-used-Maruti-Wagon-R-1.0-2017-cars-New-Delhi-1008531221/', 'https://www.cars24.com/buy-used-Maruti-Swift-2013-cars-New-Delhi-1005585534/', 'https://www.cars24.com/buy-used-Honda-WR-V-2017-cars-New-Delhi-1003366337/', 'https://www.cars24.com/buy-used-Chevrolet-Beat-2013-cars-New-Delhi-1008396436/', 'https://www.cars24.com/buy-used-Maruti-Wagon-R-1.0-2015-cars-New-Delhi-1001817222/', 'https://www.cars24.com/buy-used-Hyundai-Grand-i10-2016-cars-New-Delhi-1009256631/', 'https://www.cars24.com/buy-used-Maruti-Wagon-R-1.0-2011-cars-New-Delhi-1002411634/', 'https://www.cars24.com/buy-used-Hyundai-Grand-i10-2016-cars-New-Delhi-1006198521/', 'https://www.cars24.com/buy-used-Maruti-Dzire-2019-cars-New-Delhi-1009898036/', 'https://www.cars24.com/buy-used-Hyundai-i10-2011-cars-New-Delhi-1002978926/', 'https://www.cars24.com/buy-used-Honda-Jazz-2011-cars-New-Delhi-1004857425/', 'https://www.cars24.com/buy-used-Hyundai-Grand-i10-2016-cars-New-Delhi-1003688435/', 'https://www.cars24.com/buy-used-Honda-Amaze-2015-cars-New-Delhi-1001373234/', 'https://www.cars24.com/buy-used-Maruti-Wagon-R-1.0-2018-cars-New-Delhi-1000681820/', 'https://www.cars24.com/buy-used-Maruti-Swift-Dzire-2013-cars-New-Delhi-1008215237/', 'https://www.cars24.com/buy-used-Maruti-Baleno-2018-cars-New-Delhi-1000832938/', 'https://www.cars24.com/buy-used-Renault-Kwid-2015-cars-New-Delhi-1128426237/', 'https://www.cars24.com/buy-used-Hyundai-Grand-i10-2016-cars-New-Delhi-1009481821/', 'https://www.cars24.com/buy-used-Maruti-Ertiga-2014-cars-New-Delhi-1006977027/', 'https://www.cars24.com/buy-used-Maruti-Wagon-R-2010-cars-New-Delhi-1005111625/', 'https://www.cars24.com/buy-used-Maruti-Esteem-2006-cars-New-Delhi-1005737427/', 'https://www.cars24.com/buy-used-Skoda-Rapid-2014-cars-New-Delhi-1007684137/', 'https://www.cars24.com/buy-used-Hyundai-i10-2015-cars-New-Delhi-1007176235/', 'https://www.cars24.com/buy-used-Ford-Ecosport-2013-cars-New-Delhi-1004962825/', 'https://www.cars24.com/buy-used-Hyundai-i20-2011-cars-New-Delhi-1008733332/', 'https://www.cars24.com/buy-used-Mahindra-Scorpio-2014-cars-New-Delhi-1002385637/', 'https://www.cars24.com/buy-used-Toyota-Etios-Liva-2012-cars-New-Delhi-1009224930/', 'https://www.cars24.com/buy-used-Datsun-Redi-Go-2016-cars-New-Delhi-1009957329/', 'https://www.cars24.com/buy-used-Hyundai-i10-2012-cars-New-Delhi-1009797023/', 'https://www.cars24.com/buy-used-Hyundai-Elite-i20-2017-cars-New-Delhi-1005605338/', 'https://www.cars24.com/buy-used-Hyundai-Verna-2013-cars-New-Delhi-1001891521/', 'https://www.cars24.com/buy-used-Tata-Tiago-2018-cars-New-Delhi-1003260132/', 'https://www.cars24.com/buy-used-Maruti-Swift-2017-cars-New-Delhi-1005753635/', 'https://www.cars24.com/buy-used-Mahindra-TUV300-2015-cars-New-Delhi-1006548135/', 'https://www.cars24.com/buy-used-Maruti-Eeco-2011-cars-New-Delhi-1002745436/', 'https://www.cars24.com/buy-used-Hyundai-Grand-i10-2017-cars-New-Delhi-1006393632/', 'https://www.cars24.com/buy-used-Chevrolet-Beat-2011-cars-New-Delhi-1000802732/', 'https://www.cars24.com/buy-used-Mahindra-Kuv100-2016-cars-New-Delhi-1005060432/', 'https://www.cars24.com/buy-used-Maruti-Esteem-2006-cars-New-Delhi-1004012238/', 'https://www.cars24.com/buy-used-Ford-Figo-2011-cars-New-Delhi-1006845032/', 'https://www.cars24.com/buy-used-Maruti-Wagon-R-1.0-2016-cars-New-Delhi-1004229726/', 'https://www.cars24.com/buy-used-Maruti-Celerio-2020-cars-New-Delhi-1006026839/', 'https://www.cars24.com/buy-used-Ford-Fiesta-Classic-2012-cars-New-Delhi-1000348825/', 'https://www.cars24.com/buy-used-Nissan-Terrano-2014-cars-New-Delhi-1009695424/', 'https://www.cars24.com/buy-used-Hyundai-i20-2010-cars-New-Delhi-1004624837/', 'https://www.cars24.com/buy-used-Maruti-Eeco-2015-cars-New-Delhi-1003464633/', 'https://www.cars24.com/buy-used-Renault-Kwid-2016-cars-New-Delhi-1009889123/', 'https://www.cars24.com/buy-used-Maruti-Baleno-2016-cars-New-Delhi-1009590636/', 'https://www.cars24.com/buy-used-Maruti-Ciaz-2015-cars-New-Delhi-1000525027/', 'https://www.cars24.com/buy-used-Honda-City-2011-cars-New-Delhi-1001029422/', 'https://www.cars24.com/buy-used-Maruti-Ciaz-2016-cars-New-Delhi-1005679127/', 'https://www.cars24.com/buy-used-Toyota-Glanza-2019-cars-New-Delhi-1004941530/', 'https://www.cars24.com/buy-used-Maruti-Swift-2009-cars-New-Delhi-1008925035/', 'https://www.cars24.com/buy-used-Hyundai-i10-2011-cars-New-Delhi-1004866030/', 'https://www.cars24.com/buy-used-Hyundai-Santro-Xing-2012-cars-New-Delhi-1006445039/', 'https://www.cars24.com/buy-used-Hyundai-Accent-2010-cars-New-Delhi-1005312832/', 'https://www.cars24.com/buy-used-Hyundai-Grand-i10-2016-cars-New-Delhi-1003759528/', 'https://www.cars24.com/buy-used-Maruti-Ritz-2011-cars-New-Delhi-1004147929/', 'https://www.cars24.com/buy-used-Maruti-Swift-2017-cars-New-Delhi-1002182430/', 'https://www.cars24.com/buy-used-Hyundai-i10-2010-cars-New-Delhi-1053323838/', 'https://www.cars24.com/buy-used-Tata-Nano-2014-cars-New-Delhi-1008338532/', 'https://www.cars24.com/buy-used-Mahindra-Thar-2011-cars-New-Delhi-1006210338/', 'https://www.cars24.com/buy-used-Maruti-Wagon-R-1.0-2011-cars-New-Delhi-1000120630/', 'https://www.cars24.com/buy-used-Maruti-Ertiga-2013-cars-New-Delhi-1009261329/', 'https://www.cars24.com/buy-used-Toyota-Innova-2012-cars-New-Delhi-1001583136/', 'https://www.cars24.com/buy-used-Hyundai-i20-2010-cars-New-Delhi-1004410338/', 'https://www.cars24.com/buy-used-Hyundai-Grand-i10-2018-cars-New-Delhi-1007719126/', 'https://www.cars24.com/buy-used-Volkswagen-Polo-2011-cars-New-Delhi-1003753637/', 'https://www.cars24.com/buy-used-Renault-Kwid-2016-cars-New-Delhi-1008735833/', 'https://www.cars24.com/buy-used-Mahindra-TUV300-2015-cars-New-Delhi-1006972033/', 'https://www.cars24.com/buy-used-Hyundai-Accent-2010-cars-New-Delhi-1003784635/', 'https://www.cars24.com/buy-used-Hyundai-i20-2010-cars-New-Delhi-1003717181/', 'https://www.cars24.com/buy-used-Hyundai-Elite-i20-2015-cars-New-Delhi-1003370837/', 'https://www.cars24.com/buy-used-Maruti-Swift-2019-cars-New-Delhi-1005611823/', 'https://www.cars24.com/buy-used-Nissan-Sunny-2012-cars-New-Delhi-1006641426/', 'https://www.cars24.com/buy-used-Maruti-Baleno-2016-cars-New-Delhi-1007300131/', 'https://www.cars24.com/buy-used-Maruti-Zen-Estilo-2010-cars-New-Delhi-1008385338/', 'https://www.cars24.com/buy-used-Maruti-Swift-Dzire-2011-cars-New-Delhi-1008693130/', 'https://www.cars24.com/buy-used-Maruti-Swift-Dzire-2015-cars-New-Delhi-1002237526/', 'https://www.cars24.com/buy-used-Chevrolet-Beat-2011-cars-New-Delhi-1006548336/', 'https://www.cars24.com/buy-used-Maruti-Swift-2014-cars-New-Delhi-1002695521/', 'https://www.cars24.com/buy-used-Ford-New-Figo-2017-cars-New-Delhi-1008478231/', 'https://www.cars24.com/buy-used-Renault-Kwid-2017-cars-New-Delhi-1008351532/', 'https://www.cars24.com/buy-used-Renault-Kwid-2016-cars-New-Delhi-1002711326/', 'https://www.cars24.com/buy-used-Maruti-Vitara-Brezza-2017-cars-New-Delhi-1006064138/', 'https://www.cars24.com/buy-used-Maruti-Swift-2018-cars-New-Delhi-1003321228/', 'https://www.cars24.com/buy-used-Maruti-Ritz-2011-cars-New-Delhi-1125248123/', 'https://www.cars24.com/buy-used-Maruti-Celerio-2014-cars-New-Delhi-1002603234/', 'https://www.cars24.com/buy-used-Maruti-Alto-800-2015-cars-New-Delhi-1001057528/', 'https://www.cars24.com/buy-used-Tata-Indigo-ECS-2012-cars-New-Delhi-1009145039/', 'https://www.cars24.com/buy-used-Maruti-Ertiga-2019-cars-New-Delhi-1001525537/', 'https://www.cars24.com/buy-used-Hyundai-i10-2008-cars-New-Delhi-1004371027/', 'https://www.cars24.com/buy-used-Hyundai-i10-2011-cars-New-Delhi-1000607028/', 'https://www.cars24.com/buy-used-Mahindra-Scorpio-2013-cars-New-Delhi-1001307624/', 'https://www.cars24.com/buy-used-Maruti-Swift-2013-cars-New-Delhi-1007942733/', 'https://www.cars24.com/buy-used-Hyundai-Elite-i20-2018-cars-New-Delhi-1000710538/', 'https://www.cars24.com/buy-used-Hyundai-Elite-i20-2018-cars-New-Delhi-1008763237/', 'https://www.cars24.com/buy-used-Maruti-Ritz-2011-cars-New-Delhi-1002737620/', 'https://www.cars24.com/buy-used-Renault-Kwid-2017-cars-New-Delhi-1000268534/', 'https://www.cars24.com/buy-used-Hyundai-Santro-Xing-2011-cars-New-Delhi-1001441620/', 'https://www.cars24.com/buy-used-Maruti-Alto-800-2016-cars-New-Delhi-1007221421/', 'https://www.cars24.com/buy-used-Hyundai-Verna-2016-cars-New-Delhi-1007265237/', 'https://www.cars24.com/buy-used-Maruti-Baleno-2016-cars-New-Delhi-1003987929/', 'https://www.cars24.com/buy-used-Maruti-Ritz-2010-cars-New-Delhi-1005429328/', 'https://www.cars24.com/buy-used-Maruti-SX4-2009-cars-New-Delhi-1007323336/', 'https://www.cars24.com/buy-used-Maruti-Ritz-2011-cars-New-Delhi-1006290331/', 'https://www.cars24.com/buy-used-Toyota-Etios-2011-cars-New-Delhi-1003456139/', 'https://www.cars24.com/buy-used-Mahindra-XUV500-2012-cars-New-Delhi-1004099128/', 'https://www.cars24.com/buy-used-Hyundai-i20-2013-cars-New-Delhi-1006416035/', 'https://www.cars24.com/buy-used-Maruti-Eeco-2015-cars-New-Delhi-1003095538/', 'https://www.cars24.com/buy-used-Maruti-Swift-Dzire-2016-cars-New-Delhi-1008488632/', 'https://www.cars24.com/buy-used-Chevrolet-Enjoy-2016-cars-New-Delhi-1004645834/', 'https://www.cars24.com/buy-used-Honda-City-2009-cars-New-Delhi-1004934837/', 'https://www.cars24.com/buy-used-Hyundai-Verna-2012-cars-New-Delhi-1059152722/', 'https://www.cars24.com/buy-used-Chevrolet-Cruze-2011-cars-New-Delhi-1009281623/', 'https://www.cars24.com/buy-used-Honda-Amaze-2018-cars-New-Delhi-1009787126/', 'https://www.cars24.com/buy-used-Maruti-Baleno-2017-cars-New-Delhi-1006621126/', 'https://www.cars24.com/buy-used-Hyundai-Grand-i10-2017-cars-New-Delhi-1008532934/', 'https://www.cars24.com/buy-used-Ford-Ecosport-2017-cars-New-Delhi-1007725831/', 'https://www.cars24.com/buy-used-Maruti-Wagon-R-1.0-2016-cars-New-Delhi-1008582937/', 'https://www.cars24.com/buy-used-Maruti-Swift-2016-cars-New-Delhi-1003595633/', 'https://www.cars24.com/buy-used-Maruti-Eeco-2018-cars-New-Delhi-1001108334/', 'https://www.cars24.com/buy-used-Hyundai-Santro-Xing-2014-cars-New-Delhi-1003164232/', 'https://www.cars24.com/buy-used-Maruti-Ertiga-2012-cars-New-Delhi-1008659822/', 'https://www.cars24.com/buy-used-Maruti-Eeco-2010-cars-New-Delhi-1000672931/', 'https://www.cars24.com/buy-used-Honda-Amaze-2018-cars-New-Delhi-1004813329/', 'https://www.cars24.com/buy-used-Hyundai-New-Elantra-2013-cars-New-Delhi-1007671225/', 'https://www.cars24.com/buy-used-Honda-Amaze-2014-cars-New-Delhi-1006741627/', 'https://www.cars24.com/buy-used-Honda-Amaze-2013-cars-New-Delhi-1006369834/', 'https://www.cars24.com/buy-used-Renault-Kwid-2019-cars-New-Delhi-1001251226/', 'https://www.cars24.com/buy-used-Mercedes-Benz-C-Class-2010-cars-New-Delhi-1009385220/', 'https://www.cars24.com/buy-used-Honda-Amaze-2019-cars-New-Delhi-1006234433/', 'https://www.cars24.com/buy-used-Toyota-Corolla-Altis-2011-cars-New-Delhi-1007109325/', 'https://www.cars24.com/buy-used-Hyundai-Elite-i20-2018-cars-New-Delhi-1007048537/', 'https://www.cars24.com/buy-used-Hyundai-Elite-i20-2015-cars-New-Delhi-1004218639/', 'https://www.cars24.com/buy-used-Volkswagen-Vento-2011-cars-New-Delhi-1003375429/', 'https://www.cars24.com/buy-used-Hyundai-Grand-i10-2014-cars-New-Delhi-1005060039/', 'https://www.cars24.com/buy-used-Maruti-Alto-800-2013-cars-New-Delhi-1002936831/', 'https://www.cars24.com/buy-used-Datsun-Go-2017-cars-New-Delhi-1008229154/', 'https://www.cars24.com/buy-used-Hyundai-i10-2008-cars-New-Delhi-1000826430/', 'https://www.cars24.com/buy-used-Maruti-Alto-2019-cars-New-Delhi-1007382739/', 'https://www.cars24.com/buy-used-Tata-Tiago-2016-cars-New-Delhi-1005273337/', 'https://www.cars24.com/buy-used-Honda-Jazz-2017-cars-New-Delhi-1003045823/', 'https://www.cars24.com/buy-used-Hyundai-i10-2011-cars-New-Delhi-1001097126/', 'https://www.cars24.com/buy-used-Audi-A6-2010-cars-New-Delhi-1008517223/', 'https://www.cars24.com/buy-used-Mahindra-Scorpio-2012-cars-New-Delhi-1008740032/', 'https://www.cars24.com/buy-used-Ford-Figo-2013-cars-New-Delhi-1102062238/', 'https://www.cars24.com/buy-used-Maruti-Wagon-R-1.0-2010-cars-New-Delhi-1005628834/', 'https://www.cars24.com/buy-used-Hyundai-i20-2013-cars-New-Delhi-1001745337/', 'https://www.cars24.com/buy-used-Maruti-Swift-2016-cars-New-Delhi-1005762536/', 'https://www.cars24.com/buy-used-Maruti-Ciaz-2015-cars-New-Delhi-1003983538/', 'https://www.cars24.com/buy-used-Mahindra-Scorpio-2012-cars-New-Delhi-1008993638/', 'https://www.cars24.com/buy-used-Maruti-Swift-2015-cars-New-Delhi-1007285231/', 'https://www.cars24.com/buy-used-Nissan-Micra-2011-cars-New-Delhi-1001236536/', 'https://www.cars24.com/buy-used-Mahindra-Kuv100-2017-cars-New-Delhi-1007718634/', 'https://www.cars24.com/buy-used-Maruti-Swift-Dzire-2011-cars-New-Delhi-1008299921/', 'https://www.cars24.com/buy-used-Maruti-Eeco-2017-cars-New-Delhi-1008438439/', 'https://www.cars24.com/buy-used-Hyundai-Grand-i10-2018-cars-New-Delhi-1104215320/', 'https://www.cars24.com/buy-used-Mahindra-XUV500-2017-cars-New-Delhi-1001325920/', 'https://www.cars24.com/buy-used-Hyundai-i20-2012-cars-New-Delhi-1000440732/', 'https://www.cars24.com/buy-used-Maruti-Swift-Dzire-2012-cars-New-Delhi-1002126532/', 'https://www.cars24.com/buy-used-Maruti-Swift-2014-cars-New-Delhi-1003678931/', 'https://www.cars24.com/buy-used-Hyundai-Verna-2012-cars-New-Delhi-1006929921/', 'https://www.cars24.com/buy-used-Maruti-Ritz-2012-cars-New-Delhi-1005911123/', 'https://www.cars24.com/buy-used-Maruti-Swift-2013-cars-New-Delhi-1008531531/', 'https://www.cars24.com/buy-used-Maruti-Dzire-2018-cars-New-Delhi-1000712732/', 'https://www.cars24.com/buy-used-Maruti-Alto-2019-cars-New-Delhi-1004561122/', 'https://www.cars24.com/buy-used-Maruti-Alto-K10-2017-cars-New-Delhi-1002957332/', 'https://www.cars24.com/buy-used-Maruti-Swift-Dzire-2013-cars-New-Delhi-1004564336/', 'https://www.cars24.com/buy-used-Maruti-Swift-2018-cars-New-Delhi-1004217623/', 'https://www.cars24.com/buy-used-Tata-Nano-2011-cars-New-Delhi-1002835422/', 'https://www.cars24.com/buy-used-Maruti-Ertiga-2016-cars-New-Delhi-1008725535/', 'https://www.cars24.com/buy-used-Maruti-Eeco-2018-cars-New-Delhi-1000853028/', 'https://www.cars24.com/buy-used-Maruti-Alto-2020-cars-New-Delhi-1006845329/', 'https://www.cars24.com/buy-used-Hyundai-Grand-i10-2017-cars-New-Delhi-1005318333/', 'https://www.cars24.com/buy-used-Maruti-Ritz-2012-cars-New-Delhi-1002301039/', 'https://www.cars24.com/buy-used-Honda-Jazz-2015-cars-New-Delhi-1001916234/', 'https://www.cars24.com/buy-used-Mahindra-Kuv100-2016-cars-New-Delhi-1003577725/', 'https://www.cars24.com/buy-used-Maruti-Swift-Dzire-2014-cars-New-Delhi-1001726432/', 'https://www.cars24.com/buy-used-Hyundai-i20-2010-cars-New-Delhi-1004078938/', 'https://www.cars24.com/buy-used-Maruti-Vitara-Brezza-2017-cars-New-Delhi-1004935037/', 'https://www.cars24.com/buy-used-Maruti-Wagon-R-1.0-2014-cars-New-Delhi-1001000033/', 'https://www.cars24.com/buy-used-Honda-Amaze-2014-cars-New-Delhi-1005885232/', 'https://www.cars24.com/buy-used-Maruti-Swift-2009-cars-New-Delhi-1003771223/', 'https://www.cars24.com/buy-used-Hyundai-Grand-i10-2017-cars-New-Delhi-1002259924/', 'https://www.cars24.com/buy-used-Maruti-Swift-2015-cars-New-Delhi-1003102831/', 'https://www.cars24.com/buy-used-Fiat-Linea-2012-cars-New-Delhi-1014699228/', 'https://www.cars24.com/buy-used-Maruti-Swift-Dzire-2015-cars-New-Delhi-1008204031/', 'https://www.cars24.com/buy-used-Maruti-Wagon-R-1.0-2012-cars-New-Delhi-1008155025/', 'https://www.cars24.com/buy-used-Maruti-Baleno-2018-cars-New-Delhi-1005030031/', 'https://www.cars24.com/buy-used-Maruti-Ertiga-2012-cars-New-Delhi-1003220935/', 'https://www.cars24.com/buy-used-Maruti-Swift-Dzire-2016-cars-New-Delhi-1004755736/', 'https://www.cars24.com/buy-used-Ford-Figo-2011-cars-New-Delhi-1009264936/', 'https://www.cars24.com/buy-used-Maruti-Swift-Dzire-2014-cars-New-Delhi-1005341823/', 'https://www.cars24.com/buy-used-Maruti-Eeco-2018-cars-New-Delhi-1006992439/', 'https://www.cars24.com/buy-used-Hyundai-i10-2008-cars-New-Delhi-1008324133/', 'https://www.cars24.com/buy-used-Maruti-Swift-2011-cars-New-Delhi-1006543432/', 'https://www.cars24.com/buy-used-Toyota-Etios-2011-cars-New-Delhi-1000674831/', 'https://www.cars24.com/buy-used-Renault-Kwid-2017-cars-New-Delhi-1003585734/', 'https://www.cars24.com/buy-used-Toyota-Innova-2011-cars-New-Delhi-1002277032/', 'https://www.cars24.com/buy-used-Maruti-Eeco-2014-cars-New-Delhi-1005954639/', 'https://www.cars24.com/buy-used-Hyundai-Verna-2013-cars-New-Delhi-1008675535/', 'https://www.cars24.com/buy-used-Chevrolet-Beat-2014-cars-New-Delhi-1005379927/', 'https://www.cars24.com/buy-used-Tata-NEXON-2018-cars-New-Delhi-1001909024/', 'https://www.cars24.com/buy-used-Maruti-Baleno-2017-cars-New-Delhi-1009596432/', 'https://www.cars24.com/buy-used-Renault-Kwid-2016-cars-New-Delhi-1000776132/', 'https://www.cars24.com/buy-used-Honda-Jazz-2010-cars-New-Delhi-1000112433/', 'https://www.cars24.com/buy-used-Honda-City-2011-cars-New-Delhi-1009269523/', 'https://www.cars24.com/buy-used-Hyundai-i10-2012-cars-New-Delhi-1007869128/', 'https://www.cars24.com/buy-used-Maruti-Dzire-2019-cars-New-Delhi-1000544736/', 'https://www.cars24.com/buy-used-Maruti-Swift-2019-cars-New-Delhi-1008559922/', 'https://www.cars24.com/buy-used-Maruti-Swift-Dzire-2010-cars-New-Delhi-1006569023/', 'https://www.cars24.com/buy-used-Hyundai-Verna-2015-cars-New-Delhi-1004007128/', 'https://www.cars24.com/buy-used-Maruti-Swift-2013-cars-New-Delhi-1008200035/', 'https://www.cars24.com/buy-used-Maruti-Eeco-2011-cars-New-Delhi-1009612330/', 'https://www.cars24.com/buy-used-Mahindra-Kuv100-2016-cars-New-Delhi-1006527520/', 'https://www.cars24.com/buy-used-Chevrolet-Beat-2011-cars-New-Delhi-1004106831/', 'https://www.cars24.com/buy-used-Toyota-Innova-2013-cars-New-Delhi-1003707624/', 'https://www.cars24.com/buy-used-Maruti-Baleno-2020-cars-New-Delhi-1003550935/', 'https://www.cars24.com/buy-used-Ford-Fusion-2008-cars-New-Delhi-1008273835/', 'https://www.cars24.com/buy-used-Hyundai-Grand-i10-2015-cars-New-Delhi-1007837121/', 'https://www.cars24.com/buy-used-Honda-Amaze-2020-cars-New-Delhi-1006365326/', 'https://www.cars24.com/buy-used-Tata-Safari-Storme-2012-cars-New-Delhi-1007883633/', 'https://www.cars24.com/buy-used-Maruti-Swift-Dzire-2011-cars-New-Delhi-1003090637/', 'https://www.cars24.com/buy-used-MG-HECTOR-2020-cars-New-Delhi-1002847126/', 'https://www.cars24.com/buy-used-Mahindra-Kuv100-2016-cars-New-Delhi-1007398136/', 'https://www.cars24.com/buy-used-Maruti-Baleno-2017-cars-New-Delhi-1006615933/', 'https://www.cars24.com/buy-used-Maruti-Ertiga-2014-cars-New-Delhi-1007065336/', 'https://www.cars24.com/buy-used-Ford-Ecosport-2016-cars-New-Delhi-1005712234/', 'https://www.cars24.com/buy-used-Honda-City-2017-cars-New-Delhi-1002081537/', 'https://www.cars24.com/buy-used-Hyundai-i10-2008-cars-New-Delhi-1005262435/', 'https://www.cars24.com/buy-used-Renault-Kwid-2016-cars-New-Delhi-1000050532/', 'https://www.cars24.com/buy-used-Maruti-Swift-Dzire-2014-cars-New-Delhi-1008955138/', 'https://www.cars24.com/buy-used-Maruti-Eeco-2018-cars-New-Delhi-1002204735/', 'https://www.cars24.com/buy-used-Hyundai-i10-2012-cars-New-Delhi-1002591920/', 'https://www.cars24.com/buy-used-Maruti-IGNIS-2018-cars-New-Delhi-1005960334/', 'https://www.cars24.com/buy-used-Mahindra-XUV500-2013-cars-New-Delhi-1002273932/', 'https://www.cars24.com/buy-used-Hyundai-Grand-i10-2018-cars-New-Delhi-1002197928/', 'https://www.cars24.com/buy-used-Renault-Duster-2012-cars-New-Delhi-1000863339/', 'https://www.cars24.com/buy-used-Maruti-Swift-2012-cars-New-Delhi-1001507520/', 'https://www.cars24.com/buy-used-Maruti-Swift-Dzire-2014-cars-New-Delhi-1009722033/', 'https://www.cars24.com/buy-used-Hyundai-Verna-2014-cars-New-Delhi-1006823536/', 'https://www.cars24.com/buy-used-Honda-Amaze-2017-cars-New-Delhi-1002016832/', 'https://www.cars24.com/buy-used-Hyundai-Grand-i10-2015-cars-New-Delhi-1006329825/', 'https://www.cars24.com/buy-used-Maruti-Swift-Dzire-2014-cars-New-Delhi-1005927627/', 'https://www.cars24.com/buy-used-Honda-City-ZX-2006-cars-New-Delhi-1008771120/', 'https://www.cars24.com/buy-used-Hyundai-Accent-2010-cars-New-Delhi-1003797423/', 'https://www.cars24.com/buy-used-Hyundai-Grand-i10-2017-cars-New-Delhi-1005237229/', 'https://www.cars24.com/buy-used-Maruti-Celerio-2018-cars-New-Delhi-1006002739/', 'https://www.cars24.com/buy-used-Honda-Amaze-2015-cars-New-Delhi-1005091538/', 'https://www.cars24.com/buy-used-Maruti-Swift-Dzire-2016-cars-New-Delhi-1007587321/', 'https://www.cars24.com/buy-used-Honda-City-2011-cars-New-Delhi-1004410830/', 'https://www.cars24.com/buy-used-Maruti-Dzire-2019-cars-New-Delhi-1000446134/', 'https://www.cars24.com/buy-used-Nissan-Micra-Active-2016-cars-New-Delhi-1006202132/', 'https://www.cars24.com/buy-used-Hyundai-Grand-i10-2016-cars-New-Delhi-1008221723/', 'https://www.cars24.com/buy-used-Maruti-Baleno-2016-cars-New-Delhi-1007702931/', 'https://www.cars24.com/buy-used-Hyundai-i10-2010-cars-New-Delhi-1000473039/', 'https://www.cars24.com/buy-used-Ford-Ecosport-2015-cars-New-Delhi-1009872338/', 'https://www.cars24.com/buy-used-Maruti-Alto-K10-2010-cars-New-Delhi-1006594439/', 'https://www.cars24.com/buy-used-Hyundai-Santro-Xing-2012-cars-New-Delhi-1002828121/', 'https://www.cars24.com/buy-used-Maruti-Swift-2015-cars-New-Delhi-1000328737/', 'https://www.cars24.com/buy-used-Maruti-Wagon-R-1.0-2012-cars-New-Delhi-1004124637/', 'https://www.cars24.com/buy-used-Maruti-Swift-Dzire-2012-cars-New-Delhi-1001507820/', 'https://www.cars24.com/buy-used-Maruti-Dzire-2017-cars-New-Delhi-1005184733/', 'https://www.cars24.com/buy-used-Mahindra-XUV500-2012-cars-New-Delhi-1005269324/', 'https://www.cars24.com/buy-used-Hyundai-NEW-SANTRO-2019-cars-New-Delhi-1007397222/', 'https://www.cars24.com/buy-used-Honda-Civic-2007-cars-New-Delhi-1000348638/', 'https://www.cars24.com/buy-used-Volkswagen-Vento-2012-cars-New-Delhi-1008865637/', 'https://www.cars24.com/buy-used-Maruti-SX4-2007-cars-New-Delhi-1005443934/', 'https://www.cars24.com/buy-used-Maruti-Swift-2015-cars-New-Delhi-1009745837/', 'https://www.cars24.com/buy-used-Hyundai-Eon-2012-cars-New-Delhi-1008910032/', 'https://www.cars24.com/buy-used-Maruti-Wagon-R-2010-cars-New-Delhi-1009133231/', 'https://www.cars24.com/buy-used-Maruti-Ritz-2011-cars-New-Delhi-1007091230/', 'https://www.cars24.com/buy-used-Honda-City-2015-cars-New-Delhi-1000701527/', 'https://www.cars24.com/buy-used-Honda-Amaze-2013-cars-New-Delhi-1005961329/', 'https://www.cars24.com/buy-used-Maruti-OMNI-E-2016-cars-New-Delhi-1008646831/', 'https://www.cars24.com/buy-used-Maruti-Swift-2010-cars-New-Delhi-1009733836/', 'https://www.cars24.com/buy-used-Toyota-Corolla-Altis-2009-cars-New-Delhi-1009811126/', 'https://www.cars24.com/buy-used-Tata-Indigo-ECS-2012-cars-New-Delhi-1000863433/', 'https://www.cars24.com/buy-used-Maruti-Ertiga-2014-cars-New-Delhi-1008985321/', 'https://www.cars24.com/buy-used-Ford-Figo-2011-cars-New-Delhi-1005077524/', 'https://www.cars24.com/buy-used-Datsun-Redi-Go-2016-cars-New-Delhi-1123591728/', 'https://www.cars24.com/buy-used-Ford-Figo-2012-cars-New-Delhi-1003114832/', 'https://www.cars24.com/buy-used-Ford-Ecosport-2015-cars-New-Delhi-1004291231/', 'https://www.cars24.com/buy-used-Ford-Ecosport-2014-cars-New-Delhi-1002506734/', 'https://www.cars24.com/buy-used-Hyundai-Santro-Xing-2011-cars-New-Delhi-1006312838/', 'https://www.cars24.com/buy-used-Hyundai-Santro-Xing-2011-cars-New-Delhi-1006312838/', 'https://www.cars24.com/buy-used-Hyundai-GRAND-I10-NIOS-2020-cars-New-Delhi-1006130933/', 'https://www.cars24.com/buy-used-Maruti-Eeco-2017-cars-New-Delhi-1006123936/', 'https://www.cars24.com/buy-used-Maruti-Wagon-R-2010-cars-New-Delhi-1005709621/', 'https://www.cars24.com/buy-used-Maruti-Swift-Dzire-2013-cars-New-Delhi-1000619322/', 'https://www.cars24.com/buy-used-Maruti-Swift-Dzire-2016-cars-New-Delhi-1001856134/', 'https://www.cars24.com/buy-used-Maruti-Alto-2011-cars-New-Delhi-1005600132/', 'https://www.cars24.com/buy-used-Maruti-Wagon-R-1.0-2010-cars-New-Delhi-1005504839/', 'https://www.cars24.com/buy-used-Hyundai-i20-2010-cars-New-Delhi-1006579327/', 'https://www.cars24.com/buy-used-Hyundai-Verna-2012-cars-New-Delhi-1001045737/', 'https://www.cars24.com/buy-used-Hyundai-Grand-i10-2014-cars-New-Delhi-1006987086/', 'https://www.cars24.com/buy-used-Maruti-Wagon-R-1.0-2013-cars-New-Delhi-1001247823/', 'https://www.cars24.com/buy-used-Renault-Kwid-2019-cars-New-Delhi-1009953835/', 'https://www.cars24.com/buy-used-Maruti-Wagon-R-1.0-2018-cars-New-Delhi-1004829021/', 'https://www.cars24.com/buy-used-Maruti-Ritz-2014-cars-New-Delhi-1008702131/', 'https://www.cars24.com/buy-used-Maruti-Dzire-2017-cars-New-Delhi-1004627820/', 'https://www.cars24.com/buy-used-Maruti-Eeco-2016-cars-New-Delhi-1006894939/', 'https://www.cars24.com/buy-used-Hyundai-i10-2011-cars-New-Delhi-1009271829/', 'https://www.cars24.com/buy-used-Ford-Figo-2012-cars-New-Delhi-1004337624/', 'https://www.cars24.com/buy-used-Maruti-Swift-2017-cars-New-Delhi-1002306838/', 'https://www.cars24.com/buy-used-Maruti-Swift-Dzire-2013-cars-New-Delhi-1007193231/', 'https://www.cars24.com/buy-used-Maruti-Wagon-R-1.0-2016-cars-New-Delhi-1003853134/', 'https://www.cars24.com/buy-used-Renault-Kwid-2016-cars-New-Delhi-1002690036/', 'https://www.cars24.com/buy-used-Maruti-Dzire-2018-cars-New-Delhi-1008033636/', 'https://www.cars24.com/buy-used-Maruti-Wagon-R-1.0-2012-cars-New-Delhi-1004069622/', 'https://www.cars24.com/buy-used-Ford-Ecosport-2013-cars-New-Delhi-1004381129/', 'https://www.cars24.com/buy-used-Maruti-Ritz-2015-cars-New-Delhi-1007938334/', 'https://www.cars24.com/buy-used-Hyundai-i20-2013-cars-New-Delhi-1000414933/', 'https://www.cars24.com/buy-used-Hyundai-Elite-i20-2014-cars-New-Delhi-1002561135/', 'https://www.cars24.com/buy-used-Maruti-Ertiga-2012-cars-New-Delhi-1006473136/', 'https://www.cars24.com/buy-used-Hyundai-Elite-i20-2015-cars-New-Delhi-1000163335/', 'https://www.cars24.com/buy-used-Maruti-Ciaz-2018-cars-New-Delhi-1005115834/', 'https://www.cars24.com/buy-used-Maruti-Swift-Dzire-2013-cars-New-Delhi-1005455538/', 'https://www.cars24.com/buy-used-Maruti-Dzire-2018-cars-New-Delhi-1007211921/', 'https://www.cars24.com/buy-used-Hyundai-i20-2011-cars-New-Delhi-1000002931/', 'https://www.cars24.com/buy-used-Hyundai-Verna-2018-cars-New-Delhi-1000521026/', 'https://www.cars24.com/buy-used-Maruti-Celerio-2018-cars-New-Delhi-1003859423/', 'https://www.cars24.com/buy-used-Maruti-Swift-Dzire-2015-cars-New-Delhi-1001875430/', 'https://www.cars24.com/buy-used-Hyundai-Grand-i10-2018-cars-New-Delhi-1002861829/', 'https://www.cars24.com/buy-used-Hyundai-i10-2013-cars-New-Delhi-1003742138/', 'https://www.cars24.com/buy-used-Maruti-Ritz-2010-cars-New-Delhi-1002061227/', 'https://www.cars24.com/buy-used-Hyundai-i10-2011-cars-New-Delhi-1003665925/', 'https://www.cars24.com/buy-used-Volkswagen-Jetta-2012-cars-New-Delhi-1002109924/', 'https://www.cars24.com/buy-used-Nissan-Sunny-2013-cars-New-Delhi-1005828835/', 'https://www.cars24.com/buy-used-Ford-Ecosport-2015-cars-New-Delhi-1006508734/', 'https://www.cars24.com/buy-used-Honda-Jazz-2015-cars-New-Delhi-1008901126/', 'https://www.cars24.com/buy-used-Maruti-Ertiga-2012-cars-New-Delhi-1001482138/', 'https://www.cars24.com/buy-used-Maruti-Swift-Dzire-2012-cars-New-Delhi-1007050032/', 'https://www.cars24.com/buy-used-Maruti-Eeco-2018-cars-New-Delhi-1004350034/', 'https://www.cars24.com/buy-used-Datsun-Redi-Go-2018-cars-New-Delhi-1001526230/', 'https://www.cars24.com/buy-used-Honda-Amaze-2019-cars-New-Delhi-1000608739/', 'https://www.cars24.com/buy-used-Maruti-Baleno-2016-cars-New-Delhi-1003364631/', 'https://www.cars24.com/buy-used-Nissan-Sunny-2012-cars-New-Delhi-1003777336/', 'https://www.cars24.com/buy-used-Honda-City-2009-cars-New-Delhi-1003015030/', 'https://www.cars24.com/buy-used-Volkswagen-Polo-2015-cars-New-Delhi-1001982681/', 'https://www.cars24.com/buy-used-Ford-Ecosport-2016-cars-New-Delhi-1004261831/', 'https://www.cars24.com/buy-used-Maruti-Wagon-R-2008-cars-New-Delhi-1003709728/', 'https://www.cars24.com/buy-used-Maruti-Wagon-R-1.0-2018-cars-New-Delhi-1000552330/', 'https://www.cars24.com/buy-used-Hyundai-NEW-SANTRO-2018-cars-New-Delhi-1000813539/', 'https://www.cars24.com/buy-used-Honda-Amaze-2016-cars-New-Delhi-1008406936/', 'https://www.cars24.com/buy-used-Maruti-Wagon-R-2010-cars-New-Delhi-1001132430/', 'https://www.cars24.com/buy-used-Skoda-Rapid-2012-cars-New-Delhi-1006379622/', 'https://www.cars24.com/buy-used-Honda-City-2010-cars-New-Delhi-1004666238/', 'https://www.cars24.com/buy-used-Maruti-Ciaz-2015-cars-New-Delhi-1000365139/', 'https://www.cars24.com/buy-used-Hyundai-Elite-i20-2014-cars-New-Delhi-1004424834/', 'https://www.cars24.com/buy-used-Hyundai-i10-2013-cars-New-Delhi-1008296735/', 'https://www.cars24.com/buy-used-Maruti-Swift-Dzire-2017-cars-New-Delhi-1004154135/', 'https://www.cars24.com/buy-used-Honda-Amaze-2017-cars-New-Delhi-1000407130/', 'https://www.cars24.com/buy-used-Hyundai-Grand-i10-2015-cars-New-Delhi-1009662533/', 'https://www.cars24.com/buy-used-Ford-Figo-2010-cars-New-Delhi-1008631327/', 'https://www.cars24.com/buy-used-Hyundai-Grand-i10-2016-cars-New-Delhi-1001164337/', 'https://www.cars24.com/buy-used-Maruti-Baleno-2016-cars-New-Delhi-1004956138/', 'https://www.cars24.com/buy-used-Chevrolet-Beat-2012-cars-New-Delhi-1006044737/', 'https://www.cars24.com/buy-used-Maruti-Eeco-2012-cars-New-Delhi-1008904334/', 'https://www.cars24.com/buy-used-Maruti-Wagon-R-1.0-2015-cars-New-Delhi-1005786038/', 'https://www.cars24.com/buy-used-Hyundai-i20-2012-cars-New-Delhi-1006935829/', 'https://www.cars24.com/buy-used-Honda-City-2009-cars-New-Delhi-1007524432/', 'https://www.cars24.com/buy-used-Hyundai-Grand-i10-2016-cars-New-Delhi-1051783335/', 'https://www.cars24.com/buy-used-Volvo-S60-2012-cars-New-Delhi-1005379026/', 'https://www.cars24.com/buy-used-Maruti-Eeco-2017-cars-New-Delhi-1007136035/', 'https://www.cars24.com/buy-used-Maruti-Wagon-R-1.0-2015-cars-New-Delhi-1000764332/', 'https://www.cars24.com/buy-used-Hyundai-Elite-i20-2015-cars-New-Delhi-1008480331/', 'https://www.cars24.com/buy-used-Hyundai-i10-2009-cars-New-Delhi-1006034432/', 'https://www.cars24.com/buy-used-Hyundai-i10-2010-cars-New-Delhi-1000576130/', 'https://www.cars24.com/buy-used-Maruti-Swift-Dzire-2014-cars-New-Delhi-1004197220/', 'https://www.cars24.com/buy-used-Hyundai-Eon-2016-cars-New-Delhi-1000456532/', 'https://www.cars24.com/buy-used-Renault-Kwid-2018-cars-New-Delhi-1007584231/', 'https://www.cars24.com/buy-used-Hyundai-Santro-Xing-2011-cars-New-Delhi-1005105127/', 'https://www.cars24.com/buy-used-Hyundai-i10-2010-cars-New-Delhi-1053397021/', 'https://www.cars24.com/buy-used-Maruti-A-Star-2012-cars-New-Delhi-1000844536/', 'https://www.cars24.com/buy-used-Hyundai-i20-2011-cars-New-Delhi-1004481427/', 'https://www.cars24.com/buy-used-Maruti-Ritz-2011-cars-New-Delhi-1002787820/', 'https://www.cars24.com/buy-used-Hyundai-i20-2013-cars-New-Delhi-1004500033/', 'https://www.cars24.com/buy-used-Tata-Nano-2011-cars-New-Delhi-1000720932/', 'https://www.cars24.com/buy-used-Hyundai-i10-2010-cars-New-Delhi-1000816935/', 'https://www.cars24.com/buy-used-Hyundai-i20-2010-cars-New-Delhi-1002660938/', 'https://www.cars24.com/buy-used-Maruti-Wagon-R-2009-cars-New-Delhi-1001613133/', 'https://www.cars24.com/buy-used-Maruti-Wagon-R-2008-cars-New-Delhi-1006153135/', 'https://www.cars24.com/buy-used-Honda-Brio-2013-cars-New-Delhi-1000241421/', 'https://www.cars24.com/buy-used-Hyundai-i10-2011-cars-New-Delhi-1008650536/', 'https://www.cars24.com/buy-used-Hyundai-Grand-i10-2016-cars-New-Delhi-1005133530/', 'https://www.cars24.com/buy-used-Maruti-Swift-Dzire-2014-cars-New-Delhi-1003104332/', 'https://www.cars24.com/buy-used-Maruti-Swift-2015-cars-New-Delhi-1002353533/', 'https://www.cars24.com/buy-used-Maruti-Alto-2009-cars-New-Delhi-1003036839/', 'https://www.cars24.com/buy-used-Hyundai-Grand-i10-2018-cars-New-Delhi-1004122433/', 'https://www.cars24.com/buy-used-Maruti-Eeco-2014-cars-New-Delhi-1001604833/', 'https://www.cars24.com/buy-used-Honda-Jazz-2015-cars-New-Delhi-1002753238/', 'https://www.cars24.com/buy-used-Mahindra-XUV500-2019-cars-New-Delhi-1005051880/', 'https://www.cars24.com/buy-used-Honda-City-2015-cars-New-Delhi-1006223135/', 'https://www.cars24.com/buy-used-Nissan-Micra-2010-cars-New-Delhi-1000377622/', 'https://www.cars24.com/buy-used-Hyundai-i10-2010-cars-New-Delhi-1005552331/', 'https://www.cars24.com/buy-used-Maruti-Swift-2007-cars-New-Delhi-1005720037/', 'https://www.cars24.com/buy-used-Maruti-Baleno-2017-cars-New-Delhi-1003720434/', 'https://www.cars24.com/buy-used-Maruti-Swift-2013-cars-New-Delhi-1009073136/', 'https://www.cars24.com/buy-used-Maruti-Swift-2015-cars-New-Delhi-1003120434/', 'https://www.cars24.com/buy-used-Maruti-Wagon-R-1.0-2016-cars-New-Delhi-1004177625/', 'https://www.cars24.com/buy-used-Honda-Civic-2009-cars-New-Delhi-1001658226/', 'https://www.cars24.com/buy-used-Volkswagen-Polo-2011-cars-New-Delhi-1005187922/', 'https://www.cars24.com/buy-used-Maruti-Wagon-R-1.0-2013-cars-New-Delhi-1001296732/', 'https://www.cars24.com/buy-used-Chevrolet-Aveo-2006-cars-New-Delhi-1126485538/', 'https://www.cars24.com/buy-used-Maruti-Swift-Dzire-2016-cars-New-Delhi-1004070336/', 'https://www.cars24.com/buy-used-Hyundai-i20-2009-cars-New-Delhi-1003507720/', 'https://www.cars24.com/buy-used-Hyundai-Verna-2013-cars-New-Delhi-1007065637/', 'https://www.cars24.com/buy-used-Maruti-Wagon-R-2008-cars-New-Delhi-1005336939/', 'https://www.cars24.com/buy-used-Honda-City-2010-cars-New-Delhi-1005175623/', 'https://www.cars24.com/buy-used-Hyundai-Verna-2014-cars-New-Delhi-1004811120/', 'https://www.cars24.com/buy-used-Honda-City-2019-cars-New-Delhi-1002393833/', 'https://www.cars24.com/buy-used-Maruti-Ciaz-2014-cars-New-Delhi-1007699423/', 'https://www.cars24.com/buy-used-Chevrolet-Spark-2010-cars-New-Delhi-1058834685/', 'https://www.cars24.com/buy-used-Tata-Tiago-2017-cars-New-Delhi-1005471831/', 'https://www.cars24.com/buy-used-Renault-Duster-2012-cars-New-Delhi-1002833134/', 'https://www.cars24.com/buy-used-Maruti-Swift-Dzire-2017-cars-New-Delhi-1125791831/', 'https://www.cars24.com/buy-used-Hyundai-i10-2009-cars-New-Delhi-1000596534/', 'https://www.cars24.com/buy-used-Maruti-OMNI-E-2016-cars-New-Delhi-1003897524/', 'https://www.cars24.com/buy-used-Renault-Kwid-2016-cars-New-Delhi-1006482239/', 'https://www.cars24.com/buy-used-Hyundai-i10-2008-cars-New-Delhi-1009653933/', 'https://www.cars24.com/buy-used-Maruti-Alto-2012-cars-New-Delhi-1001611626/', 'https://www.cars24.com/buy-used-Hyundai-Verna-2011-cars-New-Delhi-1002997828/', 'https://www.cars24.com/buy-used-Chevrolet-Beat-2015-cars-New-Delhi-1002950537/', 'https://www.cars24.com/buy-used-Renault-Kwid-2016-cars-New-Delhi-1007242530/', 'https://www.cars24.com/buy-used-Maruti-Swift-Dzire-2013-cars-New-Delhi-1001726335/', 'https://www.cars24.com/buy-used-Hyundai-Santro-Xing-2014-cars-New-Delhi-1001066839/', 'https://www.cars24.com/buy-used-Maruti-New--Wagon-R-2019-cars-New-Delhi-1002345338/', 'https://www.cars24.com/buy-used-Hyundai-i10-2009-cars-New-Delhi-1000452330/', 'https://www.cars24.com/buy-used-Hyundai-i10-2010-cars-New-Delhi-1008429823/', 'https://www.cars24.com/buy-used-Maruti-Swift-2009-cars-New-Delhi-1008125632/', 'https://www.cars24.com/buy-used-Hyundai-Elite-i20-2014-cars-New-Delhi-1004498230/', 'https://www.cars24.com/buy-used-Hyundai-i20-2010-cars-New-Delhi-1001179223/', 'https://www.cars24.com/buy-used-Honda-Amaze-2013-cars-New-Delhi-1008515827/', 'https://www.cars24.com/buy-used-Honda-Brio-2013-cars-New-Delhi-1003775423/', 'https://www.cars24.com/buy-used-Tata-Tiago-2019-cars-New-Delhi-1003138639/', 'https://www.cars24.com/buy-used-Hyundai-i10-2009-cars-New-Delhi-1004761838/', 'https://www.cars24.com/buy-used-Maruti-Wagon-R-1.0-2015-cars-New-Delhi-1004261423/', 'https://www.cars24.com/buy-used-Ford-Figo-2010-cars-New-Delhi-1005083538/', 'https://www.cars24.com/buy-used-Maruti-Eeco-2018-cars-New-Delhi-1000041633/', 'https://www.cars24.com/buy-used-Maruti-Eeco-2010-cars-New-Delhi-1006593629/', 'https://www.cars24.com/buy-used-Mahindra-XUV500-2012-cars-New-Delhi-1000851627/', 'https://www.cars24.com/buy-used-Maruti-Baleno-2019-cars-New-Delhi-1006280834/', 'https://www.cars24.com/buy-used-Mahindra-XUV500-2012-cars-New-Delhi-1008244635/', 'https://www.cars24.com/buy-used-Volvo-S60-2012-cars-New-Delhi-1000352130/', 'https://www.cars24.com/buy-used-Maruti-Wagon-R-1.0-2011-cars-New-Delhi-1006905638/', 'https://www.cars24.com/buy-used-Maruti-New--Wagon-R-2019-cars-New-Delhi-1003336338/', 'https://www.cars24.com/buy-used-Honda-City-2014-cars-New-Delhi-1004716539/', 'https://www.cars24.com/buy-used-Chevrolet-Sail-2013-cars-New-Delhi-1009155123/', 'https://www.cars24.com/buy-used-Maruti-Dzire-2018-cars-New-Delhi-1005781835/', 'https://www.cars24.com/buy-used-Skoda-Superb-2011-cars-New-Delhi-1006718826/', 'https://www.cars24.com/buy-used-Maruti-Ritz-2011-cars-New-Delhi-1001245530/', 'https://www.cars24.com/buy-used-Maruti-Wagon-R-1.0-2011-cars-New-Delhi-1009179820/', 'https://www.cars24.com/buy-used-Maruti-Alto-K10-2011-cars-New-Delhi-1009338135/', 'https://www.cars24.com/buy-used-Honda-Brio-2012-cars-New-Delhi-1005614237/', 'https://www.cars24.com/buy-used-Maruti-Eeco-2017-cars-New-Delhi-1002824436/', 'https://www.cars24.com/buy-used-Honda-Amaze-2016-cars-New-Delhi-1000891023/', 'https://www.cars24.com/buy-used-Hyundai-Elite-i20-2015-cars-New-Delhi-1005297521/', 'https://www.cars24.com/buy-used-Hyundai-i20-2010-cars-New-Delhi-1000266233/', 'https://www.cars24.com/buy-used-Maruti-Wagon-R-2005-cars-New-Delhi-1008773033/', 'https://www.cars24.com/buy-used-Hyundai-i20-2011-cars-New-Delhi-1007395437/', 'https://www.cars24.com/buy-used-Maruti-Baleno-2016-cars-New-Delhi-1000991834/', 'https://www.cars24.com/buy-used-Maruti-Wagon-R-2009-cars-New-Delhi-1004304732/', 'https://www.cars24.com/buy-used-Maruti-Vitara-Brezza-2016-cars-New-Delhi-1002164639/', 'https://www.cars24.com/buy-used-Maruti-Swift-2019-cars-New-Delhi-1006496436/', 'https://www.cars24.com/buy-used-Honda-Accord-2011-cars-New-Delhi-1006764632/', 'https://www.cars24.com/buy-used-Maruti-Vitara-Brezza-2018-cars-New-Delhi-1007134933/', 'https://www.cars24.com/buy-used-Maruti-OMNI-E-2010-cars-New-Delhi-1002612331/', 'https://www.cars24.com/buy-used-Hyundai-Santro-2002-cars-New-Delhi-1007610033/', 'https://www.cars24.com/buy-used-Maruti-Swift-2014-cars-New-Delhi-1009571133/', 'https://www.cars24.com/buy-used-Tata-Safari-2011-cars-New-Delhi-1001675232/', 'https://www.cars24.com/buy-used-Maruti-Eeco-2018-cars-New-Delhi-1001866531/', 'https://www.cars24.com/buy-used-Hyundai-Verna-2010-cars-New-Delhi-1004922836/', 'https://www.cars24.com/buy-used-Ford-Figo-2011-cars-New-Delhi-1002519022/', 'https://www.cars24.com/buy-used-Toyota-Corolla-Altis-2011-cars-New-Delhi-1001347728/', 'https://www.cars24.com/buy-used-Mahindra-Scorpio-2014-cars-New-Delhi-1003068725/', 'https://www.cars24.com/buy-used-Maruti-Eeco-2019-cars-New-Delhi-1004826737/', 'https://www.cars24.com/buy-used-Maruti-Baleno-2018-cars-New-Delhi-1003589321/', 'https://www.cars24.com/buy-used-Honda-Amaze-2014-cars-New-Delhi-1001148522/', 'https://www.cars24.com/buy-used-Maruti-Swift-2012-cars-New-Delhi-1383652533/', 'https://www.cars24.com/buy-used-Hyundai-Santro-Xing-2012-cars-New-Delhi-1007044337/', 'https://www.cars24.com/buy-used-Honda-City-2010-cars-New-Delhi-1006419229/', 'https://www.cars24.com/buy-used-Renault-Duster-2014-cars-New-Delhi-1000650234/', 'https://www.cars24.com/buy-used-Maruti-Celerio-2018-cars-New-Delhi-1007942432/', 'https://www.cars24.com/buy-used-Maruti-Swift-Dzire-2012-cars-New-Delhi-1000101935/', 'https://www.cars24.com/buy-used-Maruti-Vitara-Brezza-2017-cars-New-Delhi-1009331320/', 'https://www.cars24.com/buy-used-Hyundai-i10-2010-cars-New-Delhi-1001925939/', 'https://www.cars24.com/buy-used-Hyundai-i10-2009-cars-New-Delhi-1006429927/', 'https://www.cars24.com/buy-used-Ford-Ecosport-2016-cars-New-Delhi-1003725630/', 'https://www.cars24.com/buy-used-Mahindra-XUV500-2013-cars-New-Delhi-1004818031/', 'https://www.cars24.com/buy-used-Honda-City-2010-cars-New-Delhi-1000208320/', 'https://www.cars24.com/buy-used-Maruti-Swift-Dzire-2015-cars-New-Delhi-1004204233/', 'https://www.cars24.com/buy-used-Maruti-Zen-Estilo-2009-cars-New-Delhi-1000833634/', 'https://www.cars24.com/buy-used-Renault-Kwid-2016-cars-New-Delhi-1004452038/', 'https://www.cars24.com/buy-used-Maruti-Ritz-2010-cars-New-Delhi-1006132938/', 'https://www.cars24.com/buy-used-Maruti-Ritz-2014-cars-New-Delhi-1002926737/', 'https://www.cars24.com/buy-used-Ford-Ecosport-2016-cars-New-Delhi-1004964635/', 'https://www.cars24.com/buy-used-Maruti-Ertiga-2014-cars-New-Delhi-1005893636/', 'https://www.cars24.com/buy-used-Hyundai-Verna-2012-cars-New-Delhi-1006916432/', 'https://www.cars24.com/buy-used-Hyundai-Verna-2013-cars-New-Delhi-1000487536/', 'https://www.cars24.com/buy-used-Honda-Amaze-2018-cars-New-Delhi-1009619620/', 'https://www.cars24.com/buy-used-Maruti-Ritz-2014-cars-New-Delhi-1005182633/', 'https://www.cars24.com/buy-used-Tata-Manza-2012-cars-New-Delhi-1006451523/', 'https://www.cars24.com/buy-used-Hyundai-i10-2011-cars-New-Delhi-1007262137/', 'https://www.cars24.com/buy-used-Mahindra-XUV500-2012-cars-New-Delhi-1009470838/', 'https://www.cars24.com/buy-used-Maruti-Ritz-2012-cars-New-Delhi-1001987824/', 'https://www.cars24.com/buy-used-Hyundai-Grand-i10-2016-cars-New-Delhi-1003689825/', 'https://www.cars24.com/buy-used-Maruti-Zen-Estilo-2009-cars-New-Delhi-1006701520/', 'https://www.cars24.com/buy-used-Honda-City-2013-cars-New-Delhi-1003346736/', 'https://www.cars24.com/buy-used-Hyundai-Santro-Xing-2011-cars-New-Delhi-1001954733/', 'https://www.cars24.com/buy-used-Maruti-Eeco-2016-cars-New-Delhi-1005514430/', 'https://www.cars24.com/buy-used-Maruti-Ciaz-2015-cars-New-Delhi-1004333034/', 'https://www.cars24.com/buy-used-Hyundai-i10-2013-cars-New-Delhi-1000289729/', 'https://www.cars24.com/buy-used-Hyundai-Eon-2016-cars-New-Delhi-1008829825/', 'https://www.cars24.com/buy-used-Maruti-Ritz-2012-cars-New-Delhi-1006026536/', 'https://www.cars24.com/buy-used-Hyundai-i20-2012-cars-New-Delhi-1006733932/', 'https://www.cars24.com/buy-used-Renault-Duster-2016-cars-New-Delhi-1000857220/', 'https://www.cars24.com/buy-used-Toyota-Innova-Crysta-2018-cars-New-Delhi-1009221124/', 'https://www.cars24.com/buy-used-Hyundai-Santro-Xing-2010-cars-New-Delhi-1001897724/', 'https://www.cars24.com/buy-used-Tata-TIGOR-2018-cars-New-Delhi-1007142036/', 'https://www.cars24.com/buy-used-Hyundai-Grand-i10-2019-cars-New-Delhi-1002147520/', 'https://www.cars24.com/buy-used-Hyundai-i20-Active-2016-cars-New-Delhi-1004077124/', 'https://www.cars24.com/buy-used-Maruti-SX4-2007-cars-New-Delhi-1003693733/', 'https://www.cars24.com/buy-used-Ford-Ecosport-2016-cars-New-Delhi-1001812730/', 'https://www.cars24.com/buy-used-Mahindra-Thar-2016-cars-New-Delhi-1006563638/', 'https://www.cars24.com/buy-used-Maruti-Esteem-2006-cars-New-Delhi-1002937522/', 'https://www.cars24.com/buy-used-Maruti-Swift-2015-cars-New-Delhi-1002778037/', 'https://www.cars24.com/buy-used-Chevrolet-Beat-2012-cars-New-Delhi-1005327928/', 'https://www.cars24.com/buy-used-Maruti-Eeco-2017-cars-New-Delhi-1002724639/', 'https://www.cars24.com/buy-used-Hyundai-Santro-Xing-2012-cars-New-Delhi-1004408231/', 'https://www.cars24.com/buy-used-Honda-Jazz-2010-cars-New-Delhi-1005383734/', 'https://www.cars24.com/buy-used-Maruti-Vitara-Brezza-2017-cars-New-Delhi-1007137520/', 'https://www.cars24.com/buy-used-Maruti-Eeco-2018-cars-New-Delhi-1004256939/', 'https://www.cars24.com/buy-used-Hyundai-Grand-i10-2017-cars-New-Delhi-1003079123/', 'https://www.cars24.com/buy-used-Tata-Indica-V2-Xeta-2006-cars-New-Delhi-1005393131/', 'https://www.cars24.com/buy-used-Maruti-SX4-2010-cars-New-Delhi-1000603131/', 'https://www.cars24.com/buy-used-Hyundai-i10-2011-cars-New-Delhi-1003436236/', 'https://www.cars24.com/buy-used-Hyundai-i10-2011-cars-New-Delhi-1009069026/', 'https://www.cars24.com/buy-used-Maruti-Ciaz-2017-cars-New-Delhi-1005808134/', 'https://www.cars24.com/buy-used-Tata-Manza-2011-cars-New-Delhi-1009487623/', 'https://www.cars24.com/buy-used-Chevrolet-Beat-2014-cars-New-Delhi-1001941821/', 'https://www.cars24.com/buy-used-Maruti-Wagon-R-1.0-2017-cars-New-Delhi-1007475827/', 'https://www.cars24.com/buy-used-Hyundai-i10-2015-cars-New-Delhi-1002090439/', 'https://www.cars24.com/buy-used-Honda-Civic-2007-cars-New-Delhi-1001261022/', 'https://www.cars24.com/buy-used-Maruti-Swift-Dzire-2011-cars-New-Delhi-1001078722/', 'https://www.cars24.com/buy-used-Chevrolet-Beat-2012-cars-New-Delhi-1001860139/', 'https://www.cars24.com/buy-used-Chevrolet-Optra-2006-cars-New-Delhi-1005860836/', 'https://www.cars24.com/buy-used-Mercedes-Benz-E-Class-2008-cars-New-Delhi-1001900232/', 'https://www.cars24.com/buy-used-Maruti-Swift-2012-cars-New-Delhi-1003987927/', 'https://www.cars24.com/buy-used-Maruti-IGNIS-2017-cars-New-Delhi-1008601436/', 'https://www.cars24.com/buy-used-Tata-Manza-2011-cars-New-Delhi-1000690434/', 'https://www.cars24.com/buy-used-Hyundai-Elite-i20-2015-cars-New-Delhi-1002911529/', 'https://www.cars24.com/buy-used-Ford-Figo-2012-cars-New-Delhi-1008588238/', 'https://www.cars24.com/buy-used-Honda-Amaze-2018-cars-New-Delhi-1003019620/', 'https://www.cars24.com/buy-used-Maruti-Baleno-2019-cars-New-Delhi-1000770232/', 'https://www.cars24.com/buy-used-Maruti-SX4-2010-cars-New-Delhi-1003270534/', 'https://www.cars24.com/buy-used-Maruti-Wagon-R-2008-cars-New-Delhi-1009475329/', 'https://www.cars24.com/buy-used-Hyundai-Elite-i20-2018-cars-New-Delhi-1000460639/', 'https://www.cars24.com/buy-used-Hyundai-i10-2009-cars-New-Delhi-1006162739/', 'https://www.cars24.com/buy-used-Honda-City-2011-cars-New-Delhi-1007038933/', 'https://www.cars24.com/buy-used-Hyundai-Grand-i10-2017-cars-New-Delhi-1005709930/', 'https://www.cars24.com/buy-used-Mahindra-XUV500-2012-cars-New-Delhi-1008247225/', 'https://www.cars24.com/buy-used-Hyundai-i10-2008-cars-New-Delhi-1008411823/', 'https://www.cars24.com/buy-used-Tata-Indigo-ECS-2011-cars-New-Delhi-1008653531/', 'https://www.cars24.com/buy-used-Ford-Ecosport-2017-cars-New-Delhi-1006680536/', 'https://www.cars24.com/buy-used-Toyota-Corolla-Altis-2008-cars-New-Delhi-1007779528/', 'https://www.cars24.com/buy-used-Ford-Figo-2013-cars-New-Delhi-1008435022/', 'https://www.cars24.com/buy-used-Tata-Safari-2011-cars-New-Delhi-1009314339/', 'https://www.cars24.com/buy-used-Maruti-Vitara-Brezza-2018-cars-New-Delhi-1009836532/', 'https://www.cars24.com/buy-used-Maruti-Swift-2013-cars-New-Delhi-1003473030/', 'https://www.cars24.com/buy-used-Tata-Nano-2015-cars-New-Delhi-1001790930/', 'https://www.cars24.com/buy-used-Nissan-Micra-2011-cars-New-Delhi-1003698727/', 'https://www.cars24.com/buy-used-Honda-Amaze-2019-cars-New-Delhi-1009894838/', 'https://www.cars24.com/buy-used-Maruti-Wagon-R-1.0-2017-cars-New-Delhi-1006560835/', 'https://www.cars24.com/buy-used-Maruti-Ertiga-2014-cars-New-Delhi-1009856233/', 'https://www.cars24.com/buy-used-Maruti-Eeco-2012-cars-New-Delhi-1000437125/', 'https://www.cars24.com/buy-used-Maruti-Baleno-2017-cars-New-Delhi-1002045521/', 'https://www.cars24.com/buy-used-Renault-Kwid-2016-cars-New-Delhi-1009096435/', 'https://www.cars24.com/buy-used-Maruti-Vitara-Brezza-2018-cars-New-Delhi-1000823032/', 'https://www.cars24.com/buy-used-Hyundai-Elite-i20-2015-cars-New-Delhi-1003071636/', 'https://www.cars24.com/buy-used-Maruti-Eeco-2016-cars-New-Delhi-1005695137/', 'https://www.cars24.com/buy-used-Maruti-S-Cross-2015-cars-New-Delhi-1007476535/', 'https://www.cars24.com/buy-used-Hyundai-Grand-i10-2015-cars-New-Delhi-1006076034/', 'https://www.cars24.com/buy-used-Hyundai-i20-2010-cars-New-Delhi-1007697122/', 'https://www.cars24.com/buy-used-Tata-NEXON-2019-cars-New-Delhi-1007502630/', 'https://www.cars24.com/buy-used-Ford-Figo-2012-cars-New-Delhi-1003334035/', 'https://www.cars24.com/buy-used-Honda-Amaze-2019-cars-New-Delhi-1005435027/', 'https://www.cars24.com/buy-used-Honda-Amaze-2015-cars-New-Delhi-1009036239/', 'https://www.cars24.com/buy-used-Hyundai-i20-2011-cars-New-Delhi-1005270138/', 'https://www.cars24.com/buy-used-Maruti-Swift-2012-cars-New-Delhi-1003728925/', 'https://www.cars24.com/buy-used-Renault-Kwid-2016-cars-New-Delhi-1004491230/', 'https://www.cars24.com/buy-used-Maruti-Wagon-R-2005-cars-New-Delhi-1005100837/', 'https://www.cars24.com/buy-used-Maruti-Eeco-2020-cars-New-Delhi-1004457533/', 'https://www.cars24.com/buy-used-Hyundai-Grand-i10-2017-cars-New-Delhi-1008797125/', 'https://www.cars24.com/buy-used-Chevrolet-Beat-2012-cars-New-Delhi-1006996732/', 'https://www.cars24.com/buy-used-Hyundai-Elite-i20-2015-cars-New-Delhi-1005325337/', 'https://www.cars24.com/buy-used-Maruti-Ritz-2009-cars-New-Delhi-1002248134/', 'https://www.cars24.com/buy-used-Maruti-Swift-2010-cars-New-Delhi-1005937425/', 'https://www.cars24.com/buy-used-Maruti-Alto-K10-2015-cars-New-Delhi-1002658437/', 'https://www.cars24.com/buy-used-Hyundai-i10-2010-cars-New-Delhi-1000020639/', 'https://www.cars24.com/buy-used-Hyundai-Grand-i10-2016-cars-New-Delhi-1005359528/', 'https://www.cars24.com/buy-used-Maruti-Ritz-2011-cars-New-Delhi-1001985330/', 'https://www.cars24.com/buy-used-Hyundai-Elite-i20-2019-cars-New-Delhi-1009199925/', 'https://www.cars24.com/buy-used-Hyundai-Grand-i10-2015-cars-New-Delhi-1005638520/', 'https://www.cars24.com/buy-used-Honda-City-2009-cars-New-Delhi-1001252239/', 'https://www.cars24.com/buy-used-Nissan-Terrano-2014-cars-New-Delhi-1001194532/', 'https://www.cars24.com/buy-used-Datsun-Redi-Go-2016-cars-New-Delhi-1002901624/', 'https://www.cars24.com/buy-used-Honda-WR-V-2019-cars-New-Delhi-1002618737/', 'https://www.cars24.com/buy-used-Chevrolet-Beat-2014-cars-New-Delhi-1001139423/', 'https://www.cars24.com/buy-used-Maruti-Wagon-R-2006-cars-New-Delhi-1009791629/', 'https://www.cars24.com/buy-used-Hyundai-i10-2010-cars-New-Delhi-1007633034/', 'https://www.cars24.com/buy-used-Honda-City-2008-cars-New-Delhi-1008049221/', 'https://www.cars24.com/buy-used-Maruti-Swift-Dzire-2014-cars-New-Delhi-1009212535/', 'https://www.cars24.com/buy-used-Chevrolet-Beat-2012-cars-New-Delhi-1006153436/', 'https://www.cars24.com/buy-used-Maruti-Eeco-2015-cars-New-Delhi-1000194736/', 'https://www.cars24.com/buy-used-Audi-A6-2013-cars-New-Delhi-1000114139/', 'https://www.cars24.com/buy-used-Hyundai-Eon-2014-cars-New-Delhi-1006557322/', 'https://www.cars24.com/buy-used-Honda-Amaze-2019-cars-New-Delhi-1008713437/', 'https://www.cars24.com/buy-used-Hyundai-Elite-i20-2020-cars-New-Delhi-1003471325/', 'https://www.cars24.com/buy-used-Chevrolet-Beat-2011-cars-New-Delhi-1006800335/', 'https://www.cars24.com/buy-used-Hyundai-i20-2011-cars-New-Delhi-1002638637/', 'https://www.cars24.com/buy-used-Mahindra-XUV500-2012-cars-New-Delhi-1005568430/', 'https://www.cars24.com/buy-used-Jeep-Compass-2019-cars-New-Delhi-1007783724/', 'https://www.cars24.com/buy-used-Maruti-Swift-2013-cars-New-Delhi-1008968831/', 'https://www.cars24.com/buy-used-Hyundai-i10-2008-cars-New-Delhi-1005063036/']\n"
     ]
    }
   ],
   "source": [
    "\n",
    "headers = {\n",
    "    'authority': 'api-sell24.cars24.team',\n",
    "    'accept': 'application/json, text/plain, */*',\n",
    "    'user-agent': 'Mozilla/5.0 (Windows NT 10.0; Win64; x64) AppleWebKit/537.36 (KHTML, like Gecko) Chrome/88.0.4324.146 Safari/537.36',\n",
    "    'pincode': '110001',\n",
    "    'origin': 'https://www.cars24.com',\n",
    "    'sec-fetch-site': 'cross-site',\n",
    "    'sec-fetch-mode': 'cors',\n",
    "    'sec-fetch-dest': 'empty',\n",
    "    'referer': 'https://www.cars24.com/',\n",
    "    'accept-language': 'en-US,en;q=0.9',\n",
    "}\n",
    "\n",
    "params = (\n",
    "    ('sort', 'P'),\n",
    "    ('serveWarrantyCount', 'false'),\n",
    "    ('gaId', '332617789.1611807407'),\n",
    "    ('page', '3'),\n",
    "    ('storeCityId', '2'),\n",
    ")\n",
    "\n",
    "response = requests.get('https://api-sell24.cars24.team/buy-used-car', headers=headers, params=params)\n",
    "\n",
    "totalPages = response.json()['data']['totalPages'] \n",
    "# print(totalPages)\n",
    "\n",
    "link_list = []\n",
    "\n",
    "for i in range(totalPages):\n",
    "    url = 'https://www.cars24.com/buy-used-car/?sort=P&page=' + str(i+1) + '&storeCityId=2'\n",
    "# url = 'https://www.cars24.com/buy-used-car/?sort=P&page=4&storeCityId=2'\n",
    "# Step 1 : Get the HTML\n",
    "    r = requests.get(url)\n",
    "    htmlContent = r.content\n",
    "# print(htmlContent)\n",
    "\n",
    "\n",
    "# Step 2 : Parse the html\n",
    "    soup = BeautifulSoup(htmlContent,\"html.parser\")\n",
    "\n",
    "    for link in soup.find_all('a', href=True, class_ = '_20d39'):\n",
    "        link_list.append(link['href'])\n",
    "\n",
    "\n",
    "print(link_list)\n",
    "\n",
    "# print(soup.message)\n",
    "# Step 3 : HTML tree traversal\n",
    "# exit()\n",
    "\n",
    "# title = soup.title\n",
    "\n",
    "# commonly used types of objects:\n",
    "\n",
    "# print(type(title))        # 1. Tag\n",
    "# print(type(title.string)) # 2. NavigableString\n",
    "# print(type(soup))         # 3. BeautifulSoup\n",
    "# 4. Comment\n",
    "\n",
    "# Get all the paragraphs from the page\n",
    "paras = soup.find_all('p')\n",
    "# print(paras)\n",
    "\n",
    "# Get all the anchor tags from the page\n",
    "anchors = soup.find_all('a')\n",
    "# print(anchors)\n",
    "\n",
    "#get all the links on the page\n",
    "all_links = set()\n",
    "for link in anchors:\n",
    "    if (link != '#'):\n",
    "        all_links.add(link.get('href'))\n",
    "# print(all_links)\n",
    "# Get first element in the HTML page\n",
    "# print(soup.find('p'))\n",
    "\n",
    "# Get classes of any element in the HTML page\n",
    "# print(soup.find('p')['class'])\n",
    "\n",
    "#find all the elements with class \n",
    "# print(soup.find_all('p',class_ = \"_1OR7d\"))\n",
    "\n",
    "# get all the text  from tags/soup\n",
    "# print(soup.find('p').get_text())\n",
    "\n",
    "#get the id\n",
    "# navid  = soup.find_all('a',class_ ='_20d39')\n",
    "# print(navid.get())\n",
    "\n",
    "# for link in soup.find_all('a', href=True, class_ = '_20d39'):\n",
    "#     print(link['href'])\n",
    "\n",
    "for link in soup.find_all('a', class_ = \"\"):\n",
    "    \n",
    "    if(link.get_text()==\"Next\"):\n",
    "        url = 'https://www.cars24.com/buy-used-cars-new-delhi/' + link['href']\n",
    "# Step 1 : Get the HTML\n",
    "        r = requests.get(url)\n",
    "        htmlContent = r.content\n",
    "# print(htmlContent)\n",
    "\n",
    "# Step 2 : Parse the html\n",
    "        sp = BeautifulSoup(htmlContent,'html.parser')\n",
    "    # if (link == '#'):\n",
    "    #     print('hello')\n",
    "        # for link in soup.find_all('a', href=True, class_ = '_20d39'):\n",
    "        #     print(link['href'])"
   ]
  },
  {
   "cell_type": "code",
   "execution_count": 3,
   "metadata": {
    "ExecuteTime": {
     "end_time": "2021-02-19T16:33:11.523643Z",
     "start_time": "2021-02-19T16:33:11.514450Z"
    }
   },
   "outputs": [],
   "source": [
    "# # tss = a.find_all('a',attrs={'href':True})['href']\n",
    "# tss = a.find_all('a',attrs={'href':True})\n",
    "# href_list = [item['href'] for item in tss]\n",
    "# car_url_list = [item for item in href_list if str(item).__contains__('Bengaluru')]"
   ]
  },
  {
   "cell_type": "code",
   "execution_count": 4,
   "metadata": {
    "ExecuteTime": {
     "end_time": "2021-02-20T18:01:38.581994Z",
     "start_time": "2021-02-20T17:41:38.476253Z"
    }
   },
   "outputs": [],
   "source": [
    "# km = []\n",
    "# car_model = []\n",
    "# year = []\n",
    "# owner_type = []\n",
    "# fuel_type = []\n",
    "# transmission_type = []\n",
    "# RTO = []\n",
    "# insurance_type = []\n",
    "# insurance_date = []\n",
    "# price = []\n",
    "# n = 0\n",
    "# for i in range(0,10):#len(link_list)):#len(car_url_list)):\n",
    "#     page = requests.get(link_list[i])\n",
    "#     soup = BeautifulSoup(page.text, 'html.parser')\n",
    "#     c1 = soup.find_all('div',{'class':'col-3'})\n",
    "#     if not c1:\n",
    "#         n = n + 1\n",
    "#         continue\n",
    "#     car_model_ = soup.find_all('div',{'class':'col-4'})[0]\n",
    "#     car_model_= car_model_.find('p').getText()#[5:17]\n",
    "#     car_model.append(car_model_)\n",
    "#     km_ = soup.find_all('div',{'class':'col-3'})[0]\n",
    "#     km_ = km_.find('p').getText()\n",
    "#     km.append(km_)\n",
    "#     year_ = soup.find_all('div',{'class':'col-3'})[1]\n",
    "#     year_ = year_.find('p').getText()\n",
    "#     year.append(year_)\n",
    "#     owner_type_ = soup.find_all('div',{'class':'col-3'})[2]\n",
    "#     owner_type_ = owner_type_.find('p').getText()\n",
    "#     owner_type.append(owner_type_)\n",
    "#     fuel_type_ = soup.find_all('div',{'class':'col-3'})[3]\n",
    "#     fuel_type_ = fuel_type_.find('p').getText()\n",
    "#     fuel_type.append(fuel_type_)\n",
    "#     transmission_type_ = soup.find_all('div',{'class':'col-3'})[4]\n",
    "#     transmission_type_ = transmission_type_.find('p').getText()\n",
    "#     transmission_type.append(transmission_type_)\n",
    "#     RTO_ = soup.find_all('div',{'class':'col-3'})[5]\n",
    "#     RTO_ = RTO_.find('p').getText()\n",
    "#     RTO.append(RTO_)\n",
    "#     insurance_date_ = soup.find_all('div',{'class':'col-3'})[6]\n",
    "#     insurance_date_ = insurance_date_.find('p').getText()\n",
    "#     insurance_date.append(insurance_date_)\n",
    "#     insurance_type_ = soup.find_all('div',{'class':'col-3'})[7]\n",
    "#     insurance_type_ = insurance_type_.find('p').getText()\n",
    "#     insurance_type.append(insurance_type_)\n",
    "#     price_ = soup.find_all('div',{'class':'col-4'})[0]\n",
    "#     price_ = price_.find('h4').getText()\n",
    "#     price.append(price_)\n",
    "    "
   ]
  },
  {
   "cell_type": "code",
   "execution_count": 5,
   "metadata": {
    "ExecuteTime": {
     "end_time": "2021-02-20T18:01:38.621336Z",
     "start_time": "2021-02-20T18:01:38.584595Z"
    }
   },
   "outputs": [],
   "source": [
    "# df = pd.DataFrame(list(zip(km, car_model,year,owner_type,insurance_date,insurance_type,RTO,fuel_type,transmission_type,price)), \n",
    "#     columns =['Kilometers', 'cars_model','Year','Owner_Type','Insurance_Date','Insurance_Type','RTO','Fuel_Type','Transmission_Type','Price']) \n",
    "# df"
   ]
  },
  {
   "cell_type": "code",
   "execution_count": 9,
   "metadata": {},
   "outputs": [],
   "source": [
    "def fill_data(ca,c1):\n",
    "    if ca == \"Kilometers\":\n",
    "        km_ = c1.find('p').getText()\n",
    "        km.append(km_) \n",
    "    elif ca == \"Year of Purchase\":\n",
    "        year_ = c1.find('p').getText()\n",
    "        year.append(year_)\n",
    "    elif ca == 'Owner':\n",
    "        owner_type_ = c1.find('p').getText()\n",
    "        owner_type.append(owner_type_)\n",
    "    elif ca == 'Fuel':\n",
    "        fuel_type_ = c1.find('p').getText()\n",
    "        fuel_type.append(fuel_type_)\n",
    "    elif ca == 'Transmission':\n",
    "        transmission_type_ = c1.find('p').getText()\n",
    "        transmission_type.append(transmission_type_)\n",
    "    elif ca == 'RTO':\n",
    "        RTO_ = c1.find('p').getText()\n",
    "        RTO.append(RTO_)\n",
    "    elif ca == 'Insurance Type':\n",
    "        insurance_type_ = c1.find('p').getText()\n",
    "        insurance_type.append(insurance_type_)\n",
    "    elif ca == 'Insurance':\n",
    "        insurance_date_ = c1.find('p').getText()\n",
    "        insurance_date.append(insurance_date_)    \n",
    "        "
   ]
  },
  {
   "cell_type": "code",
   "execution_count": 10,
   "metadata": {},
   "outputs": [],
   "source": [
    "def len_list(a):\n",
    "    if len(km)!=a:\n",
    "        km.append('NA')\n",
    "    elif len(year)!=a:\n",
    "        year.append('NA')\n",
    "    elif len(owner_type)!=a:\n",
    "        owner_type.append('NA')\n",
    "    elif len(fuel_type)!=a:\n",
    "        fuel_type.append('NA')\n",
    "    elif len(insurance_type)!=a:\n",
    "        insurance_type.append('NA')\n",
    "    elif len(insurance_date)!=a:\n",
    "        insurance_date.append('NA')\n",
    "    elif len(transmission_type)!=a:\n",
    "        transmission_type.append('NA')"
   ]
  },
  {
   "cell_type": "code",
   "execution_count": 11,
   "metadata": {},
   "outputs": [],
   "source": [
    "km = []\n",
    "car_model = []\n",
    "year = []\n",
    "owner_type = []\n",
    "fuel_type = []\n",
    "transmission_type = []\n",
    "RTO = []\n",
    "insurance_type = []\n",
    "insurance_date = []\n",
    "price = []\n",
    "n = 0\n",
    "for i in range(len(link_list)):\n",
    "    page = requests.get(link_list[i])\n",
    "    soup = BeautifulSoup(page.text, 'html.parser')\n",
    "    c1 = soup.find_all('div',{'class':'col-3'})\n",
    "    if not c1:\n",
    "        n = n + 1\n",
    "        continue\n",
    "    car_model_ = soup.find_all('div',{'class':'col-4'})[0]\n",
    "    car_model_= car_model_.find('p').getText()#[5:17]\n",
    "    car_model.append(car_model_)\n",
    "    price_ = soup.find_all('div',{'class':'col-4'})[0]\n",
    "    price_ = price_.find('h4').getText()\n",
    "    price.append(price_)\n",
    "    \n",
    "    c0=soup.find_all('div',{'class':'col-3'})[0]\n",
    "    l0=c0.find('label').getText()\n",
    "    fill_data(l0,c0)\n",
    "    \n",
    "    c1=soup.find_all('div',{'class':'col-3'})[1]\n",
    "    l1=c1.find('label').getText()\n",
    "    fill_data(l1,c1)\n",
    "    \n",
    "    c2=soup.find_all('div',{'class':'col-3'})[2]\n",
    "    l2=c2.find('label').getText()\n",
    "    fill_data(l2,c2)\n",
    "    \n",
    "    c3=soup.find_all('div',{'class':'col-3'})[3]\n",
    "    l3=c3.find('label').getText()\n",
    "    fill_data(l3,c3)\n",
    "    \n",
    "    c4=soup.find_all('div',{'class':'col-3'})[4]\n",
    "    l4=c4.find('label')\n",
    "    if l4==None:\n",
    "        continue\n",
    "    else:\n",
    "        l4=l4.getText()\n",
    "    fill_data(l4,c4)\n",
    "    \n",
    "    c5=soup.find_all('div',{'class':'col-3'})[5]\n",
    "    l5=c5.find('label')\n",
    "    if l5==None:\n",
    "        continue\n",
    "    else:\n",
    "        l5=l5.getText()\n",
    "    fill_data(l5,c5)\n",
    "    \n",
    "    c6=soup.find_all('div',{'class':'col-3'})[6]\n",
    "    l6=c6.find('label')\n",
    "    if l6==None:\n",
    "        continue\n",
    "    else:\n",
    "        l6=l6.getText()\n",
    "    fill_data(l6,c6)\n",
    "    \n",
    "    c7=soup.find_all('div',{'class':'col-3'})[7]\n",
    "    l7=c7.find('label')\n",
    "    if l7==None:\n",
    "        continue\n",
    "    else:\n",
    "        l7=l7.getText()\n",
    "    fill_data(l7,c7)\n",
    "    \n",
    "    len_list(i+1)"
   ]
  },
  {
   "cell_type": "code",
   "execution_count": 12,
   "metadata": {},
   "outputs": [
    {
     "data": {
      "text/html": [
       "<div>\n",
       "<style scoped>\n",
       "    .dataframe tbody tr th:only-of-type {\n",
       "        vertical-align: middle;\n",
       "    }\n",
       "\n",
       "    .dataframe tbody tr th {\n",
       "        vertical-align: top;\n",
       "    }\n",
       "\n",
       "    .dataframe thead th {\n",
       "        text-align: right;\n",
       "    }\n",
       "</style>\n",
       "<table border=\"1\" class=\"dataframe\">\n",
       "  <thead>\n",
       "    <tr style=\"text-align: right;\">\n",
       "      <th></th>\n",
       "      <th>Kilometers</th>\n",
       "      <th>cars_model</th>\n",
       "      <th>Year</th>\n",
       "      <th>Owner_Type</th>\n",
       "      <th>Insurance_Date</th>\n",
       "      <th>Insurance_Type</th>\n",
       "      <th>RTO</th>\n",
       "      <th>Fuel_Type</th>\n",
       "      <th>Transmission_Type</th>\n",
       "      <th>Price</th>\n",
       "    </tr>\n",
       "  </thead>\n",
       "  <tbody>\n",
       "    <tr>\n",
       "      <th>0</th>\n",
       "      <td>50,007 km</td>\n",
       "      <td>2014 Tata Nano XT TWIST</td>\n",
       "      <td>December 2014</td>\n",
       "      <td>First Owner</td>\n",
       "      <td>22/2/2021</td>\n",
       "      <td>Comp</td>\n",
       "      <td>DL11</td>\n",
       "      <td>Petrol</td>\n",
       "      <td>MANUAL</td>\n",
       "      <td>₹ 114,899</td>\n",
       "    </tr>\n",
       "    <tr>\n",
       "      <th>1</th>\n",
       "      <td>19,577 km</td>\n",
       "      <td>2016 Maruti Celerio ZXI OPT AMT</td>\n",
       "      <td>April 2016</td>\n",
       "      <td>First Owner</td>\n",
       "      <td>10/5/2021</td>\n",
       "      <td>Zero_Dep</td>\n",
       "      <td>DL6C</td>\n",
       "      <td>Petrol</td>\n",
       "      <td>AUTOMATIC</td>\n",
       "      <td>₹ 368,499</td>\n",
       "    </tr>\n",
       "    <tr>\n",
       "      <th>2</th>\n",
       "      <td>57,650 km</td>\n",
       "      <td>2011 Maruti Wagon R 1.0 LXI CNG</td>\n",
       "      <td>May 2011</td>\n",
       "      <td>Second Owner</td>\n",
       "      <td>20/9/2021</td>\n",
       "      <td>Third_party</td>\n",
       "      <td>DL8C</td>\n",
       "      <td>Petrol + CNG</td>\n",
       "      <td>MANUAL</td>\n",
       "      <td>₹ 196,199</td>\n",
       "    </tr>\n",
       "    <tr>\n",
       "      <th>3</th>\n",
       "      <td>47,447 km</td>\n",
       "      <td>2010 Hyundai Santro Xing GLS</td>\n",
       "      <td>March 2010</td>\n",
       "      <td>First Owner</td>\n",
       "      <td>27/3/2021</td>\n",
       "      <td>Comp</td>\n",
       "      <td>DL3C</td>\n",
       "      <td>Petrol + CNG</td>\n",
       "      <td>MANUAL</td>\n",
       "      <td>₹ 156,460</td>\n",
       "    </tr>\n",
       "    <tr>\n",
       "      <th>4</th>\n",
       "      <td>13,337 km</td>\n",
       "      <td>2016 Maruti Alto K10 LXI</td>\n",
       "      <td>May 2016</td>\n",
       "      <td>First Owner</td>\n",
       "      <td>2/11/2021</td>\n",
       "      <td>Expired</td>\n",
       "      <td>DL6C</td>\n",
       "      <td>Petrol</td>\n",
       "      <td>MANUAL</td>\n",
       "      <td>₹ 293,447</td>\n",
       "    </tr>\n",
       "    <tr>\n",
       "      <th>...</th>\n",
       "      <td>...</td>\n",
       "      <td>...</td>\n",
       "      <td>...</td>\n",
       "      <td>...</td>\n",
       "      <td>...</td>\n",
       "      <td>...</td>\n",
       "      <td>...</td>\n",
       "      <td>...</td>\n",
       "      <td>...</td>\n",
       "      <td>...</td>\n",
       "    </tr>\n",
       "    <tr>\n",
       "      <th>2373</th>\n",
       "      <td>4,640 km</td>\n",
       "      <td>2011 Hyundai i20 ASTA 1.2</td>\n",
       "      <td>April 2015</td>\n",
       "      <td>First Owner</td>\n",
       "      <td>28/5/2021</td>\n",
       "      <td>Comprehensive</td>\n",
       "      <td>DL2C</td>\n",
       "      <td>NA</td>\n",
       "      <td>MANUAL</td>\n",
       "      <td>₹ 200,000</td>\n",
       "    </tr>\n",
       "    <tr>\n",
       "      <th>2374</th>\n",
       "      <td>56,245 km</td>\n",
       "      <td>2012 Mahindra XUV500 W8 FWD</td>\n",
       "      <td>April 2010</td>\n",
       "      <td>Second Owner</td>\n",
       "      <td>12/5/2021</td>\n",
       "      <td>Zero_Dep</td>\n",
       "      <td>DL1C</td>\n",
       "      <td>Petrol</td>\n",
       "      <td>MANUAL</td>\n",
       "      <td>₹ 415,000</td>\n",
       "    </tr>\n",
       "    <tr>\n",
       "      <th>2375</th>\n",
       "      <td>43,850 km</td>\n",
       "      <td>2019 Jeep Compass 1.4 LIMITED PLUS AT</td>\n",
       "      <td>April 2016</td>\n",
       "      <td>First Owner</td>\n",
       "      <td>1/11/2021</td>\n",
       "      <td>Zero Depreciation</td>\n",
       "      <td>DL10</td>\n",
       "      <td>Diesel</td>\n",
       "      <td>MANUAL</td>\n",
       "      <td>₹ 1,850,000</td>\n",
       "    </tr>\n",
       "    <tr>\n",
       "      <th>2376</th>\n",
       "      <td>83,470 km</td>\n",
       "      <td>2013 Maruti Swift VDI</td>\n",
       "      <td>September 2011</td>\n",
       "      <td>First Owner</td>\n",
       "      <td>27/1/2021</td>\n",
       "      <td>NA</td>\n",
       "      <td>DL2C</td>\n",
       "      <td>NA</td>\n",
       "      <td>MANUAL</td>\n",
       "      <td>₹ 280,000</td>\n",
       "    </tr>\n",
       "    <tr>\n",
       "      <th>2377</th>\n",
       "      <td>16,640 km</td>\n",
       "      <td>2008 Hyundai i10 MAGNA 1.1 IRDE2</td>\n",
       "      <td>April 2019</td>\n",
       "      <td>First Owner</td>\n",
       "      <td>19/1/2021</td>\n",
       "      <td>3rd Party</td>\n",
       "      <td>DL4C</td>\n",
       "      <td>Petrol</td>\n",
       "      <td>MANUAL</td>\n",
       "      <td>₹ 131,495</td>\n",
       "    </tr>\n",
       "  </tbody>\n",
       "</table>\n",
       "<p>2378 rows × 10 columns</p>\n",
       "</div>"
      ],
      "text/plain": [
       "     Kilometers                             cars_model            Year  \\\n",
       "0     50,007 km                2014 Tata Nano XT TWIST   December 2014   \n",
       "1     19,577 km        2016 Maruti Celerio ZXI OPT AMT      April 2016   \n",
       "2     57,650 km        2011 Maruti Wagon R 1.0 LXI CNG        May 2011   \n",
       "3     47,447 km           2010 Hyundai Santro Xing GLS      March 2010   \n",
       "4     13,337 km               2016 Maruti Alto K10 LXI        May 2016   \n",
       "...         ...                                    ...             ...   \n",
       "2373   4,640 km              2011 Hyundai i20 ASTA 1.2      April 2015   \n",
       "2374  56,245 km            2012 Mahindra XUV500 W8 FWD      April 2010   \n",
       "2375  43,850 km  2019 Jeep Compass 1.4 LIMITED PLUS AT      April 2016   \n",
       "2376  83,470 km                  2013 Maruti Swift VDI  September 2011   \n",
       "2377  16,640 km       2008 Hyundai i10 MAGNA 1.1 IRDE2      April 2019   \n",
       "\n",
       "        Owner_Type Insurance_Date     Insurance_Type   RTO     Fuel_Type  \\\n",
       "0      First Owner      22/2/2021               Comp  DL11        Petrol   \n",
       "1      First Owner      10/5/2021           Zero_Dep  DL6C        Petrol   \n",
       "2     Second Owner      20/9/2021        Third_party  DL8C  Petrol + CNG   \n",
       "3      First Owner      27/3/2021               Comp  DL3C  Petrol + CNG   \n",
       "4      First Owner      2/11/2021            Expired  DL6C        Petrol   \n",
       "...            ...            ...                ...   ...           ...   \n",
       "2373   First Owner      28/5/2021      Comprehensive  DL2C            NA   \n",
       "2374  Second Owner      12/5/2021           Zero_Dep  DL1C        Petrol   \n",
       "2375   First Owner      1/11/2021  Zero Depreciation  DL10        Diesel   \n",
       "2376   First Owner      27/1/2021                 NA  DL2C            NA   \n",
       "2377   First Owner      19/1/2021          3rd Party  DL4C        Petrol   \n",
       "\n",
       "     Transmission_Type        Price  \n",
       "0               MANUAL    ₹ 114,899  \n",
       "1            AUTOMATIC    ₹ 368,499  \n",
       "2               MANUAL    ₹ 196,199  \n",
       "3               MANUAL    ₹ 156,460  \n",
       "4               MANUAL    ₹ 293,447  \n",
       "...                ...          ...  \n",
       "2373            MANUAL    ₹ 200,000  \n",
       "2374            MANUAL    ₹ 415,000  \n",
       "2375            MANUAL  ₹ 1,850,000  \n",
       "2376            MANUAL    ₹ 280,000  \n",
       "2377            MANUAL    ₹ 131,495  \n",
       "\n",
       "[2378 rows x 10 columns]"
      ]
     },
     "execution_count": 12,
     "metadata": {},
     "output_type": "execute_result"
    }
   ],
   "source": [
    "df1 = pd.DataFrame(list(zip(km, car_model,year,owner_type,insurance_date,insurance_type,RTO,fuel_type,transmission_type,price)), \n",
    "    columns =['Kilometers', 'cars_model','Year','Owner_Type','Insurance_Date','Insurance_Type','RTO','Fuel_Type','Transmission_Type','Price']) \n",
    "df1"
   ]
  },
  {
   "cell_type": "code",
   "execution_count": 13,
   "metadata": {},
   "outputs": [
    {
     "data": {
      "text/html": [
       "<div>\n",
       "<style scoped>\n",
       "    .dataframe tbody tr th:only-of-type {\n",
       "        vertical-align: middle;\n",
       "    }\n",
       "\n",
       "    .dataframe tbody tr th {\n",
       "        vertical-align: top;\n",
       "    }\n",
       "\n",
       "    .dataframe thead th {\n",
       "        text-align: right;\n",
       "    }\n",
       "</style>\n",
       "<table border=\"1\" class=\"dataframe\">\n",
       "  <thead>\n",
       "    <tr style=\"text-align: right;\">\n",
       "      <th></th>\n",
       "      <th>Kilometers</th>\n",
       "      <th>cars_model</th>\n",
       "      <th>Year</th>\n",
       "      <th>Owner_Type</th>\n",
       "      <th>Insurance_Date</th>\n",
       "      <th>Insurance_Type</th>\n",
       "      <th>RTO</th>\n",
       "      <th>Fuel_Type</th>\n",
       "      <th>Transmission_Type</th>\n",
       "      <th>Price</th>\n",
       "    </tr>\n",
       "  </thead>\n",
       "  <tbody>\n",
       "    <tr>\n",
       "      <th>0</th>\n",
       "      <td>50,007 km</td>\n",
       "      <td>2014 Tata Nano XT TWIST</td>\n",
       "      <td>December 2014</td>\n",
       "      <td>First Owner</td>\n",
       "      <td>22/2/2021</td>\n",
       "      <td>Comp</td>\n",
       "      <td>DL11</td>\n",
       "      <td>Petrol</td>\n",
       "      <td>MANUAL</td>\n",
       "      <td>₹ 114,899</td>\n",
       "    </tr>\n",
       "    <tr>\n",
       "      <th>1</th>\n",
       "      <td>19,577 km</td>\n",
       "      <td>2016 Maruti Celerio ZXI OPT AMT</td>\n",
       "      <td>April 2016</td>\n",
       "      <td>First Owner</td>\n",
       "      <td>10/5/2021</td>\n",
       "      <td>Zero_Dep</td>\n",
       "      <td>DL6C</td>\n",
       "      <td>Petrol</td>\n",
       "      <td>AUTOMATIC</td>\n",
       "      <td>₹ 368,499</td>\n",
       "    </tr>\n",
       "    <tr>\n",
       "      <th>2</th>\n",
       "      <td>57,650 km</td>\n",
       "      <td>2011 Maruti Wagon R 1.0 LXI CNG</td>\n",
       "      <td>May 2011</td>\n",
       "      <td>Second Owner</td>\n",
       "      <td>20/9/2021</td>\n",
       "      <td>Third_party</td>\n",
       "      <td>DL8C</td>\n",
       "      <td>Petrol + CNG</td>\n",
       "      <td>MANUAL</td>\n",
       "      <td>₹ 196,199</td>\n",
       "    </tr>\n",
       "    <tr>\n",
       "      <th>3</th>\n",
       "      <td>47,447 km</td>\n",
       "      <td>2010 Hyundai Santro Xing GLS</td>\n",
       "      <td>March 2010</td>\n",
       "      <td>First Owner</td>\n",
       "      <td>27/3/2021</td>\n",
       "      <td>Comp</td>\n",
       "      <td>DL3C</td>\n",
       "      <td>Petrol + CNG</td>\n",
       "      <td>MANUAL</td>\n",
       "      <td>₹ 156,460</td>\n",
       "    </tr>\n",
       "    <tr>\n",
       "      <th>4</th>\n",
       "      <td>13,337 km</td>\n",
       "      <td>2016 Maruti Alto K10 LXI</td>\n",
       "      <td>May 2016</td>\n",
       "      <td>First Owner</td>\n",
       "      <td>2/11/2021</td>\n",
       "      <td>Expired</td>\n",
       "      <td>DL6C</td>\n",
       "      <td>Petrol</td>\n",
       "      <td>MANUAL</td>\n",
       "      <td>₹ 293,447</td>\n",
       "    </tr>\n",
       "    <tr>\n",
       "      <th>...</th>\n",
       "      <td>...</td>\n",
       "      <td>...</td>\n",
       "      <td>...</td>\n",
       "      <td>...</td>\n",
       "      <td>...</td>\n",
       "      <td>...</td>\n",
       "      <td>...</td>\n",
       "      <td>...</td>\n",
       "      <td>...</td>\n",
       "      <td>...</td>\n",
       "    </tr>\n",
       "    <tr>\n",
       "      <th>2373</th>\n",
       "      <td>4,640 km</td>\n",
       "      <td>2011 Hyundai i20 ASTA 1.2</td>\n",
       "      <td>April 2015</td>\n",
       "      <td>First Owner</td>\n",
       "      <td>28/5/2021</td>\n",
       "      <td>Comprehensive</td>\n",
       "      <td>DL2C</td>\n",
       "      <td>NA</td>\n",
       "      <td>MANUAL</td>\n",
       "      <td>₹ 200,000</td>\n",
       "    </tr>\n",
       "    <tr>\n",
       "      <th>2374</th>\n",
       "      <td>56,245 km</td>\n",
       "      <td>2012 Mahindra XUV500 W8 FWD</td>\n",
       "      <td>April 2010</td>\n",
       "      <td>Second Owner</td>\n",
       "      <td>12/5/2021</td>\n",
       "      <td>Zero_Dep</td>\n",
       "      <td>DL1C</td>\n",
       "      <td>Petrol</td>\n",
       "      <td>MANUAL</td>\n",
       "      <td>₹ 415,000</td>\n",
       "    </tr>\n",
       "    <tr>\n",
       "      <th>2375</th>\n",
       "      <td>43,850 km</td>\n",
       "      <td>2019 Jeep Compass 1.4 LIMITED PLUS AT</td>\n",
       "      <td>April 2016</td>\n",
       "      <td>First Owner</td>\n",
       "      <td>1/11/2021</td>\n",
       "      <td>Zero Depreciation</td>\n",
       "      <td>DL10</td>\n",
       "      <td>Diesel</td>\n",
       "      <td>MANUAL</td>\n",
       "      <td>₹ 1,850,000</td>\n",
       "    </tr>\n",
       "    <tr>\n",
       "      <th>2376</th>\n",
       "      <td>83,470 km</td>\n",
       "      <td>2013 Maruti Swift VDI</td>\n",
       "      <td>September 2011</td>\n",
       "      <td>First Owner</td>\n",
       "      <td>27/1/2021</td>\n",
       "      <td>NA</td>\n",
       "      <td>DL2C</td>\n",
       "      <td>NA</td>\n",
       "      <td>MANUAL</td>\n",
       "      <td>₹ 280,000</td>\n",
       "    </tr>\n",
       "    <tr>\n",
       "      <th>2377</th>\n",
       "      <td>16,640 km</td>\n",
       "      <td>2008 Hyundai i10 MAGNA 1.1 IRDE2</td>\n",
       "      <td>April 2019</td>\n",
       "      <td>First Owner</td>\n",
       "      <td>19/1/2021</td>\n",
       "      <td>3rd Party</td>\n",
       "      <td>DL4C</td>\n",
       "      <td>Petrol</td>\n",
       "      <td>MANUAL</td>\n",
       "      <td>₹ 131,495</td>\n",
       "    </tr>\n",
       "  </tbody>\n",
       "</table>\n",
       "<p>2378 rows × 10 columns</p>\n",
       "</div>"
      ],
      "text/plain": [
       "     Kilometers                             cars_model            Year  \\\n",
       "0     50,007 km                2014 Tata Nano XT TWIST   December 2014   \n",
       "1     19,577 km        2016 Maruti Celerio ZXI OPT AMT      April 2016   \n",
       "2     57,650 km        2011 Maruti Wagon R 1.0 LXI CNG        May 2011   \n",
       "3     47,447 km           2010 Hyundai Santro Xing GLS      March 2010   \n",
       "4     13,337 km               2016 Maruti Alto K10 LXI        May 2016   \n",
       "...         ...                                    ...             ...   \n",
       "2373   4,640 km              2011 Hyundai i20 ASTA 1.2      April 2015   \n",
       "2374  56,245 km            2012 Mahindra XUV500 W8 FWD      April 2010   \n",
       "2375  43,850 km  2019 Jeep Compass 1.4 LIMITED PLUS AT      April 2016   \n",
       "2376  83,470 km                  2013 Maruti Swift VDI  September 2011   \n",
       "2377  16,640 km       2008 Hyundai i10 MAGNA 1.1 IRDE2      April 2019   \n",
       "\n",
       "        Owner_Type Insurance_Date     Insurance_Type   RTO     Fuel_Type  \\\n",
       "0      First Owner      22/2/2021               Comp  DL11        Petrol   \n",
       "1      First Owner      10/5/2021           Zero_Dep  DL6C        Petrol   \n",
       "2     Second Owner      20/9/2021        Third_party  DL8C  Petrol + CNG   \n",
       "3      First Owner      27/3/2021               Comp  DL3C  Petrol + CNG   \n",
       "4      First Owner      2/11/2021            Expired  DL6C        Petrol   \n",
       "...            ...            ...                ...   ...           ...   \n",
       "2373   First Owner      28/5/2021      Comprehensive  DL2C            NA   \n",
       "2374  Second Owner      12/5/2021           Zero_Dep  DL1C        Petrol   \n",
       "2375   First Owner      1/11/2021  Zero Depreciation  DL10        Diesel   \n",
       "2376   First Owner      27/1/2021                 NA  DL2C            NA   \n",
       "2377   First Owner      19/1/2021          3rd Party  DL4C        Petrol   \n",
       "\n",
       "     Transmission_Type        Price  \n",
       "0               MANUAL    ₹ 114,899  \n",
       "1            AUTOMATIC    ₹ 368,499  \n",
       "2               MANUAL    ₹ 196,199  \n",
       "3               MANUAL    ₹ 156,460  \n",
       "4               MANUAL    ₹ 293,447  \n",
       "...                ...          ...  \n",
       "2373            MANUAL    ₹ 200,000  \n",
       "2374            MANUAL    ₹ 415,000  \n",
       "2375            MANUAL  ₹ 1,850,000  \n",
       "2376            MANUAL    ₹ 280,000  \n",
       "2377            MANUAL    ₹ 131,495  \n",
       "\n",
       "[2378 rows x 10 columns]"
      ]
     },
     "execution_count": 13,
     "metadata": {},
     "output_type": "execute_result"
    }
   ],
   "source": [
    "df1"
   ]
  },
  {
   "cell_type": "code",
   "execution_count": 15,
   "metadata": {
    "ExecuteTime": {
     "end_time": "2021-02-20T18:15:11.067206Z",
     "start_time": "2021-02-20T18:15:11.056735Z"
    }
   },
   "outputs": [
    {
     "data": {
      "text/plain": [
       "2136"
      ]
     },
     "execution_count": 15,
     "metadata": {},
     "output_type": "execute_result"
    }
   ],
   "source": [
    "# g = ['MANUAL','AUTOMATIC']\n",
    "len(df1[df1['Transmission_Type']=='MANUAL'])"
   ]
  },
  {
   "cell_type": "code",
   "execution_count": 16,
   "metadata": {
    "ExecuteTime": {
     "end_time": "2021-02-20T18:15:40.346002Z",
     "start_time": "2021-02-20T18:15:40.337632Z"
    }
   },
   "outputs": [
    {
     "data": {
      "text/plain": [
       "89"
      ]
     },
     "execution_count": 16,
     "metadata": {},
     "output_type": "execute_result"
    }
   ],
   "source": [
    "len(df1[df1['Transmission_Type']=='AUTOMATIC'])"
   ]
  },
  {
   "cell_type": "code",
   "execution_count": 17,
   "metadata": {
    "ExecuteTime": {
     "end_time": "2021-02-20T18:16:01.456429Z",
     "start_time": "2021-02-20T18:16:01.449797Z"
    }
   },
   "outputs": [
    {
     "data": {
      "text/plain": [
       "2378"
      ]
     },
     "execution_count": 17,
     "metadata": {},
     "output_type": "execute_result"
    }
   ],
   "source": [
    "len(df1['Transmission_Type'])"
   ]
  },
  {
   "cell_type": "code",
   "execution_count": 18,
   "metadata": {
    "ExecuteTime": {
     "end_time": "2021-02-20T18:04:17.235529Z",
     "start_time": "2021-02-20T18:04:17.215351Z"
    }
   },
   "outputs": [],
   "source": [
    "df1.to_csv('car24_1k_records.csv')"
   ]
  },
  {
   "cell_type": "code",
   "execution_count": 19,
   "metadata": {
    "ExecuteTime": {
     "end_time": "2021-02-21T06:23:59.171548Z",
     "start_time": "2021-02-21T06:23:59.142733Z"
    }
   },
   "outputs": [],
   "source": [
    "data = pd.read_csv('car24_1k_records.csv')"
   ]
  },
  {
   "cell_type": "code",
   "execution_count": null,
   "metadata": {
    "ExecuteTime": {
     "end_time": "2021-02-21T06:24:02.213933Z",
     "start_time": "2021-02-21T06:24:02.158326Z"
    }
   },
   "outputs": [],
   "source": [
    "data"
   ]
  },
  {
   "cell_type": "code",
   "execution_count": null,
   "metadata": {},
   "outputs": [],
   "source": []
  },
  {
   "cell_type": "code",
   "execution_count": null,
   "metadata": {},
   "outputs": [],
   "source": []
  },
  {
   "cell_type": "code",
   "execution_count": null,
   "metadata": {},
   "outputs": [],
   "source": []
  },
  {
   "cell_type": "code",
   "execution_count": null,
   "metadata": {},
   "outputs": [],
   "source": []
  },
  {
   "cell_type": "code",
   "execution_count": null,
   "metadata": {},
   "outputs": [],
   "source": []
  },
  {
   "cell_type": "code",
   "execution_count": null,
   "metadata": {},
   "outputs": [],
   "source": []
  },
  {
   "cell_type": "code",
   "execution_count": null,
   "metadata": {},
   "outputs": [],
   "source": []
  },
  {
   "cell_type": "code",
   "execution_count": null,
   "metadata": {},
   "outputs": [],
   "source": []
  },
  {
   "cell_type": "code",
   "execution_count": null,
   "metadata": {},
   "outputs": [],
   "source": []
  },
  {
   "cell_type": "code",
   "execution_count": null,
   "metadata": {},
   "outputs": [],
   "source": []
  },
  {
   "cell_type": "code",
   "execution_count": null,
   "metadata": {},
   "outputs": [],
   "source": []
  },
  {
   "cell_type": "code",
   "execution_count": null,
   "metadata": {},
   "outputs": [],
   "source": []
  },
  {
   "cell_type": "code",
   "execution_count": null,
   "metadata": {},
   "outputs": [],
   "source": []
  },
  {
   "cell_type": "code",
   "execution_count": null,
   "metadata": {
    "ExecuteTime": {
     "end_time": "2021-02-20T16:54:40.769495Z",
     "start_time": "2021-02-20T16:54:40.750297Z"
    }
   },
   "outputs": [],
   "source": []
  },
  {
   "cell_type": "code",
   "execution_count": null,
   "metadata": {
    "ExecuteTime": {
     "end_time": "2021-02-20T14:58:16.489390Z",
     "start_time": "2021-02-20T14:58:16.475178Z"
    }
   },
   "outputs": [],
   "source": [
    "print(len(km))\n",
    "print(len(car_model))\n",
    "print(len(year))\n",
    "print(len(owner_type))\n",
    "print(len(insurance_type))\n",
    "print(len(RTO))\n",
    "print(len(fuel_type))\n",
    "print(len(transmission_type))\n",
    "print((n))"
   ]
  },
  {
   "cell_type": "code",
   "execution_count": null,
   "metadata": {
    "ExecuteTime": {
     "end_time": "2021-02-20T16:47:54.935211Z",
     "start_time": "2021-02-20T16:47:54.915243Z"
    }
   },
   "outputs": [],
   "source": [
    "price_ = soup.find_all('div',{'class':'col-4'})[6]\n",
    "price_ = price_.find('h').getText()"
   ]
  },
  {
   "cell_type": "code",
   "execution_count": null,
   "metadata": {
    "ExecuteTime": {
     "end_time": "2021-02-20T16:47:06.869852Z",
     "start_time": "2021-02-20T16:47:05.459558Z"
    }
   },
   "outputs": [],
   "source": [
    "page = requests.get(link_list[1])\n",
    "soup = BeautifulSoup(page.text, 'html.parser')\n",
    "soup.find_all('div',{'class':'col-3'})[3].getText()"
   ]
  },
  {
   "cell_type": "code",
   "execution_count": null,
   "metadata": {
    "ExecuteTime": {
     "end_time": "2021-02-20T16:51:30.333923Z",
     "start_time": "2021-02-20T16:51:30.312541Z"
    }
   },
   "outputs": [],
   "source": [
    "price_ = soup.find_all('div',{'class':'col-4'})[0]\n",
    "price_ = price_.find('h4').getText()\n",
    "print(price_)"
   ]
  },
  {
   "cell_type": "code",
   "execution_count": null,
   "metadata": {
    "ExecuteTime": {
     "end_time": "2021-02-20T14:53:11.975305Z",
     "start_time": "2021-02-20T14:53:11.942082Z"
    }
   },
   "outputs": [],
   "source": []
  },
  {
   "cell_type": "code",
   "execution_count": null,
   "metadata": {
    "ExecuteTime": {
     "end_time": "2021-02-19T16:39:13.928443Z",
     "start_time": "2021-02-19T16:38:24.116027Z"
    }
   },
   "outputs": [],
   "source": [
    "# for j in range(len(car_url_list)):\n",
    "#     page = requests.get(car_url_list[j])\n",
    "#     soup = BeautifulSoup(page.text, 'html.parser')\n",
    "#     soup.find_all('div',{'class':'col-3'})[3]"
   ]
  },
  {
   "cell_type": "code",
   "execution_count": null,
   "metadata": {
    "ExecuteTime": {
     "end_time": "2021-02-20T14:28:16.809903Z",
     "start_time": "2021-02-20T14:28:07.249232Z"
    }
   },
   "outputs": [],
   "source": [
    "n = 0\n",
    "for i in range(30,40):\n",
    "    page1 = requests.get(link_list[i])\n",
    "    soup1 = BeautifulSoup(page1.text, 'html.parser')\n",
    "    c1 = soup1.find_all('div',{'class':'col-3'})\n",
    "    if not c1:\n",
    "        n = n+1\n",
    "print(n)"
   ]
  },
  {
   "cell_type": "code",
   "execution_count": null,
   "metadata": {
    "ExecuteTime": {
     "end_time": "2021-02-20T14:30:03.775847Z",
     "start_time": "2021-02-20T14:30:02.928092Z"
    },
    "scrolled": true
   },
   "outputs": [],
   "source": [
    "page1 = requests.get(link_list[500])\n",
    "soup1 = BeautifulSoup(page1.text, 'html.parser')\n",
    "c2 = soup1.find_all('div',{'class':'col-4'})"
   ]
  },
  {
   "cell_type": "code",
   "execution_count": null,
   "metadata": {
    "ExecuteTime": {
     "end_time": "2021-02-20T14:30:04.398665Z",
     "start_time": "2021-02-20T14:30:04.380655Z"
    }
   },
   "outputs": [],
   "source": [
    "car_model = soup1.find_all('div',{'class':'col-4'})[0]\n",
    "car_model.find('p').getText()#[5:17]"
   ]
  },
  {
   "cell_type": "code",
   "execution_count": null,
   "metadata": {
    "ExecuteTime": {
     "end_time": "2021-02-20T14:46:38.068442Z",
     "start_time": "2021-02-20T14:43:16.167Z"
    }
   },
   "outputs": [],
   "source": [
    "km = soup1.find_all('div',{'class':'col-3'})[0]\n",
    "km.find('p').getText()"
   ]
  },
  {
   "cell_type": "code",
   "execution_count": null,
   "metadata": {
    "ExecuteTime": {
     "end_time": "2021-02-20T14:29:03.196167Z",
     "start_time": "2021-02-20T14:29:03.182282Z"
    }
   },
   "outputs": [],
   "source": [
    "year = soup1.find_all('div',{'class':'col-3'})[1]\n",
    "year.find('p').getText()"
   ]
  },
  {
   "cell_type": "code",
   "execution_count": null,
   "metadata": {
    "ExecuteTime": {
     "end_time": "2021-02-20T11:31:59.543778Z",
     "start_time": "2021-02-20T11:31:59.519947Z"
    }
   },
   "outputs": [],
   "source": [
    "owner_type = soup1.find_all('div',{'class':'col-3'})[2]\n",
    "owner_type.find('p').getText()"
   ]
  },
  {
   "cell_type": "code",
   "execution_count": null,
   "metadata": {
    "ExecuteTime": {
     "end_time": "2021-02-20T11:32:02.705906Z",
     "start_time": "2021-02-20T11:32:02.685002Z"
    }
   },
   "outputs": [],
   "source": [
    "fuel_type = soup1.find_all('div',{'class':'col-3'})[3]\n",
    "fuel_type.find('p').getText()"
   ]
  },
  {
   "cell_type": "code",
   "execution_count": null,
   "metadata": {
    "ExecuteTime": {
     "end_time": "2021-02-20T11:32:04.047760Z",
     "start_time": "2021-02-20T11:32:04.024533Z"
    }
   },
   "outputs": [],
   "source": [
    "transmission_type = soup1.find_all('div',{'class':'col-3'})[4]\n",
    "transmission_type.find('p').getText()"
   ]
  },
  {
   "cell_type": "code",
   "execution_count": null,
   "metadata": {
    "ExecuteTime": {
     "end_time": "2021-02-20T11:32:04.971994Z",
     "start_time": "2021-02-20T11:32:04.950764Z"
    }
   },
   "outputs": [],
   "source": [
    "RTO = soup1.find_all('div',{'class':'col-3'})[5]\n",
    "RTO.find('p').getText()"
   ]
  },
  {
   "cell_type": "code",
   "execution_count": null,
   "metadata": {
    "ExecuteTime": {
     "end_time": "2021-02-20T11:32:07.586323Z",
     "start_time": "2021-02-20T11:32:07.566923Z"
    }
   },
   "outputs": [],
   "source": [
    "insurance_date = soup1.find_all('div',{'class':'col-3'})[6]\n",
    "insurance_date.find('p').getText()"
   ]
  },
  {
   "cell_type": "code",
   "execution_count": null,
   "metadata": {
    "ExecuteTime": {
     "end_time": "2021-02-20T16:43:37.915976Z",
     "start_time": "2021-02-20T16:43:37.901521Z"
    }
   },
   "outputs": [],
   "source": [
    "insurance_date = soup1.find_all('div',{'class':'media-body _3fGRT'})[6]\n",
    "insurance_date.find('p').getText()"
   ]
  },
  {
   "cell_type": "code",
   "execution_count": null,
   "metadata": {},
   "outputs": [],
   "source": []
  },
  {
   "cell_type": "code",
   "execution_count": null,
   "metadata": {},
   "outputs": [],
   "source": []
  },
  {
   "cell_type": "code",
   "execution_count": null,
   "metadata": {},
   "outputs": [],
   "source": []
  },
  {
   "cell_type": "code",
   "execution_count": null,
   "metadata": {},
   "outputs": [],
   "source": []
  },
  {
   "cell_type": "code",
   "execution_count": null,
   "metadata": {},
   "outputs": [],
   "source": []
  },
  {
   "cell_type": "code",
   "execution_count": null,
   "metadata": {},
   "outputs": [],
   "source": []
  },
  {
   "cell_type": "code",
   "execution_count": null,
   "metadata": {},
   "outputs": [],
   "source": []
  },
  {
   "cell_type": "code",
   "execution_count": null,
   "metadata": {},
   "outputs": [],
   "source": []
  },
  {
   "cell_type": "code",
   "execution_count": null,
   "metadata": {},
   "outputs": [],
   "source": []
  },
  {
   "cell_type": "code",
   "execution_count": null,
   "metadata": {},
   "outputs": [],
   "source": []
  },
  {
   "cell_type": "code",
   "execution_count": null,
   "metadata": {},
   "outputs": [],
   "source": []
  },
  {
   "cell_type": "code",
   "execution_count": null,
   "metadata": {},
   "outputs": [],
   "source": []
  },
  {
   "cell_type": "code",
   "execution_count": null,
   "metadata": {},
   "outputs": [],
   "source": []
  },
  {
   "cell_type": "code",
   "execution_count": null,
   "metadata": {},
   "outputs": [],
   "source": []
  },
  {
   "cell_type": "code",
   "execution_count": null,
   "metadata": {},
   "outputs": [],
   "source": []
  },
  {
   "cell_type": "code",
   "execution_count": null,
   "metadata": {},
   "outputs": [],
   "source": []
  },
  {
   "cell_type": "code",
   "execution_count": null,
   "metadata": {},
   "outputs": [],
   "source": []
  },
  {
   "cell_type": "code",
   "execution_count": null,
   "metadata": {},
   "outputs": [],
   "source": []
  },
  {
   "cell_type": "code",
   "execution_count": null,
   "metadata": {},
   "outputs": [],
   "source": []
  },
  {
   "cell_type": "code",
   "execution_count": null,
   "metadata": {},
   "outputs": [],
   "source": []
  },
  {
   "cell_type": "code",
   "execution_count": null,
   "metadata": {},
   "outputs": [],
   "source": []
  },
  {
   "cell_type": "code",
   "execution_count": null,
   "metadata": {},
   "outputs": [],
   "source": []
  },
  {
   "cell_type": "code",
   "execution_count": null,
   "metadata": {},
   "outputs": [],
   "source": []
  },
  {
   "cell_type": "code",
   "execution_count": null,
   "metadata": {},
   "outputs": [],
   "source": []
  },
  {
   "cell_type": "code",
   "execution_count": null,
   "metadata": {},
   "outputs": [],
   "source": []
  },
  {
   "cell_type": "code",
   "execution_count": null,
   "metadata": {},
   "outputs": [],
   "source": []
  },
  {
   "cell_type": "code",
   "execution_count": null,
   "metadata": {},
   "outputs": [],
   "source": []
  },
  {
   "cell_type": "code",
   "execution_count": null,
   "metadata": {},
   "outputs": [],
   "source": []
  },
  {
   "cell_type": "code",
   "execution_count": null,
   "metadata": {},
   "outputs": [],
   "source": []
  },
  {
   "cell_type": "code",
   "execution_count": null,
   "metadata": {},
   "outputs": [],
   "source": []
  },
  {
   "cell_type": "code",
   "execution_count": null,
   "metadata": {},
   "outputs": [],
   "source": []
  },
  {
   "cell_type": "code",
   "execution_count": null,
   "metadata": {},
   "outputs": [],
   "source": []
  },
  {
   "cell_type": "code",
   "execution_count": null,
   "metadata": {},
   "outputs": [],
   "source": []
  },
  {
   "cell_type": "code",
   "execution_count": null,
   "metadata": {},
   "outputs": [],
   "source": []
  },
  {
   "cell_type": "code",
   "execution_count": null,
   "metadata": {},
   "outputs": [],
   "source": []
  },
  {
   "cell_type": "code",
   "execution_count": null,
   "metadata": {},
   "outputs": [],
   "source": []
  },
  {
   "cell_type": "code",
   "execution_count": null,
   "metadata": {},
   "outputs": [],
   "source": []
  },
  {
   "cell_type": "code",
   "execution_count": null,
   "metadata": {},
   "outputs": [],
   "source": []
  },
  {
   "cell_type": "code",
   "execution_count": null,
   "metadata": {},
   "outputs": [],
   "source": []
  },
  {
   "cell_type": "code",
   "execution_count": null,
   "metadata": {},
   "outputs": [],
   "source": []
  },
  {
   "cell_type": "code",
   "execution_count": null,
   "metadata": {},
   "outputs": [],
   "source": []
  },
  {
   "cell_type": "code",
   "execution_count": null,
   "metadata": {},
   "outputs": [],
   "source": []
  },
  {
   "cell_type": "code",
   "execution_count": null,
   "metadata": {},
   "outputs": [],
   "source": []
  },
  {
   "cell_type": "code",
   "execution_count": null,
   "metadata": {},
   "outputs": [],
   "source": []
  },
  {
   "cell_type": "code",
   "execution_count": null,
   "metadata": {},
   "outputs": [],
   "source": []
  },
  {
   "cell_type": "code",
   "execution_count": null,
   "metadata": {},
   "outputs": [],
   "source": []
  },
  {
   "cell_type": "code",
   "execution_count": null,
   "metadata": {},
   "outputs": [],
   "source": []
  },
  {
   "cell_type": "code",
   "execution_count": null,
   "metadata": {},
   "outputs": [],
   "source": []
  },
  {
   "cell_type": "code",
   "execution_count": null,
   "metadata": {},
   "outputs": [],
   "source": []
  },
  {
   "cell_type": "code",
   "execution_count": null,
   "metadata": {},
   "outputs": [],
   "source": []
  },
  {
   "cell_type": "code",
   "execution_count": null,
   "metadata": {},
   "outputs": [],
   "source": []
  }
 ],
 "metadata": {
  "kernelspec": {
   "display_name": "Python 3",
   "language": "python",
   "name": "python3"
  },
  "language_info": {
   "codemirror_mode": {
    "name": "ipython",
    "version": 3
   },
   "file_extension": ".py",
   "mimetype": "text/x-python",
   "name": "python",
   "nbconvert_exporter": "python",
   "pygments_lexer": "ipython3",
   "version": "3.8.3"
  }
 },
 "nbformat": 4,
 "nbformat_minor": 4
}
